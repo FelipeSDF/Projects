{
 "cells": [
  {
   "cell_type": "markdown",
   "metadata": {},
   "source": [
    "# This project must be able to provide:\n",
    "\n",
    "### View the database (Table and Graph);\n",
    "### Fix empty cells (NaN) in the database;\n",
    "### Analyze cancellations;\n",
    "### Analysis of the cause of cancellations according to patterns in the graph."
   ]
  },
  {
   "cell_type": "code",
   "execution_count": 1,
   "metadata": {},
   "outputs": [
    {
     "data": {
      "text/html": [
       "<div>\n",
       "<style scoped>\n",
       "    .dataframe tbody tr th:only-of-type {\n",
       "        vertical-align: middle;\n",
       "    }\n",
       "\n",
       "    .dataframe tbody tr th {\n",
       "        vertical-align: top;\n",
       "    }\n",
       "\n",
       "    .dataframe thead th {\n",
       "        text-align: right;\n",
       "    }\n",
       "</style>\n",
       "<table border=\"1\" class=\"dataframe\">\n",
       "  <thead>\n",
       "    <tr style=\"text-align: right;\">\n",
       "      <th></th>\n",
       "      <th>idade</th>\n",
       "      <th>sexo</th>\n",
       "      <th>tempo_como_cliente</th>\n",
       "      <th>frequencia_uso</th>\n",
       "      <th>ligacoes_callcenter</th>\n",
       "      <th>dias_atraso</th>\n",
       "      <th>assinatura</th>\n",
       "      <th>duracao_contrato</th>\n",
       "      <th>total_gasto</th>\n",
       "      <th>meses_ultima_interacao</th>\n",
       "      <th>cancelou</th>\n",
       "    </tr>\n",
       "  </thead>\n",
       "  <tbody>\n",
       "    <tr>\n",
       "      <th>0</th>\n",
       "      <td>23.0</td>\n",
       "      <td>Male</td>\n",
       "      <td>13.0</td>\n",
       "      <td>22.0</td>\n",
       "      <td>2.0</td>\n",
       "      <td>1.0</td>\n",
       "      <td>Standard</td>\n",
       "      <td>Annual</td>\n",
       "      <td>909.58</td>\n",
       "      <td>23.0</td>\n",
       "      <td>0.0</td>\n",
       "    </tr>\n",
       "    <tr>\n",
       "      <th>1</th>\n",
       "      <td>49.0</td>\n",
       "      <td>Male</td>\n",
       "      <td>55.0</td>\n",
       "      <td>16.0</td>\n",
       "      <td>3.0</td>\n",
       "      <td>6.0</td>\n",
       "      <td>Premium</td>\n",
       "      <td>Monthly</td>\n",
       "      <td>207.00</td>\n",
       "      <td>29.0</td>\n",
       "      <td>1.0</td>\n",
       "    </tr>\n",
       "    <tr>\n",
       "      <th>2</th>\n",
       "      <td>30.0</td>\n",
       "      <td>Male</td>\n",
       "      <td>7.0</td>\n",
       "      <td>1.0</td>\n",
       "      <td>0.0</td>\n",
       "      <td>8.0</td>\n",
       "      <td>Basic</td>\n",
       "      <td>Annual</td>\n",
       "      <td>768.78</td>\n",
       "      <td>7.0</td>\n",
       "      <td>0.0</td>\n",
       "    </tr>\n",
       "    <tr>\n",
       "      <th>3</th>\n",
       "      <td>26.0</td>\n",
       "      <td>Male</td>\n",
       "      <td>40.0</td>\n",
       "      <td>5.0</td>\n",
       "      <td>3.0</td>\n",
       "      <td>8.0</td>\n",
       "      <td>Premium</td>\n",
       "      <td>Annual</td>\n",
       "      <td>398.00</td>\n",
       "      <td>12.0</td>\n",
       "      <td>1.0</td>\n",
       "    </tr>\n",
       "    <tr>\n",
       "      <th>4</th>\n",
       "      <td>27.0</td>\n",
       "      <td>Female</td>\n",
       "      <td>17.0</td>\n",
       "      <td>30.0</td>\n",
       "      <td>5.0</td>\n",
       "      <td>6.0</td>\n",
       "      <td>Basic</td>\n",
       "      <td>Annual</td>\n",
       "      <td>507.00</td>\n",
       "      <td>15.0</td>\n",
       "      <td>1.0</td>\n",
       "    </tr>\n",
       "    <tr>\n",
       "      <th>...</th>\n",
       "      <td>...</td>\n",
       "      <td>...</td>\n",
       "      <td>...</td>\n",
       "      <td>...</td>\n",
       "      <td>...</td>\n",
       "      <td>...</td>\n",
       "      <td>...</td>\n",
       "      <td>...</td>\n",
       "      <td>...</td>\n",
       "      <td>...</td>\n",
       "      <td>...</td>\n",
       "    </tr>\n",
       "    <tr>\n",
       "      <th>995</th>\n",
       "      <td>37.0</td>\n",
       "      <td>Male</td>\n",
       "      <td>8.0</td>\n",
       "      <td>12.0</td>\n",
       "      <td>3.0</td>\n",
       "      <td>14.0</td>\n",
       "      <td>Basic</td>\n",
       "      <td>Annual</td>\n",
       "      <td>569.27</td>\n",
       "      <td>30.0</td>\n",
       "      <td>0.0</td>\n",
       "    </tr>\n",
       "    <tr>\n",
       "      <th>996</th>\n",
       "      <td>21.0</td>\n",
       "      <td>Female</td>\n",
       "      <td>38.0</td>\n",
       "      <td>27.0</td>\n",
       "      <td>4.0</td>\n",
       "      <td>24.0</td>\n",
       "      <td>Basic</td>\n",
       "      <td>Annual</td>\n",
       "      <td>856.00</td>\n",
       "      <td>24.0</td>\n",
       "      <td>1.0</td>\n",
       "    </tr>\n",
       "    <tr>\n",
       "      <th>997</th>\n",
       "      <td>19.0</td>\n",
       "      <td>Female</td>\n",
       "      <td>50.0</td>\n",
       "      <td>3.0</td>\n",
       "      <td>8.0</td>\n",
       "      <td>20.0</td>\n",
       "      <td>Premium</td>\n",
       "      <td>Quarterly</td>\n",
       "      <td>449.00</td>\n",
       "      <td>24.0</td>\n",
       "      <td>1.0</td>\n",
       "    </tr>\n",
       "    <tr>\n",
       "      <th>998</th>\n",
       "      <td>41.0</td>\n",
       "      <td>Male</td>\n",
       "      <td>14.0</td>\n",
       "      <td>26.0</td>\n",
       "      <td>3.0</td>\n",
       "      <td>3.0</td>\n",
       "      <td>Basic</td>\n",
       "      <td>Quarterly</td>\n",
       "      <td>854.19</td>\n",
       "      <td>22.0</td>\n",
       "      <td>0.0</td>\n",
       "    </tr>\n",
       "    <tr>\n",
       "      <th>999</th>\n",
       "      <td>30.0</td>\n",
       "      <td>Female</td>\n",
       "      <td>7.0</td>\n",
       "      <td>5.0</td>\n",
       "      <td>1.0</td>\n",
       "      <td>15.0</td>\n",
       "      <td>Basic</td>\n",
       "      <td>Quarterly</td>\n",
       "      <td>496.00</td>\n",
       "      <td>14.0</td>\n",
       "      <td>1.0</td>\n",
       "    </tr>\n",
       "  </tbody>\n",
       "</table>\n",
       "<p>1000 rows × 11 columns</p>\n",
       "</div>"
      ],
      "text/plain": [
       "     idade    sexo  tempo_como_cliente  frequencia_uso  ligacoes_callcenter  \\\n",
       "0     23.0    Male                13.0            22.0                  2.0   \n",
       "1     49.0    Male                55.0            16.0                  3.0   \n",
       "2     30.0    Male                 7.0             1.0                  0.0   \n",
       "3     26.0    Male                40.0             5.0                  3.0   \n",
       "4     27.0  Female                17.0            30.0                  5.0   \n",
       "..     ...     ...                 ...             ...                  ...   \n",
       "995   37.0    Male                 8.0            12.0                  3.0   \n",
       "996   21.0  Female                38.0            27.0                  4.0   \n",
       "997   19.0  Female                50.0             3.0                  8.0   \n",
       "998   41.0    Male                14.0            26.0                  3.0   \n",
       "999   30.0  Female                 7.0             5.0                  1.0   \n",
       "\n",
       "     dias_atraso assinatura duracao_contrato  total_gasto  \\\n",
       "0            1.0   Standard           Annual       909.58   \n",
       "1            6.0    Premium          Monthly       207.00   \n",
       "2            8.0      Basic           Annual       768.78   \n",
       "3            8.0    Premium           Annual       398.00   \n",
       "4            6.0      Basic           Annual       507.00   \n",
       "..           ...        ...              ...          ...   \n",
       "995         14.0      Basic           Annual       569.27   \n",
       "996         24.0      Basic           Annual       856.00   \n",
       "997         20.0    Premium        Quarterly       449.00   \n",
       "998          3.0      Basic        Quarterly       854.19   \n",
       "999         15.0      Basic        Quarterly       496.00   \n",
       "\n",
       "     meses_ultima_interacao  cancelou  \n",
       "0                      23.0       0.0  \n",
       "1                      29.0       1.0  \n",
       "2                       7.0       0.0  \n",
       "3                      12.0       1.0  \n",
       "4                      15.0       1.0  \n",
       "..                      ...       ...  \n",
       "995                    30.0       0.0  \n",
       "996                    24.0       1.0  \n",
       "997                    24.0       1.0  \n",
       "998                    22.0       0.0  \n",
       "999                    14.0       1.0  \n",
       "\n",
       "[1000 rows x 11 columns]"
      ]
     },
     "metadata": {},
     "output_type": "display_data"
    }
   ],
   "source": [
    "# Import pandas / Declare the Database\n",
    "# !pip install pandas\n",
    "\n",
    "# Importar a base de dados\n",
    "import pandas as pd\n",
    "\n",
    "tabela = pd.read_csv(\"total_cancelamentos.csv\")\n",
    "\n",
    "# View the database\n",
    "tabela = tabela.drop(columns=\"CustomerID\")\n",
    "display(tabela)\n",
    "# useless columns - information that doesn't help you, hinders you"
   ]
  },
  {
   "cell_type": "code",
   "execution_count": 2,
   "metadata": {},
   "outputs": [
    {
     "name": "stdout",
     "output_type": "stream",
     "text": [
      "<class 'pandas.core.frame.DataFrame'>\n",
      "RangeIndex: 1000 entries, 0 to 999\n",
      "Data columns (total 11 columns):\n",
      " #   Column                  Non-Null Count  Dtype  \n",
      "---  ------                  --------------  -----  \n",
      " 0   idade                   1000 non-null   float64\n",
      " 1   sexo                    997 non-null    object \n",
      " 2   tempo_como_cliente      998 non-null    float64\n",
      " 3   frequencia_uso          1000 non-null   float64\n",
      " 4   ligacoes_callcenter     1000 non-null   float64\n",
      " 5   dias_atraso             1000 non-null   float64\n",
      " 6   assinatura              1000 non-null   object \n",
      " 7   duracao_contrato        1000 non-null   object \n",
      " 8   total_gasto             1000 non-null   float64\n",
      " 9   meses_ultima_interacao  1000 non-null   float64\n",
      " 10  cancelou                1000 non-null   float64\n",
      "dtypes: float64(8), object(3)\n",
      "memory usage: 86.1+ KB\n"
     ]
    },
    {
     "data": {
      "text/plain": [
       "None"
      ]
     },
     "metadata": {},
     "output_type": "display_data"
    },
    {
     "name": "stdout",
     "output_type": "stream",
     "text": [
      "<class 'pandas.core.frame.DataFrame'>\n",
      "Index: 996 entries, 0 to 999\n",
      "Data columns (total 11 columns):\n",
      " #   Column                  Non-Null Count  Dtype  \n",
      "---  ------                  --------------  -----  \n",
      " 0   idade                   996 non-null    float64\n",
      " 1   sexo                    996 non-null    object \n",
      " 2   tempo_como_cliente      996 non-null    float64\n",
      " 3   frequencia_uso          996 non-null    float64\n",
      " 4   ligacoes_callcenter     996 non-null    float64\n",
      " 5   dias_atraso             996 non-null    float64\n",
      " 6   assinatura              996 non-null    object \n",
      " 7   duracao_contrato        996 non-null    object \n",
      " 8   total_gasto             996 non-null    float64\n",
      " 9   meses_ultima_interacao  996 non-null    float64\n",
      " 10  cancelou                996 non-null    float64\n",
      "dtypes: float64(8), object(3)\n",
      "memory usage: 93.4+ KB\n"
     ]
    },
    {
     "data": {
      "text/plain": [
       "None"
      ]
     },
     "metadata": {},
     "output_type": "display_data"
    }
   ],
   "source": [
    "# Fix empty cells in the database:\n",
    "\n",
    "display(tabela.info())\n",
    "\n",
    "# empty values ​​- excludes rows that have empty values\n",
    "tabela = tabela.dropna()\n",
    "\n",
    "display(tabela.info())"
   ]
  },
  {
   "cell_type": "code",
   "execution_count": 3,
   "metadata": {},
   "outputs": [
    {
     "data": {
      "text/plain": [
       "cancelou\n",
       "1.0    570\n",
       "0.0    426\n",
       "Name: count, dtype: int64"
      ]
     },
     "metadata": {},
     "output_type": "display_data"
    },
    {
     "data": {
      "text/plain": [
       "cancelou\n",
       "1.0    0.572289\n",
       "0.0    0.427711\n",
       "Name: proportion, dtype: float64"
      ]
     },
     "metadata": {},
     "output_type": "display_data"
    }
   ],
   "source": [
    "#Initial analysis of cancellations\n",
    "\n",
    "# how many people canceled and how many didn't cancel\n",
    "display(tabela[\"cancelou\"].value_counts())\n",
    "\n",
    "# in percentage\n",
    "display(tabela[\"cancelou\"].value_counts(normalize=True))\n",
    "# display(tabela[\"cancelou\"].value_counts(normalize=True).map(\"{:.1%}\".format))"
   ]
  },
  {
   "cell_type": "code",
   "execution_count": 4,
   "metadata": {},
   "outputs": [
    {
     "data": {
      "application/vnd.plotly.v1+json": {
       "config": {
        "plotlyServerURL": "https://plot.ly"
       },
       "data": [
        {
         "alignmentgroup": "True",
         "bingroup": "x",
         "hovertemplate": "cancelou=0.0<br>idade=%{x}<br>count=%{y}<extra></extra>",
         "legendgroup": "0.0",
         "marker": {
          "color": "#636efa",
          "pattern": {
           "shape": ""
          }
         },
         "name": "0.0",
         "offsetgroup": "0.0",
         "orientation": "v",
         "showlegend": true,
         "type": "histogram",
         "x": [
          23,
          30,
          49,
          33,
          19,
          27,
          23,
          39,
          31,
          43,
          34,
          48,
          39,
          50,
          31,
          22,
          29,
          34,
          50,
          48,
          50,
          35,
          30,
          49,
          24,
          49,
          33,
          47,
          38,
          39,
          41,
          47,
          25,
          32,
          28,
          40,
          36,
          29,
          43,
          40,
          48,
          30,
          46,
          29,
          50,
          22,
          40,
          39,
          33,
          41,
          36,
          32,
          30,
          42,
          34,
          48,
          18,
          30,
          35,
          18,
          37,
          41,
          22,
          39,
          25,
          30,
          33,
          43,
          47,
          36,
          39,
          44,
          50,
          40,
          24,
          39,
          50,
          42,
          37,
          49,
          41,
          39,
          41,
          48,
          32,
          41,
          49,
          30,
          32,
          43,
          49,
          20,
          42,
          36,
          47,
          27,
          22,
          44,
          34,
          40,
          41,
          22,
          32,
          43,
          50,
          18,
          26,
          48,
          38,
          37,
          49,
          35,
          47,
          48,
          40,
          40,
          49,
          32,
          31,
          19,
          42,
          37,
          35,
          27,
          27,
          25,
          36,
          23,
          39,
          39,
          46,
          43,
          27,
          35,
          48,
          47,
          39,
          35,
          50,
          39,
          25,
          46,
          45,
          50,
          27,
          49,
          45,
          43,
          19,
          46,
          22,
          34,
          43,
          32,
          50,
          43,
          47,
          44,
          50,
          27,
          35,
          23,
          33,
          18,
          36,
          48,
          44,
          29,
          28,
          38,
          46,
          23,
          47,
          25,
          37,
          32,
          39,
          39,
          40,
          48,
          40,
          49,
          50,
          47,
          38,
          39,
          44,
          19,
          37,
          31,
          30,
          32,
          42,
          44,
          48,
          50,
          23,
          20,
          44,
          50,
          25,
          33,
          49,
          49,
          44,
          42,
          35,
          31,
          19,
          47,
          34,
          32,
          30,
          29,
          37,
          24,
          44,
          44,
          39,
          29,
          21,
          26,
          20,
          44,
          48,
          39,
          20,
          20,
          35,
          48,
          32,
          36,
          31,
          48,
          44,
          39,
          21,
          38,
          45,
          31,
          40,
          36,
          28,
          39,
          44,
          47,
          50,
          28,
          47,
          49,
          47,
          46,
          42,
          49,
          24,
          37,
          49,
          33,
          36,
          40,
          43,
          48,
          31,
          21,
          41,
          24,
          49,
          22,
          50,
          35,
          22,
          48,
          46,
          21,
          22,
          20,
          22,
          49,
          49,
          42,
          39,
          30,
          21,
          30,
          43,
          43,
          50,
          30,
          36,
          38,
          21,
          45,
          45,
          20,
          26,
          30,
          31,
          32,
          33,
          33,
          34,
          41,
          40,
          29,
          33,
          37,
          36,
          42,
          38,
          36,
          36,
          41,
          34,
          32,
          46,
          23,
          21,
          49,
          22,
          37,
          37,
          44,
          42,
          44,
          43,
          19,
          46,
          42,
          49,
          21,
          47,
          43,
          22,
          38,
          42,
          47,
          32,
          23,
          39,
          18,
          24,
          44,
          47,
          46,
          28,
          36,
          44,
          27,
          34,
          47,
          48,
          30,
          26,
          26,
          48,
          44,
          45,
          39,
          24,
          43,
          26,
          41,
          26,
          32,
          39,
          49,
          34,
          41,
          44,
          48,
          18,
          43,
          41,
          30,
          42,
          32,
          49,
          47,
          40,
          36,
          42,
          38,
          25,
          31,
          32,
          21,
          44,
          29,
          29,
          48,
          44,
          23,
          42,
          43,
          48,
          37,
          23,
          37,
          50,
          31,
          36,
          42,
          31,
          24,
          39,
          45,
          44,
          36,
          48,
          30,
          29,
          38,
          37,
          40,
          49,
          33,
          49,
          43,
          50,
          47,
          49,
          40,
          44,
          49,
          37,
          41
         ],
         "xaxis": "x",
         "yaxis": "y"
        },
        {
         "alignmentgroup": "True",
         "bingroup": "x",
         "hovertemplate": "cancelou=1.0<br>idade=%{x}<br>count=%{y}<extra></extra>",
         "legendgroup": "1.0",
         "marker": {
          "color": "#EF553B",
          "pattern": {
           "shape": ""
          }
         },
         "name": "1.0",
         "offsetgroup": "1.0",
         "orientation": "v",
         "showlegend": true,
         "type": "histogram",
         "x": [
          49,
          26,
          27,
          47,
          43,
          54,
          59,
          50,
          33,
          34,
          33,
          38,
          64,
          56,
          64,
          55,
          29,
          54,
          60,
          55,
          57,
          54,
          35,
          44,
          32,
          34,
          35,
          18,
          60,
          44,
          63,
          55,
          59,
          26,
          29,
          65,
          65,
          49,
          33,
          28,
          60,
          44,
          23,
          39,
          36,
          21,
          43,
          21,
          34,
          55,
          25,
          64,
          60,
          23,
          36,
          61,
          33,
          23,
          32,
          55,
          30,
          28,
          33,
          50,
          34,
          40,
          38,
          23,
          38,
          32,
          33,
          43,
          29,
          33,
          35,
          25,
          49,
          22,
          51,
          53,
          57,
          64,
          54,
          18,
          42,
          39,
          30,
          42,
          44,
          63,
          18,
          40,
          37,
          65,
          40,
          64,
          30,
          39,
          58,
          62,
          25,
          48,
          47,
          37,
          33,
          26,
          58,
          19,
          54,
          65,
          43,
          42,
          59,
          60,
          55,
          46,
          30,
          31,
          55,
          20,
          53,
          29,
          50,
          26,
          50,
          30,
          23,
          24,
          57,
          61,
          31,
          59,
          31,
          23,
          41,
          36,
          58,
          59,
          34,
          57,
          50,
          20,
          65,
          56,
          39,
          26,
          52,
          56,
          33,
          64,
          40,
          28,
          56,
          34,
          22,
          48,
          58,
          18,
          38,
          32,
          36,
          19,
          62,
          29,
          18,
          42,
          30,
          27,
          48,
          18,
          39,
          56,
          52,
          31,
          35,
          33,
          37,
          46,
          59,
          43,
          28,
          23,
          46,
          25,
          23,
          36,
          18,
          45,
          35,
          45,
          27,
          46,
          23,
          44,
          48,
          42,
          31,
          61,
          18,
          21,
          51,
          33,
          38,
          30,
          38,
          24,
          22,
          35,
          51,
          44,
          48,
          39,
          20,
          57,
          63,
          30,
          63,
          37,
          53,
          53,
          64,
          28,
          32,
          28,
          40,
          30,
          49,
          52,
          28,
          45,
          52,
          55,
          51,
          60,
          31,
          52,
          22,
          48,
          35,
          19,
          65,
          47,
          55,
          57,
          25,
          28,
          54,
          30,
          52,
          29,
          30,
          57,
          54,
          35,
          58,
          33,
          45,
          18,
          57,
          22,
          23,
          30,
          30,
          39,
          54,
          32,
          59,
          47,
          57,
          41,
          46,
          45,
          20,
          37,
          30,
          18,
          45,
          60,
          65,
          44,
          30,
          18,
          41,
          49,
          65,
          44,
          54,
          30,
          29,
          57,
          38,
          29,
          58,
          49,
          19,
          27,
          41,
          42,
          37,
          65,
          62,
          57,
          59,
          48,
          35,
          54,
          40,
          55,
          59,
          39,
          55,
          25,
          49,
          53,
          30,
          56,
          35,
          22,
          34,
          64,
          33,
          37,
          43,
          53,
          34,
          54,
          56,
          32,
          42,
          30,
          34,
          22,
          42,
          42,
          46,
          43,
          39,
          63,
          21,
          53,
          30,
          48,
          61,
          58,
          32,
          47,
          52,
          22,
          28,
          41,
          64,
          21,
          38,
          60,
          19,
          40,
          41,
          59,
          36,
          46,
          38,
          35,
          32,
          20,
          30,
          46,
          53,
          47,
          54,
          61,
          44,
          43,
          41,
          41,
          19,
          46,
          47,
          30,
          22,
          35,
          34,
          41,
          23,
          36,
          21,
          34,
          38,
          18,
          53,
          20,
          58,
          18,
          47,
          35,
          44,
          27,
          44,
          57,
          39,
          43,
          38,
          59,
          23,
          19,
          44,
          63,
          26,
          44,
          42,
          27,
          44,
          56,
          46,
          26,
          20,
          64,
          33,
          40,
          34,
          58,
          62,
          47,
          52,
          62,
          49,
          32,
          29,
          31,
          48,
          19,
          53,
          21,
          57,
          29,
          30,
          44,
          29,
          26,
          59,
          24,
          30,
          19,
          55,
          62,
          28,
          25,
          60,
          58,
          28,
          41,
          26,
          45,
          42,
          62,
          43,
          37,
          20,
          48,
          60,
          41,
          46,
          57,
          26,
          48,
          50,
          35,
          31,
          52,
          57,
          41,
          51,
          44,
          36,
          62,
          39,
          23,
          57,
          56,
          52,
          50,
          55,
          34,
          24,
          46,
          48,
          22,
          31,
          37,
          42,
          50,
          40,
          45,
          26,
          65,
          56,
          62,
          43,
          32,
          55,
          40,
          29,
          27,
          24,
          34,
          27,
          40,
          45,
          31,
          55,
          30,
          52,
          59,
          32,
          63,
          22,
          23,
          31,
          27,
          34,
          43,
          28,
          26,
          47,
          53,
          31,
          58,
          58,
          53,
          41,
          54,
          46,
          22,
          25,
          19,
          65,
          26,
          29,
          33,
          56,
          42,
          18,
          37,
          60,
          26,
          61,
          64,
          20,
          28,
          57,
          21,
          23,
          38,
          24,
          45,
          46,
          63,
          63,
          24,
          47,
          61,
          48,
          21,
          37,
          61,
          65,
          32,
          27,
          21,
          19,
          30
         ],
         "xaxis": "x",
         "yaxis": "y"
        }
       ],
       "layout": {
        "barmode": "relative",
        "legend": {
         "title": {
          "text": "cancelou"
         },
         "tracegroupgap": 0
        },
        "margin": {
         "t": 60
        },
        "template": {
         "data": {
          "bar": [
           {
            "error_x": {
             "color": "#2a3f5f"
            },
            "error_y": {
             "color": "#2a3f5f"
            },
            "marker": {
             "line": {
              "color": "#E5ECF6",
              "width": 0.5
             },
             "pattern": {
              "fillmode": "overlay",
              "size": 10,
              "solidity": 0.2
             }
            },
            "type": "bar"
           }
          ],
          "barpolar": [
           {
            "marker": {
             "line": {
              "color": "#E5ECF6",
              "width": 0.5
             },
             "pattern": {
              "fillmode": "overlay",
              "size": 10,
              "solidity": 0.2
             }
            },
            "type": "barpolar"
           }
          ],
          "carpet": [
           {
            "aaxis": {
             "endlinecolor": "#2a3f5f",
             "gridcolor": "white",
             "linecolor": "white",
             "minorgridcolor": "white",
             "startlinecolor": "#2a3f5f"
            },
            "baxis": {
             "endlinecolor": "#2a3f5f",
             "gridcolor": "white",
             "linecolor": "white",
             "minorgridcolor": "white",
             "startlinecolor": "#2a3f5f"
            },
            "type": "carpet"
           }
          ],
          "choropleth": [
           {
            "colorbar": {
             "outlinewidth": 0,
             "ticks": ""
            },
            "type": "choropleth"
           }
          ],
          "contour": [
           {
            "colorbar": {
             "outlinewidth": 0,
             "ticks": ""
            },
            "colorscale": [
             [
              0,
              "#0d0887"
             ],
             [
              0.1111111111111111,
              "#46039f"
             ],
             [
              0.2222222222222222,
              "#7201a8"
             ],
             [
              0.3333333333333333,
              "#9c179e"
             ],
             [
              0.4444444444444444,
              "#bd3786"
             ],
             [
              0.5555555555555556,
              "#d8576b"
             ],
             [
              0.6666666666666666,
              "#ed7953"
             ],
             [
              0.7777777777777778,
              "#fb9f3a"
             ],
             [
              0.8888888888888888,
              "#fdca26"
             ],
             [
              1,
              "#f0f921"
             ]
            ],
            "type": "contour"
           }
          ],
          "contourcarpet": [
           {
            "colorbar": {
             "outlinewidth": 0,
             "ticks": ""
            },
            "type": "contourcarpet"
           }
          ],
          "heatmap": [
           {
            "colorbar": {
             "outlinewidth": 0,
             "ticks": ""
            },
            "colorscale": [
             [
              0,
              "#0d0887"
             ],
             [
              0.1111111111111111,
              "#46039f"
             ],
             [
              0.2222222222222222,
              "#7201a8"
             ],
             [
              0.3333333333333333,
              "#9c179e"
             ],
             [
              0.4444444444444444,
              "#bd3786"
             ],
             [
              0.5555555555555556,
              "#d8576b"
             ],
             [
              0.6666666666666666,
              "#ed7953"
             ],
             [
              0.7777777777777778,
              "#fb9f3a"
             ],
             [
              0.8888888888888888,
              "#fdca26"
             ],
             [
              1,
              "#f0f921"
             ]
            ],
            "type": "heatmap"
           }
          ],
          "heatmapgl": [
           {
            "colorbar": {
             "outlinewidth": 0,
             "ticks": ""
            },
            "colorscale": [
             [
              0,
              "#0d0887"
             ],
             [
              0.1111111111111111,
              "#46039f"
             ],
             [
              0.2222222222222222,
              "#7201a8"
             ],
             [
              0.3333333333333333,
              "#9c179e"
             ],
             [
              0.4444444444444444,
              "#bd3786"
             ],
             [
              0.5555555555555556,
              "#d8576b"
             ],
             [
              0.6666666666666666,
              "#ed7953"
             ],
             [
              0.7777777777777778,
              "#fb9f3a"
             ],
             [
              0.8888888888888888,
              "#fdca26"
             ],
             [
              1,
              "#f0f921"
             ]
            ],
            "type": "heatmapgl"
           }
          ],
          "histogram": [
           {
            "marker": {
             "pattern": {
              "fillmode": "overlay",
              "size": 10,
              "solidity": 0.2
             }
            },
            "type": "histogram"
           }
          ],
          "histogram2d": [
           {
            "colorbar": {
             "outlinewidth": 0,
             "ticks": ""
            },
            "colorscale": [
             [
              0,
              "#0d0887"
             ],
             [
              0.1111111111111111,
              "#46039f"
             ],
             [
              0.2222222222222222,
              "#7201a8"
             ],
             [
              0.3333333333333333,
              "#9c179e"
             ],
             [
              0.4444444444444444,
              "#bd3786"
             ],
             [
              0.5555555555555556,
              "#d8576b"
             ],
             [
              0.6666666666666666,
              "#ed7953"
             ],
             [
              0.7777777777777778,
              "#fb9f3a"
             ],
             [
              0.8888888888888888,
              "#fdca26"
             ],
             [
              1,
              "#f0f921"
             ]
            ],
            "type": "histogram2d"
           }
          ],
          "histogram2dcontour": [
           {
            "colorbar": {
             "outlinewidth": 0,
             "ticks": ""
            },
            "colorscale": [
             [
              0,
              "#0d0887"
             ],
             [
              0.1111111111111111,
              "#46039f"
             ],
             [
              0.2222222222222222,
              "#7201a8"
             ],
             [
              0.3333333333333333,
              "#9c179e"
             ],
             [
              0.4444444444444444,
              "#bd3786"
             ],
             [
              0.5555555555555556,
              "#d8576b"
             ],
             [
              0.6666666666666666,
              "#ed7953"
             ],
             [
              0.7777777777777778,
              "#fb9f3a"
             ],
             [
              0.8888888888888888,
              "#fdca26"
             ],
             [
              1,
              "#f0f921"
             ]
            ],
            "type": "histogram2dcontour"
           }
          ],
          "mesh3d": [
           {
            "colorbar": {
             "outlinewidth": 0,
             "ticks": ""
            },
            "type": "mesh3d"
           }
          ],
          "parcoords": [
           {
            "line": {
             "colorbar": {
              "outlinewidth": 0,
              "ticks": ""
             }
            },
            "type": "parcoords"
           }
          ],
          "pie": [
           {
            "automargin": true,
            "type": "pie"
           }
          ],
          "scatter": [
           {
            "fillpattern": {
             "fillmode": "overlay",
             "size": 10,
             "solidity": 0.2
            },
            "type": "scatter"
           }
          ],
          "scatter3d": [
           {
            "line": {
             "colorbar": {
              "outlinewidth": 0,
              "ticks": ""
             }
            },
            "marker": {
             "colorbar": {
              "outlinewidth": 0,
              "ticks": ""
             }
            },
            "type": "scatter3d"
           }
          ],
          "scattercarpet": [
           {
            "marker": {
             "colorbar": {
              "outlinewidth": 0,
              "ticks": ""
             }
            },
            "type": "scattercarpet"
           }
          ],
          "scattergeo": [
           {
            "marker": {
             "colorbar": {
              "outlinewidth": 0,
              "ticks": ""
             }
            },
            "type": "scattergeo"
           }
          ],
          "scattergl": [
           {
            "marker": {
             "colorbar": {
              "outlinewidth": 0,
              "ticks": ""
             }
            },
            "type": "scattergl"
           }
          ],
          "scattermapbox": [
           {
            "marker": {
             "colorbar": {
              "outlinewidth": 0,
              "ticks": ""
             }
            },
            "type": "scattermapbox"
           }
          ],
          "scatterpolar": [
           {
            "marker": {
             "colorbar": {
              "outlinewidth": 0,
              "ticks": ""
             }
            },
            "type": "scatterpolar"
           }
          ],
          "scatterpolargl": [
           {
            "marker": {
             "colorbar": {
              "outlinewidth": 0,
              "ticks": ""
             }
            },
            "type": "scatterpolargl"
           }
          ],
          "scatterternary": [
           {
            "marker": {
             "colorbar": {
              "outlinewidth": 0,
              "ticks": ""
             }
            },
            "type": "scatterternary"
           }
          ],
          "surface": [
           {
            "colorbar": {
             "outlinewidth": 0,
             "ticks": ""
            },
            "colorscale": [
             [
              0,
              "#0d0887"
             ],
             [
              0.1111111111111111,
              "#46039f"
             ],
             [
              0.2222222222222222,
              "#7201a8"
             ],
             [
              0.3333333333333333,
              "#9c179e"
             ],
             [
              0.4444444444444444,
              "#bd3786"
             ],
             [
              0.5555555555555556,
              "#d8576b"
             ],
             [
              0.6666666666666666,
              "#ed7953"
             ],
             [
              0.7777777777777778,
              "#fb9f3a"
             ],
             [
              0.8888888888888888,
              "#fdca26"
             ],
             [
              1,
              "#f0f921"
             ]
            ],
            "type": "surface"
           }
          ],
          "table": [
           {
            "cells": {
             "fill": {
              "color": "#EBF0F8"
             },
             "line": {
              "color": "white"
             }
            },
            "header": {
             "fill": {
              "color": "#C8D4E3"
             },
             "line": {
              "color": "white"
             }
            },
            "type": "table"
           }
          ]
         },
         "layout": {
          "annotationdefaults": {
           "arrowcolor": "#2a3f5f",
           "arrowhead": 0,
           "arrowwidth": 1
          },
          "autotypenumbers": "strict",
          "coloraxis": {
           "colorbar": {
            "outlinewidth": 0,
            "ticks": ""
           }
          },
          "colorscale": {
           "diverging": [
            [
             0,
             "#8e0152"
            ],
            [
             0.1,
             "#c51b7d"
            ],
            [
             0.2,
             "#de77ae"
            ],
            [
             0.3,
             "#f1b6da"
            ],
            [
             0.4,
             "#fde0ef"
            ],
            [
             0.5,
             "#f7f7f7"
            ],
            [
             0.6,
             "#e6f5d0"
            ],
            [
             0.7,
             "#b8e186"
            ],
            [
             0.8,
             "#7fbc41"
            ],
            [
             0.9,
             "#4d9221"
            ],
            [
             1,
             "#276419"
            ]
           ],
           "sequential": [
            [
             0,
             "#0d0887"
            ],
            [
             0.1111111111111111,
             "#46039f"
            ],
            [
             0.2222222222222222,
             "#7201a8"
            ],
            [
             0.3333333333333333,
             "#9c179e"
            ],
            [
             0.4444444444444444,
             "#bd3786"
            ],
            [
             0.5555555555555556,
             "#d8576b"
            ],
            [
             0.6666666666666666,
             "#ed7953"
            ],
            [
             0.7777777777777778,
             "#fb9f3a"
            ],
            [
             0.8888888888888888,
             "#fdca26"
            ],
            [
             1,
             "#f0f921"
            ]
           ],
           "sequentialminus": [
            [
             0,
             "#0d0887"
            ],
            [
             0.1111111111111111,
             "#46039f"
            ],
            [
             0.2222222222222222,
             "#7201a8"
            ],
            [
             0.3333333333333333,
             "#9c179e"
            ],
            [
             0.4444444444444444,
             "#bd3786"
            ],
            [
             0.5555555555555556,
             "#d8576b"
            ],
            [
             0.6666666666666666,
             "#ed7953"
            ],
            [
             0.7777777777777778,
             "#fb9f3a"
            ],
            [
             0.8888888888888888,
             "#fdca26"
            ],
            [
             1,
             "#f0f921"
            ]
           ]
          },
          "colorway": [
           "#636efa",
           "#EF553B",
           "#00cc96",
           "#ab63fa",
           "#FFA15A",
           "#19d3f3",
           "#FF6692",
           "#B6E880",
           "#FF97FF",
           "#FECB52"
          ],
          "font": {
           "color": "#2a3f5f"
          },
          "geo": {
           "bgcolor": "white",
           "lakecolor": "white",
           "landcolor": "#E5ECF6",
           "showlakes": true,
           "showland": true,
           "subunitcolor": "white"
          },
          "hoverlabel": {
           "align": "left"
          },
          "hovermode": "closest",
          "mapbox": {
           "style": "light"
          },
          "paper_bgcolor": "white",
          "plot_bgcolor": "#E5ECF6",
          "polar": {
           "angularaxis": {
            "gridcolor": "white",
            "linecolor": "white",
            "ticks": ""
           },
           "bgcolor": "#E5ECF6",
           "radialaxis": {
            "gridcolor": "white",
            "linecolor": "white",
            "ticks": ""
           }
          },
          "scene": {
           "xaxis": {
            "backgroundcolor": "#E5ECF6",
            "gridcolor": "white",
            "gridwidth": 2,
            "linecolor": "white",
            "showbackground": true,
            "ticks": "",
            "zerolinecolor": "white"
           },
           "yaxis": {
            "backgroundcolor": "#E5ECF6",
            "gridcolor": "white",
            "gridwidth": 2,
            "linecolor": "white",
            "showbackground": true,
            "ticks": "",
            "zerolinecolor": "white"
           },
           "zaxis": {
            "backgroundcolor": "#E5ECF6",
            "gridcolor": "white",
            "gridwidth": 2,
            "linecolor": "white",
            "showbackground": true,
            "ticks": "",
            "zerolinecolor": "white"
           }
          },
          "shapedefaults": {
           "line": {
            "color": "#2a3f5f"
           }
          },
          "ternary": {
           "aaxis": {
            "gridcolor": "white",
            "linecolor": "white",
            "ticks": ""
           },
           "baxis": {
            "gridcolor": "white",
            "linecolor": "white",
            "ticks": ""
           },
           "bgcolor": "#E5ECF6",
           "caxis": {
            "gridcolor": "white",
            "linecolor": "white",
            "ticks": ""
           }
          },
          "title": {
           "x": 0.05
          },
          "xaxis": {
           "automargin": true,
           "gridcolor": "white",
           "linecolor": "white",
           "ticks": "",
           "title": {
            "standoff": 15
           },
           "zerolinecolor": "white",
           "zerolinewidth": 2
          },
          "yaxis": {
           "automargin": true,
           "gridcolor": "white",
           "linecolor": "white",
           "ticks": "",
           "title": {
            "standoff": 15
           },
           "zerolinecolor": "white",
           "zerolinewidth": 2
          }
         }
        },
        "xaxis": {
         "anchor": "y",
         "domain": [
          0,
          1
         ],
         "title": {
          "text": "idade"
         }
        },
        "yaxis": {
         "anchor": "x",
         "domain": [
          0,
          1
         ],
         "title": {
          "text": "count"
         }
        }
       }
      }
     },
     "metadata": {},
     "output_type": "display_data"
    },
    {
     "data": {
      "application/vnd.plotly.v1+json": {
       "config": {
        "plotlyServerURL": "https://plot.ly"
       },
       "data": [
        {
         "alignmentgroup": "True",
         "bingroup": "x",
         "hovertemplate": "cancelou=0.0<br>sexo=%{x}<br>count=%{y}<extra></extra>",
         "legendgroup": "0.0",
         "marker": {
          "color": "#636efa",
          "pattern": {
           "shape": ""
          }
         },
         "name": "0.0",
         "offsetgroup": "0.0",
         "orientation": "v",
         "showlegend": true,
         "type": "histogram",
         "x": [
          "Male",
          "Male",
          "Male",
          "Male",
          "Female",
          "Female",
          "Male",
          "Male",
          "Male",
          "Male",
          "Male",
          "Male",
          "Male",
          "Male",
          "Male",
          "Female",
          "Male",
          "Female",
          "Male",
          "Male",
          "Male",
          "Female",
          "Male",
          "Male",
          "Female",
          "Male",
          "Male",
          "Female",
          "Male",
          "Male",
          "Male",
          "Female",
          "Male",
          "Female",
          "Female",
          "Female",
          "Male",
          "Male",
          "Female",
          "Male",
          "Male",
          "Male",
          "Male",
          "Female",
          "Female",
          "Male",
          "Male",
          "Female",
          "Male",
          "Female",
          "Female",
          "Male",
          "Male",
          "Male",
          "Male",
          "Male",
          "Male",
          "Female",
          "Male",
          "Male",
          "Male",
          "Male",
          "Female",
          "Male",
          "Male",
          "Female",
          "Male",
          "Male",
          "Female",
          "Male",
          "Female",
          "Male",
          "Male",
          "Male",
          "Female",
          "Female",
          "Male",
          "Female",
          "Female",
          "Male",
          "Male",
          "Male",
          "Male",
          "Female",
          "Female",
          "Male",
          "Female",
          "Male",
          "Female",
          "Male",
          "Male",
          "Male",
          "Male",
          "Male",
          "Male",
          "Male",
          "Male",
          "Male",
          "Female",
          "Male",
          "Male",
          "Male",
          "Male",
          "Male",
          "Male",
          "Male",
          "Male",
          "Female",
          "Male",
          "Male",
          "Male",
          "Male",
          "Male",
          "Female",
          "Male",
          "Female",
          "Male",
          "Female",
          "Male",
          "Male",
          "Male",
          "Male",
          "Female",
          "Female",
          "Female",
          "Male",
          "Male",
          "Male",
          "Male",
          "Male",
          "Female",
          "Female",
          "Male",
          "Male",
          "Male",
          "Male",
          "Male",
          "Male",
          "Male",
          "Male",
          "Female",
          "Female",
          "Male",
          "Male",
          "Male",
          "Female",
          "Male",
          "Male",
          "Female",
          "Male",
          "Male",
          "Male",
          "Male",
          "Male",
          "Male",
          "Female",
          "Female",
          "Female",
          "Female",
          "Male",
          "Female",
          "Female",
          "Male",
          "Female",
          "Female",
          "Male",
          "Male",
          "Female",
          "Male",
          "Female",
          "Male",
          "Male",
          "Male",
          "Male",
          "Male",
          "Male",
          "Female",
          "Male",
          "Female",
          "Female",
          "Female",
          "Male",
          "Male",
          "Female",
          "Male",
          "Male",
          "Male",
          "Male",
          "Male",
          "Female",
          "Female",
          "Male",
          "Male",
          "Male",
          "Male",
          "Female",
          "Male",
          "Male",
          "Male",
          "Male",
          "Male",
          "Male",
          "Female",
          "Male",
          "Male",
          "Female",
          "Male",
          "Male",
          "Male",
          "Male",
          "Male",
          "Female",
          "Female",
          "Male",
          "Female",
          "Male",
          "Male",
          "Female",
          "Male",
          "Female",
          "Female",
          "Male",
          "Male",
          "Male",
          "Male",
          "Male",
          "Male",
          "Male",
          "Male",
          "Male",
          "Male",
          "Male",
          "Male",
          "Male",
          "Male",
          "Male",
          "Female",
          "Male",
          "Female",
          "Female",
          "Female",
          "Male",
          "Male",
          "Male",
          "Male",
          "Male",
          "Female",
          "Male",
          "Male",
          "Male",
          "Male",
          "Female",
          "Male",
          "Male",
          "Female",
          "Female",
          "Female",
          "Male",
          "Male",
          "Male",
          "Female",
          "Female",
          "Male",
          "Male",
          "Male",
          "Male",
          "Female",
          "Male",
          "Male",
          "Male",
          "Male",
          "Female",
          "Male",
          "Male",
          "Female",
          "Male",
          "Male",
          "Male",
          "Male",
          "Male",
          "Male",
          "Female",
          "Male",
          "Male",
          "Male",
          "Female",
          "Female",
          "Male",
          "Male",
          "Male",
          "Female",
          "Male",
          "Male",
          "Male",
          "Female",
          "Male",
          "Male",
          "Male",
          "Male",
          "Male",
          "Male",
          "Female",
          "Male",
          "Female",
          "Male",
          "Male",
          "Male",
          "Male",
          "Male",
          "Male",
          "Male",
          "Female",
          "Female",
          "Female",
          "Male",
          "Male",
          "Female",
          "Female",
          "Male",
          "Male",
          "Female",
          "Female",
          "Female",
          "Male",
          "Male",
          "Female",
          "Male",
          "Male",
          "Male",
          "Male",
          "Female",
          "Male",
          "Male",
          "Male",
          "Female",
          "Female",
          "Male",
          "Female",
          "Male",
          "Female",
          "Male",
          "Male",
          "Male",
          "Male",
          "Female",
          "Male",
          "Male",
          "Female",
          "Male",
          "Male",
          "Male",
          "Male",
          "Male",
          "Female",
          "Female",
          "Female",
          "Male",
          "Male",
          "Female",
          "Male",
          "Male",
          "Female",
          "Male",
          "Male",
          "Male",
          "Male",
          "Male",
          "Female",
          "Female",
          "Male",
          "Male",
          "Male",
          "Male",
          "Male",
          "Male",
          "Male",
          "Male",
          "Male",
          "Female",
          "Female",
          "Male",
          "Male",
          "Male",
          "Male",
          "Male",
          "Female",
          "Female",
          "Male",
          "Female",
          "Male",
          "Male",
          "Male",
          "Female",
          "Male",
          "Male",
          "Male",
          "Female",
          "Female",
          "Male",
          "Male",
          "Female",
          "Male",
          "Female",
          "Male",
          "Male",
          "Male",
          "Male",
          "Male",
          "Male",
          "Male",
          "Male",
          "Female",
          "Male",
          "Female",
          "Female",
          "Male",
          "Male",
          "Male",
          "Male",
          "Male",
          "Female",
          "Male",
          "Male",
          "Male",
          "Male",
          "Male"
         ],
         "xaxis": "x",
         "yaxis": "y"
        },
        {
         "alignmentgroup": "True",
         "bingroup": "x",
         "hovertemplate": "cancelou=1.0<br>sexo=%{x}<br>count=%{y}<extra></extra>",
         "legendgroup": "1.0",
         "marker": {
          "color": "#EF553B",
          "pattern": {
           "shape": ""
          }
         },
         "name": "1.0",
         "offsetgroup": "1.0",
         "orientation": "v",
         "showlegend": true,
         "type": "histogram",
         "x": [
          "Male",
          "Male",
          "Female",
          "Male",
          "Male",
          "Female",
          "Female",
          "Female",
          "Female",
          "Female",
          "Female",
          "Female",
          "Male",
          "Male",
          "Female",
          "Female",
          "Female",
          "Male",
          "Female",
          "Female",
          "Female",
          "Male",
          "Female",
          "Male",
          "Male",
          "Male",
          "Male",
          "Male",
          "Male",
          "Female",
          "Female",
          "Female",
          "Female",
          "Male",
          "Female",
          "Female",
          "Male",
          "Male",
          "Male",
          "Male",
          "Female",
          "Female",
          "Male",
          "Male",
          "Male",
          "Male",
          "Female",
          "Male",
          "Male",
          "Female",
          "Male",
          "Male",
          "Female",
          "Male",
          "Female",
          "Male",
          "Female",
          "Female",
          "Female",
          "Male",
          "Female",
          "Female",
          "Male",
          "Female",
          "Female",
          "Male",
          "Female",
          "Female",
          "Female",
          "Female",
          "Male",
          "Male",
          "Female",
          "Male",
          "Female",
          "Female",
          "Male",
          "Female",
          "Female",
          "Male",
          "Male",
          "Female",
          "Male",
          "Male",
          "Male",
          "Female",
          "Male",
          "Male",
          "Male",
          "Male",
          "Female",
          "Female",
          "Female",
          "Male",
          "Male",
          "Female",
          "Female",
          "Male",
          "Male",
          "Female",
          "Female",
          "Male",
          "Female",
          "Female",
          "Female",
          "Female",
          "Male",
          "Male",
          "Female",
          "Female",
          "Female",
          "Female",
          "Male",
          "Male",
          "Male",
          "Male",
          "Female",
          "Female",
          "Male",
          "Male",
          "Female",
          "Male",
          "Female",
          "Male",
          "Male",
          "Female",
          "Female",
          "Female",
          "Male",
          "Female",
          "Female",
          "Female",
          "Male",
          "Female",
          "Female",
          "Male",
          "Male",
          "Female",
          "Male",
          "Male",
          "Male",
          "Male",
          "Male",
          "Female",
          "Male",
          "Female",
          "Male",
          "Female",
          "Female",
          "Female",
          "Male",
          "Male",
          "Female",
          "Female",
          "Female",
          "Male",
          "Female",
          "Male",
          "Female",
          "Male",
          "Female",
          "Female",
          "Female",
          "Male",
          "Female",
          "Female",
          "Female",
          "Male",
          "Female",
          "Female",
          "Male",
          "Male",
          "Male",
          "Male",
          "Female",
          "Male",
          "Female",
          "Female",
          "Female",
          "Male",
          "Male",
          "Female",
          "Female",
          "Female",
          "Female",
          "Female",
          "Male",
          "Female",
          "Female",
          "Female",
          "Male",
          "Female",
          "Male",
          "Male",
          "Female",
          "Male",
          "Male",
          "Male",
          "Female",
          "Male",
          "Female",
          "Male",
          "Female",
          "Male",
          "Male",
          "Male",
          "Male",
          "Male",
          "Female",
          "Female",
          "Male",
          "Male",
          "Female",
          "Female",
          "Male",
          "Female",
          "Female",
          "Male",
          "Female",
          "Female",
          "Male",
          "Male",
          "Female",
          "Male",
          "Female",
          "Female",
          "Female",
          "Female",
          "Female",
          "Male",
          "Male",
          "Female",
          "Male",
          "Female",
          "Male",
          "Female",
          "Male",
          "Female",
          "Female",
          "Female",
          "Male",
          "Female",
          "Male",
          "Male",
          "Female",
          "Female",
          "Male",
          "Male",
          "Female",
          "Female",
          "Male",
          "Female",
          "Male",
          "Male",
          "Male",
          "Male",
          "Female",
          "Female",
          "Male",
          "Female",
          "Male",
          "Female",
          "Male",
          "Male",
          "Female",
          "Female",
          "Female",
          "Male",
          "Male",
          "Female",
          "Male",
          "Female",
          "Male",
          "Male",
          "Male",
          "Male",
          "Female",
          "Female",
          "Male",
          "Male",
          "Female",
          "Female",
          "Male",
          "Female",
          "Male",
          "Male",
          "Female",
          "Male",
          "Female",
          "Female",
          "Female",
          "Male",
          "Female",
          "Male",
          "Male",
          "Female",
          "Male",
          "Male",
          "Male",
          "Male",
          "Female",
          "Male",
          "Female",
          "Female",
          "Male",
          "Male",
          "Male",
          "Male",
          "Male",
          "Female",
          "Female",
          "Female",
          "Female",
          "Female",
          "Male",
          "Male",
          "Female",
          "Female",
          "Female",
          "Male",
          "Male",
          "Male",
          "Male",
          "Male",
          "Male",
          "Female",
          "Male",
          "Female",
          "Female",
          "Male",
          "Female",
          "Female",
          "Male",
          "Male",
          "Male",
          "Female",
          "Female",
          "Female",
          "Male",
          "Female",
          "Male",
          "Female",
          "Male",
          "Female",
          "Female",
          "Male",
          "Male",
          "Female",
          "Female",
          "Male",
          "Female",
          "Male",
          "Male",
          "Male",
          "Female",
          "Male",
          "Male",
          "Female",
          "Male",
          "Female",
          "Female",
          "Male",
          "Male",
          "Male",
          "Female",
          "Female",
          "Female",
          "Male",
          "Male",
          "Female",
          "Female",
          "Male",
          "Male",
          "Male",
          "Male",
          "Female",
          "Female",
          "Female",
          "Female",
          "Male",
          "Male",
          "Male",
          "Female",
          "Male",
          "Male",
          "Female",
          "Male",
          "Female",
          "Female",
          "Male",
          "Female",
          "Male",
          "Female",
          "Female",
          "Female",
          "Female",
          "Male",
          "Female",
          "Female",
          "Male",
          "Male",
          "Male",
          "Male",
          "Male",
          "Male",
          "Male",
          "Female",
          "Female",
          "Male",
          "Female",
          "Male",
          "Female",
          "Female",
          "Female",
          "Male",
          "Female",
          "Female",
          "Female",
          "Female",
          "Male",
          "Male",
          "Female",
          "Female",
          "Male",
          "Female",
          "Female",
          "Female",
          "Female",
          "Male",
          "Female",
          "Male",
          "Female",
          "Male",
          "Female",
          "Male",
          "Female",
          "Male",
          "Male",
          "Female",
          "Female",
          "Male",
          "Male",
          "Male",
          "Male",
          "Female",
          "Male",
          "Female",
          "Female",
          "Female",
          "Female",
          "Male",
          "Male",
          "Female",
          "Female",
          "Female",
          "Female",
          "Female",
          "Male",
          "Male",
          "Female",
          "Female",
          "Male",
          "Male",
          "Male",
          "Female",
          "Female",
          "Male",
          "Female",
          "Male",
          "Male",
          "Female",
          "Female",
          "Male",
          "Female",
          "Male",
          "Male",
          "Female",
          "Female",
          "Female",
          "Male",
          "Male",
          "Female",
          "Male",
          "Female",
          "Male",
          "Male",
          "Male",
          "Male",
          "Male",
          "Female",
          "Female",
          "Female",
          "Male",
          "Male",
          "Female",
          "Female",
          "Female",
          "Male",
          "Male",
          "Female",
          "Male",
          "Male",
          "Male",
          "Male",
          "Male",
          "Female",
          "Male",
          "Female",
          "Male",
          "Male",
          "Female",
          "Female",
          "Male",
          "Male",
          "Female",
          "Male",
          "Female",
          "Male",
          "Male",
          "Male",
          "Female",
          "Male",
          "Male",
          "Female",
          "Female",
          "Male",
          "Female",
          "Male",
          "Female",
          "Male",
          "Male",
          "Female",
          "Female",
          "Male",
          "Female",
          "Male",
          "Male",
          "Male",
          "Female",
          "Female",
          "Female",
          "Male",
          "Male",
          "Male",
          "Male",
          "Male",
          "Female",
          "Male",
          "Female",
          "Female",
          "Female",
          "Female",
          "Female",
          "Male",
          "Female",
          "Female",
          "Female",
          "Female",
          "Female",
          "Female",
          "Male",
          "Male",
          "Female",
          "Female",
          "Female",
          "Male",
          "Female",
          "Female",
          "Female",
          "Female"
         ],
         "xaxis": "x",
         "yaxis": "y"
        }
       ],
       "layout": {
        "barmode": "relative",
        "legend": {
         "title": {
          "text": "cancelou"
         },
         "tracegroupgap": 0
        },
        "margin": {
         "t": 60
        },
        "template": {
         "data": {
          "bar": [
           {
            "error_x": {
             "color": "#2a3f5f"
            },
            "error_y": {
             "color": "#2a3f5f"
            },
            "marker": {
             "line": {
              "color": "#E5ECF6",
              "width": 0.5
             },
             "pattern": {
              "fillmode": "overlay",
              "size": 10,
              "solidity": 0.2
             }
            },
            "type": "bar"
           }
          ],
          "barpolar": [
           {
            "marker": {
             "line": {
              "color": "#E5ECF6",
              "width": 0.5
             },
             "pattern": {
              "fillmode": "overlay",
              "size": 10,
              "solidity": 0.2
             }
            },
            "type": "barpolar"
           }
          ],
          "carpet": [
           {
            "aaxis": {
             "endlinecolor": "#2a3f5f",
             "gridcolor": "white",
             "linecolor": "white",
             "minorgridcolor": "white",
             "startlinecolor": "#2a3f5f"
            },
            "baxis": {
             "endlinecolor": "#2a3f5f",
             "gridcolor": "white",
             "linecolor": "white",
             "minorgridcolor": "white",
             "startlinecolor": "#2a3f5f"
            },
            "type": "carpet"
           }
          ],
          "choropleth": [
           {
            "colorbar": {
             "outlinewidth": 0,
             "ticks": ""
            },
            "type": "choropleth"
           }
          ],
          "contour": [
           {
            "colorbar": {
             "outlinewidth": 0,
             "ticks": ""
            },
            "colorscale": [
             [
              0,
              "#0d0887"
             ],
             [
              0.1111111111111111,
              "#46039f"
             ],
             [
              0.2222222222222222,
              "#7201a8"
             ],
             [
              0.3333333333333333,
              "#9c179e"
             ],
             [
              0.4444444444444444,
              "#bd3786"
             ],
             [
              0.5555555555555556,
              "#d8576b"
             ],
             [
              0.6666666666666666,
              "#ed7953"
             ],
             [
              0.7777777777777778,
              "#fb9f3a"
             ],
             [
              0.8888888888888888,
              "#fdca26"
             ],
             [
              1,
              "#f0f921"
             ]
            ],
            "type": "contour"
           }
          ],
          "contourcarpet": [
           {
            "colorbar": {
             "outlinewidth": 0,
             "ticks": ""
            },
            "type": "contourcarpet"
           }
          ],
          "heatmap": [
           {
            "colorbar": {
             "outlinewidth": 0,
             "ticks": ""
            },
            "colorscale": [
             [
              0,
              "#0d0887"
             ],
             [
              0.1111111111111111,
              "#46039f"
             ],
             [
              0.2222222222222222,
              "#7201a8"
             ],
             [
              0.3333333333333333,
              "#9c179e"
             ],
             [
              0.4444444444444444,
              "#bd3786"
             ],
             [
              0.5555555555555556,
              "#d8576b"
             ],
             [
              0.6666666666666666,
              "#ed7953"
             ],
             [
              0.7777777777777778,
              "#fb9f3a"
             ],
             [
              0.8888888888888888,
              "#fdca26"
             ],
             [
              1,
              "#f0f921"
             ]
            ],
            "type": "heatmap"
           }
          ],
          "heatmapgl": [
           {
            "colorbar": {
             "outlinewidth": 0,
             "ticks": ""
            },
            "colorscale": [
             [
              0,
              "#0d0887"
             ],
             [
              0.1111111111111111,
              "#46039f"
             ],
             [
              0.2222222222222222,
              "#7201a8"
             ],
             [
              0.3333333333333333,
              "#9c179e"
             ],
             [
              0.4444444444444444,
              "#bd3786"
             ],
             [
              0.5555555555555556,
              "#d8576b"
             ],
             [
              0.6666666666666666,
              "#ed7953"
             ],
             [
              0.7777777777777778,
              "#fb9f3a"
             ],
             [
              0.8888888888888888,
              "#fdca26"
             ],
             [
              1,
              "#f0f921"
             ]
            ],
            "type": "heatmapgl"
           }
          ],
          "histogram": [
           {
            "marker": {
             "pattern": {
              "fillmode": "overlay",
              "size": 10,
              "solidity": 0.2
             }
            },
            "type": "histogram"
           }
          ],
          "histogram2d": [
           {
            "colorbar": {
             "outlinewidth": 0,
             "ticks": ""
            },
            "colorscale": [
             [
              0,
              "#0d0887"
             ],
             [
              0.1111111111111111,
              "#46039f"
             ],
             [
              0.2222222222222222,
              "#7201a8"
             ],
             [
              0.3333333333333333,
              "#9c179e"
             ],
             [
              0.4444444444444444,
              "#bd3786"
             ],
             [
              0.5555555555555556,
              "#d8576b"
             ],
             [
              0.6666666666666666,
              "#ed7953"
             ],
             [
              0.7777777777777778,
              "#fb9f3a"
             ],
             [
              0.8888888888888888,
              "#fdca26"
             ],
             [
              1,
              "#f0f921"
             ]
            ],
            "type": "histogram2d"
           }
          ],
          "histogram2dcontour": [
           {
            "colorbar": {
             "outlinewidth": 0,
             "ticks": ""
            },
            "colorscale": [
             [
              0,
              "#0d0887"
             ],
             [
              0.1111111111111111,
              "#46039f"
             ],
             [
              0.2222222222222222,
              "#7201a8"
             ],
             [
              0.3333333333333333,
              "#9c179e"
             ],
             [
              0.4444444444444444,
              "#bd3786"
             ],
             [
              0.5555555555555556,
              "#d8576b"
             ],
             [
              0.6666666666666666,
              "#ed7953"
             ],
             [
              0.7777777777777778,
              "#fb9f3a"
             ],
             [
              0.8888888888888888,
              "#fdca26"
             ],
             [
              1,
              "#f0f921"
             ]
            ],
            "type": "histogram2dcontour"
           }
          ],
          "mesh3d": [
           {
            "colorbar": {
             "outlinewidth": 0,
             "ticks": ""
            },
            "type": "mesh3d"
           }
          ],
          "parcoords": [
           {
            "line": {
             "colorbar": {
              "outlinewidth": 0,
              "ticks": ""
             }
            },
            "type": "parcoords"
           }
          ],
          "pie": [
           {
            "automargin": true,
            "type": "pie"
           }
          ],
          "scatter": [
           {
            "fillpattern": {
             "fillmode": "overlay",
             "size": 10,
             "solidity": 0.2
            },
            "type": "scatter"
           }
          ],
          "scatter3d": [
           {
            "line": {
             "colorbar": {
              "outlinewidth": 0,
              "ticks": ""
             }
            },
            "marker": {
             "colorbar": {
              "outlinewidth": 0,
              "ticks": ""
             }
            },
            "type": "scatter3d"
           }
          ],
          "scattercarpet": [
           {
            "marker": {
             "colorbar": {
              "outlinewidth": 0,
              "ticks": ""
             }
            },
            "type": "scattercarpet"
           }
          ],
          "scattergeo": [
           {
            "marker": {
             "colorbar": {
              "outlinewidth": 0,
              "ticks": ""
             }
            },
            "type": "scattergeo"
           }
          ],
          "scattergl": [
           {
            "marker": {
             "colorbar": {
              "outlinewidth": 0,
              "ticks": ""
             }
            },
            "type": "scattergl"
           }
          ],
          "scattermapbox": [
           {
            "marker": {
             "colorbar": {
              "outlinewidth": 0,
              "ticks": ""
             }
            },
            "type": "scattermapbox"
           }
          ],
          "scatterpolar": [
           {
            "marker": {
             "colorbar": {
              "outlinewidth": 0,
              "ticks": ""
             }
            },
            "type": "scatterpolar"
           }
          ],
          "scatterpolargl": [
           {
            "marker": {
             "colorbar": {
              "outlinewidth": 0,
              "ticks": ""
             }
            },
            "type": "scatterpolargl"
           }
          ],
          "scatterternary": [
           {
            "marker": {
             "colorbar": {
              "outlinewidth": 0,
              "ticks": ""
             }
            },
            "type": "scatterternary"
           }
          ],
          "surface": [
           {
            "colorbar": {
             "outlinewidth": 0,
             "ticks": ""
            },
            "colorscale": [
             [
              0,
              "#0d0887"
             ],
             [
              0.1111111111111111,
              "#46039f"
             ],
             [
              0.2222222222222222,
              "#7201a8"
             ],
             [
              0.3333333333333333,
              "#9c179e"
             ],
             [
              0.4444444444444444,
              "#bd3786"
             ],
             [
              0.5555555555555556,
              "#d8576b"
             ],
             [
              0.6666666666666666,
              "#ed7953"
             ],
             [
              0.7777777777777778,
              "#fb9f3a"
             ],
             [
              0.8888888888888888,
              "#fdca26"
             ],
             [
              1,
              "#f0f921"
             ]
            ],
            "type": "surface"
           }
          ],
          "table": [
           {
            "cells": {
             "fill": {
              "color": "#EBF0F8"
             },
             "line": {
              "color": "white"
             }
            },
            "header": {
             "fill": {
              "color": "#C8D4E3"
             },
             "line": {
              "color": "white"
             }
            },
            "type": "table"
           }
          ]
         },
         "layout": {
          "annotationdefaults": {
           "arrowcolor": "#2a3f5f",
           "arrowhead": 0,
           "arrowwidth": 1
          },
          "autotypenumbers": "strict",
          "coloraxis": {
           "colorbar": {
            "outlinewidth": 0,
            "ticks": ""
           }
          },
          "colorscale": {
           "diverging": [
            [
             0,
             "#8e0152"
            ],
            [
             0.1,
             "#c51b7d"
            ],
            [
             0.2,
             "#de77ae"
            ],
            [
             0.3,
             "#f1b6da"
            ],
            [
             0.4,
             "#fde0ef"
            ],
            [
             0.5,
             "#f7f7f7"
            ],
            [
             0.6,
             "#e6f5d0"
            ],
            [
             0.7,
             "#b8e186"
            ],
            [
             0.8,
             "#7fbc41"
            ],
            [
             0.9,
             "#4d9221"
            ],
            [
             1,
             "#276419"
            ]
           ],
           "sequential": [
            [
             0,
             "#0d0887"
            ],
            [
             0.1111111111111111,
             "#46039f"
            ],
            [
             0.2222222222222222,
             "#7201a8"
            ],
            [
             0.3333333333333333,
             "#9c179e"
            ],
            [
             0.4444444444444444,
             "#bd3786"
            ],
            [
             0.5555555555555556,
             "#d8576b"
            ],
            [
             0.6666666666666666,
             "#ed7953"
            ],
            [
             0.7777777777777778,
             "#fb9f3a"
            ],
            [
             0.8888888888888888,
             "#fdca26"
            ],
            [
             1,
             "#f0f921"
            ]
           ],
           "sequentialminus": [
            [
             0,
             "#0d0887"
            ],
            [
             0.1111111111111111,
             "#46039f"
            ],
            [
             0.2222222222222222,
             "#7201a8"
            ],
            [
             0.3333333333333333,
             "#9c179e"
            ],
            [
             0.4444444444444444,
             "#bd3786"
            ],
            [
             0.5555555555555556,
             "#d8576b"
            ],
            [
             0.6666666666666666,
             "#ed7953"
            ],
            [
             0.7777777777777778,
             "#fb9f3a"
            ],
            [
             0.8888888888888888,
             "#fdca26"
            ],
            [
             1,
             "#f0f921"
            ]
           ]
          },
          "colorway": [
           "#636efa",
           "#EF553B",
           "#00cc96",
           "#ab63fa",
           "#FFA15A",
           "#19d3f3",
           "#FF6692",
           "#B6E880",
           "#FF97FF",
           "#FECB52"
          ],
          "font": {
           "color": "#2a3f5f"
          },
          "geo": {
           "bgcolor": "white",
           "lakecolor": "white",
           "landcolor": "#E5ECF6",
           "showlakes": true,
           "showland": true,
           "subunitcolor": "white"
          },
          "hoverlabel": {
           "align": "left"
          },
          "hovermode": "closest",
          "mapbox": {
           "style": "light"
          },
          "paper_bgcolor": "white",
          "plot_bgcolor": "#E5ECF6",
          "polar": {
           "angularaxis": {
            "gridcolor": "white",
            "linecolor": "white",
            "ticks": ""
           },
           "bgcolor": "#E5ECF6",
           "radialaxis": {
            "gridcolor": "white",
            "linecolor": "white",
            "ticks": ""
           }
          },
          "scene": {
           "xaxis": {
            "backgroundcolor": "#E5ECF6",
            "gridcolor": "white",
            "gridwidth": 2,
            "linecolor": "white",
            "showbackground": true,
            "ticks": "",
            "zerolinecolor": "white"
           },
           "yaxis": {
            "backgroundcolor": "#E5ECF6",
            "gridcolor": "white",
            "gridwidth": 2,
            "linecolor": "white",
            "showbackground": true,
            "ticks": "",
            "zerolinecolor": "white"
           },
           "zaxis": {
            "backgroundcolor": "#E5ECF6",
            "gridcolor": "white",
            "gridwidth": 2,
            "linecolor": "white",
            "showbackground": true,
            "ticks": "",
            "zerolinecolor": "white"
           }
          },
          "shapedefaults": {
           "line": {
            "color": "#2a3f5f"
           }
          },
          "ternary": {
           "aaxis": {
            "gridcolor": "white",
            "linecolor": "white",
            "ticks": ""
           },
           "baxis": {
            "gridcolor": "white",
            "linecolor": "white",
            "ticks": ""
           },
           "bgcolor": "#E5ECF6",
           "caxis": {
            "gridcolor": "white",
            "linecolor": "white",
            "ticks": ""
           }
          },
          "title": {
           "x": 0.05
          },
          "xaxis": {
           "automargin": true,
           "gridcolor": "white",
           "linecolor": "white",
           "ticks": "",
           "title": {
            "standoff": 15
           },
           "zerolinecolor": "white",
           "zerolinewidth": 2
          },
          "yaxis": {
           "automargin": true,
           "gridcolor": "white",
           "linecolor": "white",
           "ticks": "",
           "title": {
            "standoff": 15
           },
           "zerolinecolor": "white",
           "zerolinewidth": 2
          }
         }
        },
        "xaxis": {
         "anchor": "y",
         "domain": [
          0,
          1
         ],
         "title": {
          "text": "sexo"
         }
        },
        "yaxis": {
         "anchor": "x",
         "domain": [
          0,
          1
         ],
         "title": {
          "text": "count"
         }
        }
       }
      }
     },
     "metadata": {},
     "output_type": "display_data"
    },
    {
     "data": {
      "application/vnd.plotly.v1+json": {
       "config": {
        "plotlyServerURL": "https://plot.ly"
       },
       "data": [
        {
         "alignmentgroup": "True",
         "bingroup": "x",
         "hovertemplate": "cancelou=0.0<br>tempo_como_cliente=%{x}<br>count=%{y}<extra></extra>",
         "legendgroup": "0.0",
         "marker": {
          "color": "#636efa",
          "pattern": {
           "shape": ""
          }
         },
         "name": "0.0",
         "offsetgroup": "0.0",
         "orientation": "v",
         "showlegend": true,
         "type": "histogram",
         "x": [
          13,
          7,
          6,
          15,
          59,
          1,
          30,
          15,
          29,
          51,
          6,
          59,
          4,
          49,
          6,
          39,
          5,
          13,
          51,
          49,
          17,
          26,
          21,
          31,
          53,
          28,
          25,
          7,
          28,
          39,
          59,
          28,
          10,
          6,
          45,
          54,
          40,
          14,
          6,
          16,
          38,
          32,
          15,
          40,
          38,
          24,
          54,
          19,
          50,
          29,
          27,
          25,
          9,
          49,
          55,
          38,
          32,
          34,
          22,
          35,
          12,
          57,
          48,
          45,
          50,
          33,
          20,
          35,
          42,
          31,
          2,
          31,
          35,
          31,
          30,
          28,
          18,
          32,
          4,
          45,
          7,
          28,
          9,
          24,
          25,
          37,
          49,
          6,
          29,
          43,
          28,
          35,
          23,
          40,
          20,
          22,
          29,
          33,
          26,
          23,
          10,
          23,
          39,
          55,
          20,
          22,
          47,
          36,
          57,
          31,
          21,
          3,
          10,
          57,
          50,
          27,
          20,
          33,
          43,
          1,
          30,
          43,
          39,
          11,
          7,
          6,
          12,
          23,
          24,
          30,
          38,
          8,
          31,
          14,
          9,
          29,
          55,
          51,
          33,
          34,
          30,
          31,
          58,
          19,
          59,
          8,
          40,
          7,
          24,
          48,
          24,
          33,
          57,
          48,
          6,
          34,
          18,
          13,
          56,
          25,
          6,
          9,
          15,
          53,
          1,
          45,
          43,
          27,
          32,
          41,
          6,
          12,
          12,
          51,
          31,
          35,
          42,
          60,
          7,
          13,
          46,
          8,
          54,
          11,
          51,
          7,
          14,
          26,
          35,
          45,
          40,
          52,
          13,
          49,
          32,
          6,
          49,
          11,
          33,
          25,
          53,
          52,
          15,
          18,
          42,
          39,
          37,
          56,
          21,
          56,
          39,
          46,
          43,
          9,
          2,
          19,
          4,
          56,
          19,
          48,
          58,
          49,
          60,
          44,
          8,
          52,
          11,
          13,
          19,
          1,
          32,
          57,
          58,
          56,
          43,
          30,
          50,
          6,
          22,
          13,
          6,
          45,
          26,
          58,
          3,
          42,
          14,
          37,
          45,
          44,
          57,
          51,
          21,
          23,
          31,
          23,
          17,
          48,
          56,
          47,
          18,
          30,
          53,
          59,
          20,
          27,
          25,
          10,
          20,
          13,
          58,
          26,
          35,
          44,
          20,
          34,
          11,
          40,
          46,
          43,
          22,
          12,
          3,
          50,
          13,
          11,
          36,
          42,
          34,
          38,
          25,
          29,
          14,
          7,
          31,
          9,
          23,
          12,
          22,
          44,
          41,
          18,
          59,
          41,
          52,
          20,
          49,
          33,
          35,
          18,
          17,
          11,
          55,
          5,
          14,
          11,
          21,
          19,
          7,
          53,
          9,
          56,
          55,
          33,
          9,
          27,
          17,
          28,
          49,
          27,
          7,
          8,
          58,
          40,
          34,
          52,
          25,
          27,
          56,
          42,
          43,
          20,
          2,
          26,
          7,
          45,
          32,
          51,
          26,
          21,
          53,
          39,
          44,
          24,
          8,
          25,
          43,
          1,
          31,
          42,
          44,
          30,
          52,
          1,
          24,
          59,
          47,
          56,
          13,
          41,
          57,
          8,
          40,
          27,
          24,
          3,
          20,
          36,
          35,
          10,
          40,
          52,
          49,
          30,
          6,
          29,
          1,
          18,
          49,
          52,
          17,
          19,
          13,
          22,
          7,
          53,
          36,
          26,
          50,
          44,
          31,
          39,
          27,
          57,
          20,
          53,
          55,
          46,
          22,
          42,
          51,
          1,
          42,
          24,
          54,
          39,
          4,
          16,
          48,
          5,
          29,
          37,
          55,
          3,
          8,
          14
         ],
         "xaxis": "x",
         "yaxis": "y"
        },
        {
         "alignmentgroup": "True",
         "bingroup": "x",
         "hovertemplate": "cancelou=1.0<br>tempo_como_cliente=%{x}<br>count=%{y}<extra></extra>",
         "legendgroup": "1.0",
         "marker": {
          "color": "#EF553B",
          "pattern": {
           "shape": ""
          }
         },
         "name": "1.0",
         "offsetgroup": "1.0",
         "orientation": "v",
         "showlegend": true,
         "type": "histogram",
         "x": [
          55,
          40,
          17,
          24,
          46,
          28,
          7,
          19,
          51,
          21,
          21,
          39,
          13,
          4,
          59,
          18,
          14,
          10,
          41,
          23,
          16,
          32,
          1,
          56,
          12,
          45,
          28,
          30,
          35,
          55,
          31,
          1,
          10,
          27,
          33,
          41,
          8,
          1,
          34,
          50,
          50,
          30,
          6,
          43,
          5,
          8,
          14,
          13,
          29,
          30,
          19,
          16,
          30,
          60,
          40,
          54,
          24,
          6,
          22,
          21,
          29,
          23,
          32,
          1,
          60,
          52,
          13,
          26,
          32,
          26,
          46,
          39,
          47,
          35,
          57,
          47,
          20,
          4,
          47,
          45,
          3,
          14,
          26,
          44,
          23,
          27,
          24,
          19,
          27,
          48,
          20,
          57,
          41,
          57,
          16,
          24,
          26,
          20,
          33,
          13,
          15,
          22,
          16,
          52,
          14,
          18,
          2,
          39,
          56,
          48,
          51,
          49,
          20,
          23,
          14,
          49,
          28,
          54,
          6,
          28,
          41,
          39,
          49,
          22,
          27,
          2,
          25,
          44,
          59,
          55,
          50,
          26,
          31,
          39,
          54,
          41,
          34,
          10,
          52,
          50,
          13,
          13,
          8,
          6,
          44,
          48,
          2,
          3,
          57,
          19,
          27,
          27,
          50,
          23,
          52,
          22,
          47,
          8,
          18,
          55,
          42,
          13,
          30,
          22,
          35,
          21,
          40,
          47,
          22,
          42,
          55,
          58,
          37,
          22,
          27,
          48,
          10,
          44,
          38,
          60,
          10,
          14,
          44,
          60,
          17,
          6,
          7,
          12,
          5,
          36,
          7,
          24,
          44,
          18,
          7,
          18,
          22,
          20,
          49,
          45,
          9,
          14,
          30,
          47,
          46,
          37,
          9,
          40,
          15,
          17,
          45,
          48,
          59,
          55,
          21,
          30,
          57,
          53,
          59,
          39,
          9,
          40,
          20,
          5,
          15,
          46,
          43,
          32,
          20,
          20,
          31,
          6,
          5,
          49,
          25,
          2,
          30,
          36,
          32,
          31,
          54,
          39,
          14,
          53,
          41,
          57,
          18,
          18,
          8,
          34,
          2,
          32,
          16,
          21,
          50,
          14,
          3,
          18,
          51,
          25,
          48,
          9,
          32,
          29,
          6,
          58,
          54,
          22,
          21,
          16,
          36,
          5,
          18,
          16,
          52,
          21,
          22,
          3,
          22,
          45,
          15,
          55,
          16,
          11,
          15,
          15,
          50,
          60,
          2,
          31,
          1,
          37,
          29,
          19,
          34,
          3,
          31,
          37,
          11,
          3,
          54,
          50,
          28,
          15,
          28,
          41,
          54,
          14,
          2,
          41,
          30,
          8,
          8,
          3,
          30,
          36,
          23,
          10,
          28,
          29,
          21,
          5,
          27,
          6,
          31,
          3,
          44,
          30,
          56,
          1,
          2,
          9,
          18,
          25,
          57,
          34,
          19,
          34,
          19,
          44,
          8,
          50,
          21,
          12,
          38,
          31,
          52,
          47,
          22,
          55,
          54,
          16,
          14,
          43,
          42,
          28,
          11,
          18,
          25,
          12,
          22,
          8,
          40,
          18,
          55,
          19,
          22,
          33,
          29,
          2,
          48,
          4,
          31,
          55,
          5,
          42,
          39,
          45,
          60,
          4,
          58,
          46,
          25,
          34,
          32,
          19,
          56,
          3,
          2,
          9,
          41,
          36,
          1,
          29,
          27,
          50,
          8,
          15,
          23,
          48,
          38,
          26,
          29,
          31,
          25,
          56,
          12,
          22,
          48,
          55,
          14,
          2,
          49,
          35,
          38,
          19,
          24,
          36,
          47,
          24,
          22,
          2,
          35,
          36,
          28,
          53,
          46,
          44,
          33,
          20,
          23,
          7,
          5,
          54,
          44,
          52,
          37,
          52,
          47,
          10,
          43,
          1,
          41,
          18,
          43,
          20,
          32,
          19,
          14,
          60,
          54,
          3,
          58,
          14,
          39,
          57,
          30,
          56,
          32,
          23,
          48,
          3,
          57,
          46,
          26,
          1,
          23,
          10,
          6,
          7,
          55,
          57,
          51,
          19,
          10,
          2,
          14,
          5,
          7,
          22,
          27,
          32,
          16,
          30,
          45,
          20,
          13,
          41,
          55,
          9,
          9,
          17,
          51,
          59,
          33,
          2,
          7,
          44,
          29,
          9,
          59,
          59,
          48,
          13,
          52,
          53,
          6,
          31,
          52,
          12,
          26,
          28,
          53,
          33,
          8,
          40,
          22,
          13,
          40,
          40,
          2,
          13,
          24,
          22,
          35,
          55,
          30,
          50,
          37,
          48,
          9,
          29,
          40,
          42,
          38,
          2,
          50,
          8,
          6,
          51,
          7,
          41,
          21,
          11,
          29,
          33,
          47,
          56,
          35,
          34,
          18,
          30,
          16,
          1,
          43,
          48,
          41,
          46,
          34,
          14,
          23,
          10,
          8,
          40,
          15,
          1,
          56,
          38,
          50,
          7
         ],
         "xaxis": "x",
         "yaxis": "y"
        }
       ],
       "layout": {
        "barmode": "relative",
        "legend": {
         "title": {
          "text": "cancelou"
         },
         "tracegroupgap": 0
        },
        "margin": {
         "t": 60
        },
        "template": {
         "data": {
          "bar": [
           {
            "error_x": {
             "color": "#2a3f5f"
            },
            "error_y": {
             "color": "#2a3f5f"
            },
            "marker": {
             "line": {
              "color": "#E5ECF6",
              "width": 0.5
             },
             "pattern": {
              "fillmode": "overlay",
              "size": 10,
              "solidity": 0.2
             }
            },
            "type": "bar"
           }
          ],
          "barpolar": [
           {
            "marker": {
             "line": {
              "color": "#E5ECF6",
              "width": 0.5
             },
             "pattern": {
              "fillmode": "overlay",
              "size": 10,
              "solidity": 0.2
             }
            },
            "type": "barpolar"
           }
          ],
          "carpet": [
           {
            "aaxis": {
             "endlinecolor": "#2a3f5f",
             "gridcolor": "white",
             "linecolor": "white",
             "minorgridcolor": "white",
             "startlinecolor": "#2a3f5f"
            },
            "baxis": {
             "endlinecolor": "#2a3f5f",
             "gridcolor": "white",
             "linecolor": "white",
             "minorgridcolor": "white",
             "startlinecolor": "#2a3f5f"
            },
            "type": "carpet"
           }
          ],
          "choropleth": [
           {
            "colorbar": {
             "outlinewidth": 0,
             "ticks": ""
            },
            "type": "choropleth"
           }
          ],
          "contour": [
           {
            "colorbar": {
             "outlinewidth": 0,
             "ticks": ""
            },
            "colorscale": [
             [
              0,
              "#0d0887"
             ],
             [
              0.1111111111111111,
              "#46039f"
             ],
             [
              0.2222222222222222,
              "#7201a8"
             ],
             [
              0.3333333333333333,
              "#9c179e"
             ],
             [
              0.4444444444444444,
              "#bd3786"
             ],
             [
              0.5555555555555556,
              "#d8576b"
             ],
             [
              0.6666666666666666,
              "#ed7953"
             ],
             [
              0.7777777777777778,
              "#fb9f3a"
             ],
             [
              0.8888888888888888,
              "#fdca26"
             ],
             [
              1,
              "#f0f921"
             ]
            ],
            "type": "contour"
           }
          ],
          "contourcarpet": [
           {
            "colorbar": {
             "outlinewidth": 0,
             "ticks": ""
            },
            "type": "contourcarpet"
           }
          ],
          "heatmap": [
           {
            "colorbar": {
             "outlinewidth": 0,
             "ticks": ""
            },
            "colorscale": [
             [
              0,
              "#0d0887"
             ],
             [
              0.1111111111111111,
              "#46039f"
             ],
             [
              0.2222222222222222,
              "#7201a8"
             ],
             [
              0.3333333333333333,
              "#9c179e"
             ],
             [
              0.4444444444444444,
              "#bd3786"
             ],
             [
              0.5555555555555556,
              "#d8576b"
             ],
             [
              0.6666666666666666,
              "#ed7953"
             ],
             [
              0.7777777777777778,
              "#fb9f3a"
             ],
             [
              0.8888888888888888,
              "#fdca26"
             ],
             [
              1,
              "#f0f921"
             ]
            ],
            "type": "heatmap"
           }
          ],
          "heatmapgl": [
           {
            "colorbar": {
             "outlinewidth": 0,
             "ticks": ""
            },
            "colorscale": [
             [
              0,
              "#0d0887"
             ],
             [
              0.1111111111111111,
              "#46039f"
             ],
             [
              0.2222222222222222,
              "#7201a8"
             ],
             [
              0.3333333333333333,
              "#9c179e"
             ],
             [
              0.4444444444444444,
              "#bd3786"
             ],
             [
              0.5555555555555556,
              "#d8576b"
             ],
             [
              0.6666666666666666,
              "#ed7953"
             ],
             [
              0.7777777777777778,
              "#fb9f3a"
             ],
             [
              0.8888888888888888,
              "#fdca26"
             ],
             [
              1,
              "#f0f921"
             ]
            ],
            "type": "heatmapgl"
           }
          ],
          "histogram": [
           {
            "marker": {
             "pattern": {
              "fillmode": "overlay",
              "size": 10,
              "solidity": 0.2
             }
            },
            "type": "histogram"
           }
          ],
          "histogram2d": [
           {
            "colorbar": {
             "outlinewidth": 0,
             "ticks": ""
            },
            "colorscale": [
             [
              0,
              "#0d0887"
             ],
             [
              0.1111111111111111,
              "#46039f"
             ],
             [
              0.2222222222222222,
              "#7201a8"
             ],
             [
              0.3333333333333333,
              "#9c179e"
             ],
             [
              0.4444444444444444,
              "#bd3786"
             ],
             [
              0.5555555555555556,
              "#d8576b"
             ],
             [
              0.6666666666666666,
              "#ed7953"
             ],
             [
              0.7777777777777778,
              "#fb9f3a"
             ],
             [
              0.8888888888888888,
              "#fdca26"
             ],
             [
              1,
              "#f0f921"
             ]
            ],
            "type": "histogram2d"
           }
          ],
          "histogram2dcontour": [
           {
            "colorbar": {
             "outlinewidth": 0,
             "ticks": ""
            },
            "colorscale": [
             [
              0,
              "#0d0887"
             ],
             [
              0.1111111111111111,
              "#46039f"
             ],
             [
              0.2222222222222222,
              "#7201a8"
             ],
             [
              0.3333333333333333,
              "#9c179e"
             ],
             [
              0.4444444444444444,
              "#bd3786"
             ],
             [
              0.5555555555555556,
              "#d8576b"
             ],
             [
              0.6666666666666666,
              "#ed7953"
             ],
             [
              0.7777777777777778,
              "#fb9f3a"
             ],
             [
              0.8888888888888888,
              "#fdca26"
             ],
             [
              1,
              "#f0f921"
             ]
            ],
            "type": "histogram2dcontour"
           }
          ],
          "mesh3d": [
           {
            "colorbar": {
             "outlinewidth": 0,
             "ticks": ""
            },
            "type": "mesh3d"
           }
          ],
          "parcoords": [
           {
            "line": {
             "colorbar": {
              "outlinewidth": 0,
              "ticks": ""
             }
            },
            "type": "parcoords"
           }
          ],
          "pie": [
           {
            "automargin": true,
            "type": "pie"
           }
          ],
          "scatter": [
           {
            "fillpattern": {
             "fillmode": "overlay",
             "size": 10,
             "solidity": 0.2
            },
            "type": "scatter"
           }
          ],
          "scatter3d": [
           {
            "line": {
             "colorbar": {
              "outlinewidth": 0,
              "ticks": ""
             }
            },
            "marker": {
             "colorbar": {
              "outlinewidth": 0,
              "ticks": ""
             }
            },
            "type": "scatter3d"
           }
          ],
          "scattercarpet": [
           {
            "marker": {
             "colorbar": {
              "outlinewidth": 0,
              "ticks": ""
             }
            },
            "type": "scattercarpet"
           }
          ],
          "scattergeo": [
           {
            "marker": {
             "colorbar": {
              "outlinewidth": 0,
              "ticks": ""
             }
            },
            "type": "scattergeo"
           }
          ],
          "scattergl": [
           {
            "marker": {
             "colorbar": {
              "outlinewidth": 0,
              "ticks": ""
             }
            },
            "type": "scattergl"
           }
          ],
          "scattermapbox": [
           {
            "marker": {
             "colorbar": {
              "outlinewidth": 0,
              "ticks": ""
             }
            },
            "type": "scattermapbox"
           }
          ],
          "scatterpolar": [
           {
            "marker": {
             "colorbar": {
              "outlinewidth": 0,
              "ticks": ""
             }
            },
            "type": "scatterpolar"
           }
          ],
          "scatterpolargl": [
           {
            "marker": {
             "colorbar": {
              "outlinewidth": 0,
              "ticks": ""
             }
            },
            "type": "scatterpolargl"
           }
          ],
          "scatterternary": [
           {
            "marker": {
             "colorbar": {
              "outlinewidth": 0,
              "ticks": ""
             }
            },
            "type": "scatterternary"
           }
          ],
          "surface": [
           {
            "colorbar": {
             "outlinewidth": 0,
             "ticks": ""
            },
            "colorscale": [
             [
              0,
              "#0d0887"
             ],
             [
              0.1111111111111111,
              "#46039f"
             ],
             [
              0.2222222222222222,
              "#7201a8"
             ],
             [
              0.3333333333333333,
              "#9c179e"
             ],
             [
              0.4444444444444444,
              "#bd3786"
             ],
             [
              0.5555555555555556,
              "#d8576b"
             ],
             [
              0.6666666666666666,
              "#ed7953"
             ],
             [
              0.7777777777777778,
              "#fb9f3a"
             ],
             [
              0.8888888888888888,
              "#fdca26"
             ],
             [
              1,
              "#f0f921"
             ]
            ],
            "type": "surface"
           }
          ],
          "table": [
           {
            "cells": {
             "fill": {
              "color": "#EBF0F8"
             },
             "line": {
              "color": "white"
             }
            },
            "header": {
             "fill": {
              "color": "#C8D4E3"
             },
             "line": {
              "color": "white"
             }
            },
            "type": "table"
           }
          ]
         },
         "layout": {
          "annotationdefaults": {
           "arrowcolor": "#2a3f5f",
           "arrowhead": 0,
           "arrowwidth": 1
          },
          "autotypenumbers": "strict",
          "coloraxis": {
           "colorbar": {
            "outlinewidth": 0,
            "ticks": ""
           }
          },
          "colorscale": {
           "diverging": [
            [
             0,
             "#8e0152"
            ],
            [
             0.1,
             "#c51b7d"
            ],
            [
             0.2,
             "#de77ae"
            ],
            [
             0.3,
             "#f1b6da"
            ],
            [
             0.4,
             "#fde0ef"
            ],
            [
             0.5,
             "#f7f7f7"
            ],
            [
             0.6,
             "#e6f5d0"
            ],
            [
             0.7,
             "#b8e186"
            ],
            [
             0.8,
             "#7fbc41"
            ],
            [
             0.9,
             "#4d9221"
            ],
            [
             1,
             "#276419"
            ]
           ],
           "sequential": [
            [
             0,
             "#0d0887"
            ],
            [
             0.1111111111111111,
             "#46039f"
            ],
            [
             0.2222222222222222,
             "#7201a8"
            ],
            [
             0.3333333333333333,
             "#9c179e"
            ],
            [
             0.4444444444444444,
             "#bd3786"
            ],
            [
             0.5555555555555556,
             "#d8576b"
            ],
            [
             0.6666666666666666,
             "#ed7953"
            ],
            [
             0.7777777777777778,
             "#fb9f3a"
            ],
            [
             0.8888888888888888,
             "#fdca26"
            ],
            [
             1,
             "#f0f921"
            ]
           ],
           "sequentialminus": [
            [
             0,
             "#0d0887"
            ],
            [
             0.1111111111111111,
             "#46039f"
            ],
            [
             0.2222222222222222,
             "#7201a8"
            ],
            [
             0.3333333333333333,
             "#9c179e"
            ],
            [
             0.4444444444444444,
             "#bd3786"
            ],
            [
             0.5555555555555556,
             "#d8576b"
            ],
            [
             0.6666666666666666,
             "#ed7953"
            ],
            [
             0.7777777777777778,
             "#fb9f3a"
            ],
            [
             0.8888888888888888,
             "#fdca26"
            ],
            [
             1,
             "#f0f921"
            ]
           ]
          },
          "colorway": [
           "#636efa",
           "#EF553B",
           "#00cc96",
           "#ab63fa",
           "#FFA15A",
           "#19d3f3",
           "#FF6692",
           "#B6E880",
           "#FF97FF",
           "#FECB52"
          ],
          "font": {
           "color": "#2a3f5f"
          },
          "geo": {
           "bgcolor": "white",
           "lakecolor": "white",
           "landcolor": "#E5ECF6",
           "showlakes": true,
           "showland": true,
           "subunitcolor": "white"
          },
          "hoverlabel": {
           "align": "left"
          },
          "hovermode": "closest",
          "mapbox": {
           "style": "light"
          },
          "paper_bgcolor": "white",
          "plot_bgcolor": "#E5ECF6",
          "polar": {
           "angularaxis": {
            "gridcolor": "white",
            "linecolor": "white",
            "ticks": ""
           },
           "bgcolor": "#E5ECF6",
           "radialaxis": {
            "gridcolor": "white",
            "linecolor": "white",
            "ticks": ""
           }
          },
          "scene": {
           "xaxis": {
            "backgroundcolor": "#E5ECF6",
            "gridcolor": "white",
            "gridwidth": 2,
            "linecolor": "white",
            "showbackground": true,
            "ticks": "",
            "zerolinecolor": "white"
           },
           "yaxis": {
            "backgroundcolor": "#E5ECF6",
            "gridcolor": "white",
            "gridwidth": 2,
            "linecolor": "white",
            "showbackground": true,
            "ticks": "",
            "zerolinecolor": "white"
           },
           "zaxis": {
            "backgroundcolor": "#E5ECF6",
            "gridcolor": "white",
            "gridwidth": 2,
            "linecolor": "white",
            "showbackground": true,
            "ticks": "",
            "zerolinecolor": "white"
           }
          },
          "shapedefaults": {
           "line": {
            "color": "#2a3f5f"
           }
          },
          "ternary": {
           "aaxis": {
            "gridcolor": "white",
            "linecolor": "white",
            "ticks": ""
           },
           "baxis": {
            "gridcolor": "white",
            "linecolor": "white",
            "ticks": ""
           },
           "bgcolor": "#E5ECF6",
           "caxis": {
            "gridcolor": "white",
            "linecolor": "white",
            "ticks": ""
           }
          },
          "title": {
           "x": 0.05
          },
          "xaxis": {
           "automargin": true,
           "gridcolor": "white",
           "linecolor": "white",
           "ticks": "",
           "title": {
            "standoff": 15
           },
           "zerolinecolor": "white",
           "zerolinewidth": 2
          },
          "yaxis": {
           "automargin": true,
           "gridcolor": "white",
           "linecolor": "white",
           "ticks": "",
           "title": {
            "standoff": 15
           },
           "zerolinecolor": "white",
           "zerolinewidth": 2
          }
         }
        },
        "xaxis": {
         "anchor": "y",
         "domain": [
          0,
          1
         ],
         "title": {
          "text": "tempo_como_cliente"
         }
        },
        "yaxis": {
         "anchor": "x",
         "domain": [
          0,
          1
         ],
         "title": {
          "text": "count"
         }
        }
       }
      }
     },
     "metadata": {},
     "output_type": "display_data"
    },
    {
     "data": {
      "application/vnd.plotly.v1+json": {
       "config": {
        "plotlyServerURL": "https://plot.ly"
       },
       "data": [
        {
         "alignmentgroup": "True",
         "bingroup": "x",
         "hovertemplate": "cancelou=0.0<br>frequencia_uso=%{x}<br>count=%{y}<extra></extra>",
         "legendgroup": "0.0",
         "marker": {
          "color": "#636efa",
          "pattern": {
           "shape": ""
          }
         },
         "name": "0.0",
         "offsetgroup": "0.0",
         "orientation": "v",
         "showlegend": true,
         "type": "histogram",
         "x": [
          22,
          1,
          7,
          18,
          19,
          13,
          22,
          28,
          29,
          28,
          15,
          25,
          29,
          18,
          30,
          7,
          30,
          16,
          10,
          20,
          19,
          24,
          22,
          17,
          18,
          2,
          12,
          25,
          18,
          1,
          21,
          14,
          25,
          14,
          30,
          27,
          25,
          21,
          27,
          15,
          1,
          17,
          20,
          16,
          23,
          29,
          2,
          12,
          10,
          25,
          27,
          8,
          15,
          10,
          10,
          5,
          4,
          9,
          22,
          16,
          15,
          30,
          18,
          22,
          7,
          30,
          22,
          12,
          17,
          26,
          17,
          9,
          16,
          16,
          30,
          20,
          29,
          6,
          2,
          29,
          10,
          21,
          18,
          25,
          19,
          29,
          30,
          15,
          30,
          28,
          14,
          28,
          20,
          18,
          26,
          23,
          4,
          24,
          19,
          10,
          13,
          10,
          17,
          10,
          14,
          11,
          26,
          18,
          5,
          10,
          24,
          2,
          10,
          24,
          10,
          7,
          11,
          26,
          9,
          9,
          12,
          5,
          5,
          26,
          13,
          27,
          19,
          30,
          19,
          3,
          18,
          27,
          6,
          18,
          17,
          12,
          14,
          24,
          25,
          28,
          9,
          6,
          2,
          10,
          7,
          29,
          7,
          17,
          23,
          19,
          15,
          15,
          25,
          30,
          2,
          23,
          28,
          15,
          9,
          19,
          4,
          2,
          20,
          14,
          13,
          28,
          3,
          27,
          4,
          22,
          13,
          19,
          12,
          20,
          5,
          8,
          5,
          28,
          20,
          30,
          8,
          4,
          16,
          30,
          10,
          19,
          12,
          2,
          21,
          3,
          21,
          22,
          12,
          5,
          24,
          14,
          26,
          11,
          2,
          9,
          28,
          7,
          11,
          13,
          21,
          19,
          5,
          1,
          14,
          21,
          12,
          19,
          29,
          15,
          3,
          29,
          20,
          24,
          19,
          28,
          22,
          26,
          27,
          23,
          29,
          9,
          3,
          25,
          18,
          21,
          26,
          25,
          17,
          17,
          19,
          21,
          20,
          3,
          24,
          20,
          30,
          6,
          28,
          4,
          8,
          26,
          18,
          20,
          24,
          18,
          15,
          7,
          13,
          25,
          1,
          19,
          28,
          16,
          19,
          16,
          12,
          1,
          4,
          16,
          17,
          14,
          9,
          29,
          24,
          10,
          22,
          25,
          16,
          2,
          25,
          11,
          4,
          20,
          25,
          15,
          17,
          10,
          3,
          5,
          18,
          14,
          10,
          15,
          3,
          7,
          12,
          27,
          13,
          21,
          10,
          8,
          16,
          10,
          13,
          7,
          6,
          27,
          23,
          7,
          13,
          23,
          17,
          9,
          23,
          14,
          29,
          3,
          28,
          18,
          13,
          13,
          13,
          15,
          23,
          14,
          12,
          8,
          13,
          26,
          13,
          17,
          18,
          13,
          27,
          12,
          25,
          4,
          23,
          20,
          4,
          1,
          3,
          19,
          6,
          8,
          7,
          24,
          3,
          20,
          21,
          10,
          26,
          8,
          25,
          25,
          17,
          28,
          11,
          23,
          11,
          12,
          14,
          19,
          16,
          29,
          13,
          30,
          3,
          23,
          19,
          24,
          9,
          7,
          18,
          22,
          29,
          2,
          15,
          22,
          12,
          2,
          25,
          2,
          9,
          6,
          15,
          28,
          28,
          29,
          7,
          5,
          14,
          21,
          22,
          12,
          30,
          18,
          25,
          13,
          16,
          7,
          10,
          28,
          9,
          27,
          30,
          13,
          24,
          7,
          11,
          29,
          22,
          6,
          10,
          6,
          16,
          14,
          19,
          28,
          10,
          10,
          27,
          29,
          25,
          26,
          13,
          1,
          28,
          28,
          12,
          26
         ],
         "xaxis": "x",
         "yaxis": "y"
        },
        {
         "alignmentgroup": "True",
         "bingroup": "x",
         "hovertemplate": "cancelou=1.0<br>frequencia_uso=%{x}<br>count=%{y}<extra></extra>",
         "legendgroup": "1.0",
         "marker": {
          "color": "#EF553B",
          "pattern": {
           "shape": ""
          }
         },
         "name": "1.0",
         "offsetgroup": "1.0",
         "orientation": "v",
         "showlegend": true,
         "type": "histogram",
         "x": [
          16,
          5,
          30,
          6,
          20,
          19,
          7,
          1,
          7,
          23,
          21,
          29,
          28,
          24,
          9,
          19,
          20,
          22,
          3,
          21,
          5,
          16,
          4,
          3,
          6,
          4,
          8,
          7,
          16,
          6,
          23,
          3,
          23,
          22,
          8,
          14,
          14,
          4,
          16,
          25,
          22,
          19,
          2,
          1,
          18,
          3,
          11,
          8,
          9,
          8,
          8,
          26,
          8,
          16,
          29,
          12,
          19,
          26,
          25,
          24,
          4,
          4,
          15,
          6,
          2,
          20,
          22,
          22,
          20,
          24,
          23,
          3,
          8,
          18,
          22,
          4,
          2,
          8,
          13,
          20,
          26,
          15,
          26,
          26,
          10,
          30,
          27,
          6,
          7,
          19,
          19,
          16,
          6,
          30,
          19,
          17,
          24,
          30,
          4,
          23,
          27,
          27,
          6,
          29,
          8,
          17,
          6,
          14,
          26,
          3,
          24,
          18,
          11,
          9,
          23,
          7,
          4,
          2,
          15,
          13,
          27,
          23,
          4,
          10,
          7,
          19,
          17,
          21,
          11,
          23,
          17,
          15,
          15,
          18,
          19,
          14,
          3,
          4,
          19,
          11,
          19,
          5,
          12,
          4,
          4,
          3,
          3,
          3,
          16,
          3,
          18,
          8,
          3,
          24,
          22,
          10,
          12,
          15,
          6,
          11,
          28,
          22,
          26,
          23,
          4,
          13,
          30,
          19,
          8,
          22,
          26,
          19,
          4,
          29,
          22,
          28,
          19,
          4,
          6,
          2,
          8,
          1,
          2,
          8,
          12,
          7,
          11,
          3,
          1,
          8,
          26,
          6,
          3,
          28,
          2,
          14,
          29,
          9,
          1,
          4,
          9,
          14,
          24,
          17,
          2,
          26,
          4,
          12,
          10,
          29,
          23,
          8,
          1,
          9,
          26,
          29,
          26,
          16,
          24,
          24,
          29,
          29,
          22,
          2,
          11,
          14,
          21,
          21,
          20,
          16,
          7,
          4,
          26,
          1,
          20,
          3,
          27,
          20,
          15,
          12,
          3,
          7,
          20,
          17,
          22,
          19,
          17,
          22,
          5,
          1,
          14,
          12,
          24,
          11,
          21,
          10,
          23,
          24,
          2,
          15,
          22,
          17,
          30,
          6,
          9,
          16,
          21,
          14,
          9,
          11,
          12,
          1,
          15,
          10,
          20,
          5,
          18,
          16,
          13,
          20,
          17,
          22,
          4,
          19,
          20,
          28,
          16,
          13,
          25,
          24,
          20,
          2,
          11,
          13,
          8,
          10,
          6,
          3,
          30,
          27,
          18,
          19,
          20,
          12,
          9,
          24,
          18,
          18,
          9,
          26,
          1,
          21,
          16,
          19,
          27,
          8,
          28,
          27,
          2,
          30,
          1,
          12,
          26,
          3,
          26,
          3,
          22,
          6,
          15,
          4,
          12,
          3,
          27,
          9,
          8,
          30,
          3,
          19,
          18,
          21,
          8,
          6,
          26,
          7,
          29,
          4,
          29,
          8,
          2,
          15,
          16,
          19,
          15,
          23,
          9,
          23,
          18,
          29,
          30,
          12,
          1,
          25,
          28,
          21,
          18,
          1,
          18,
          15,
          19,
          1,
          26,
          8,
          5,
          29,
          6,
          3,
          9,
          2,
          7,
          9,
          7,
          29,
          28,
          26,
          19,
          8,
          6,
          17,
          21,
          18,
          26,
          12,
          6,
          24,
          17,
          14,
          28,
          21,
          5,
          11,
          22,
          11,
          27,
          5,
          23,
          17,
          10,
          11,
          18,
          22,
          12,
          13,
          29,
          28,
          28,
          9,
          28,
          21,
          15,
          19,
          24,
          17,
          29,
          19,
          12,
          29,
          8,
          6,
          7,
          26,
          26,
          8,
          30,
          10,
          27,
          22,
          17,
          7,
          13,
          12,
          17,
          13,
          28,
          4,
          3,
          14,
          8,
          14,
          25,
          11,
          8,
          16,
          15,
          6,
          12,
          29,
          25,
          8,
          7,
          2,
          23,
          29,
          6,
          19,
          24,
          24,
          21,
          25,
          9,
          23,
          19,
          1,
          3,
          14,
          3,
          13,
          15,
          11,
          18,
          25,
          29,
          25,
          11,
          7,
          24,
          8,
          8,
          3,
          19,
          6,
          30,
          25,
          14,
          4,
          18,
          24,
          11,
          1,
          24,
          2,
          9,
          2,
          24,
          20,
          9,
          18,
          12,
          20,
          4,
          27,
          10,
          16,
          6,
          6,
          18,
          7,
          20,
          9,
          20,
          20,
          11,
          10,
          19,
          13,
          26,
          24,
          10,
          9,
          1,
          3,
          3,
          19,
          27,
          2,
          27,
          23,
          17,
          5,
          27,
          7,
          14,
          19,
          7,
          18,
          4,
          7,
          19,
          15,
          29,
          18,
          27,
          2,
          11,
          13,
          5,
          13,
          20,
          24,
          14,
          6,
          23,
          23,
          12,
          20,
          26,
          9,
          22,
          27,
          3,
          5
         ],
         "xaxis": "x",
         "yaxis": "y"
        }
       ],
       "layout": {
        "barmode": "relative",
        "legend": {
         "title": {
          "text": "cancelou"
         },
         "tracegroupgap": 0
        },
        "margin": {
         "t": 60
        },
        "template": {
         "data": {
          "bar": [
           {
            "error_x": {
             "color": "#2a3f5f"
            },
            "error_y": {
             "color": "#2a3f5f"
            },
            "marker": {
             "line": {
              "color": "#E5ECF6",
              "width": 0.5
             },
             "pattern": {
              "fillmode": "overlay",
              "size": 10,
              "solidity": 0.2
             }
            },
            "type": "bar"
           }
          ],
          "barpolar": [
           {
            "marker": {
             "line": {
              "color": "#E5ECF6",
              "width": 0.5
             },
             "pattern": {
              "fillmode": "overlay",
              "size": 10,
              "solidity": 0.2
             }
            },
            "type": "barpolar"
           }
          ],
          "carpet": [
           {
            "aaxis": {
             "endlinecolor": "#2a3f5f",
             "gridcolor": "white",
             "linecolor": "white",
             "minorgridcolor": "white",
             "startlinecolor": "#2a3f5f"
            },
            "baxis": {
             "endlinecolor": "#2a3f5f",
             "gridcolor": "white",
             "linecolor": "white",
             "minorgridcolor": "white",
             "startlinecolor": "#2a3f5f"
            },
            "type": "carpet"
           }
          ],
          "choropleth": [
           {
            "colorbar": {
             "outlinewidth": 0,
             "ticks": ""
            },
            "type": "choropleth"
           }
          ],
          "contour": [
           {
            "colorbar": {
             "outlinewidth": 0,
             "ticks": ""
            },
            "colorscale": [
             [
              0,
              "#0d0887"
             ],
             [
              0.1111111111111111,
              "#46039f"
             ],
             [
              0.2222222222222222,
              "#7201a8"
             ],
             [
              0.3333333333333333,
              "#9c179e"
             ],
             [
              0.4444444444444444,
              "#bd3786"
             ],
             [
              0.5555555555555556,
              "#d8576b"
             ],
             [
              0.6666666666666666,
              "#ed7953"
             ],
             [
              0.7777777777777778,
              "#fb9f3a"
             ],
             [
              0.8888888888888888,
              "#fdca26"
             ],
             [
              1,
              "#f0f921"
             ]
            ],
            "type": "contour"
           }
          ],
          "contourcarpet": [
           {
            "colorbar": {
             "outlinewidth": 0,
             "ticks": ""
            },
            "type": "contourcarpet"
           }
          ],
          "heatmap": [
           {
            "colorbar": {
             "outlinewidth": 0,
             "ticks": ""
            },
            "colorscale": [
             [
              0,
              "#0d0887"
             ],
             [
              0.1111111111111111,
              "#46039f"
             ],
             [
              0.2222222222222222,
              "#7201a8"
             ],
             [
              0.3333333333333333,
              "#9c179e"
             ],
             [
              0.4444444444444444,
              "#bd3786"
             ],
             [
              0.5555555555555556,
              "#d8576b"
             ],
             [
              0.6666666666666666,
              "#ed7953"
             ],
             [
              0.7777777777777778,
              "#fb9f3a"
             ],
             [
              0.8888888888888888,
              "#fdca26"
             ],
             [
              1,
              "#f0f921"
             ]
            ],
            "type": "heatmap"
           }
          ],
          "heatmapgl": [
           {
            "colorbar": {
             "outlinewidth": 0,
             "ticks": ""
            },
            "colorscale": [
             [
              0,
              "#0d0887"
             ],
             [
              0.1111111111111111,
              "#46039f"
             ],
             [
              0.2222222222222222,
              "#7201a8"
             ],
             [
              0.3333333333333333,
              "#9c179e"
             ],
             [
              0.4444444444444444,
              "#bd3786"
             ],
             [
              0.5555555555555556,
              "#d8576b"
             ],
             [
              0.6666666666666666,
              "#ed7953"
             ],
             [
              0.7777777777777778,
              "#fb9f3a"
             ],
             [
              0.8888888888888888,
              "#fdca26"
             ],
             [
              1,
              "#f0f921"
             ]
            ],
            "type": "heatmapgl"
           }
          ],
          "histogram": [
           {
            "marker": {
             "pattern": {
              "fillmode": "overlay",
              "size": 10,
              "solidity": 0.2
             }
            },
            "type": "histogram"
           }
          ],
          "histogram2d": [
           {
            "colorbar": {
             "outlinewidth": 0,
             "ticks": ""
            },
            "colorscale": [
             [
              0,
              "#0d0887"
             ],
             [
              0.1111111111111111,
              "#46039f"
             ],
             [
              0.2222222222222222,
              "#7201a8"
             ],
             [
              0.3333333333333333,
              "#9c179e"
             ],
             [
              0.4444444444444444,
              "#bd3786"
             ],
             [
              0.5555555555555556,
              "#d8576b"
             ],
             [
              0.6666666666666666,
              "#ed7953"
             ],
             [
              0.7777777777777778,
              "#fb9f3a"
             ],
             [
              0.8888888888888888,
              "#fdca26"
             ],
             [
              1,
              "#f0f921"
             ]
            ],
            "type": "histogram2d"
           }
          ],
          "histogram2dcontour": [
           {
            "colorbar": {
             "outlinewidth": 0,
             "ticks": ""
            },
            "colorscale": [
             [
              0,
              "#0d0887"
             ],
             [
              0.1111111111111111,
              "#46039f"
             ],
             [
              0.2222222222222222,
              "#7201a8"
             ],
             [
              0.3333333333333333,
              "#9c179e"
             ],
             [
              0.4444444444444444,
              "#bd3786"
             ],
             [
              0.5555555555555556,
              "#d8576b"
             ],
             [
              0.6666666666666666,
              "#ed7953"
             ],
             [
              0.7777777777777778,
              "#fb9f3a"
             ],
             [
              0.8888888888888888,
              "#fdca26"
             ],
             [
              1,
              "#f0f921"
             ]
            ],
            "type": "histogram2dcontour"
           }
          ],
          "mesh3d": [
           {
            "colorbar": {
             "outlinewidth": 0,
             "ticks": ""
            },
            "type": "mesh3d"
           }
          ],
          "parcoords": [
           {
            "line": {
             "colorbar": {
              "outlinewidth": 0,
              "ticks": ""
             }
            },
            "type": "parcoords"
           }
          ],
          "pie": [
           {
            "automargin": true,
            "type": "pie"
           }
          ],
          "scatter": [
           {
            "fillpattern": {
             "fillmode": "overlay",
             "size": 10,
             "solidity": 0.2
            },
            "type": "scatter"
           }
          ],
          "scatter3d": [
           {
            "line": {
             "colorbar": {
              "outlinewidth": 0,
              "ticks": ""
             }
            },
            "marker": {
             "colorbar": {
              "outlinewidth": 0,
              "ticks": ""
             }
            },
            "type": "scatter3d"
           }
          ],
          "scattercarpet": [
           {
            "marker": {
             "colorbar": {
              "outlinewidth": 0,
              "ticks": ""
             }
            },
            "type": "scattercarpet"
           }
          ],
          "scattergeo": [
           {
            "marker": {
             "colorbar": {
              "outlinewidth": 0,
              "ticks": ""
             }
            },
            "type": "scattergeo"
           }
          ],
          "scattergl": [
           {
            "marker": {
             "colorbar": {
              "outlinewidth": 0,
              "ticks": ""
             }
            },
            "type": "scattergl"
           }
          ],
          "scattermapbox": [
           {
            "marker": {
             "colorbar": {
              "outlinewidth": 0,
              "ticks": ""
             }
            },
            "type": "scattermapbox"
           }
          ],
          "scatterpolar": [
           {
            "marker": {
             "colorbar": {
              "outlinewidth": 0,
              "ticks": ""
             }
            },
            "type": "scatterpolar"
           }
          ],
          "scatterpolargl": [
           {
            "marker": {
             "colorbar": {
              "outlinewidth": 0,
              "ticks": ""
             }
            },
            "type": "scatterpolargl"
           }
          ],
          "scatterternary": [
           {
            "marker": {
             "colorbar": {
              "outlinewidth": 0,
              "ticks": ""
             }
            },
            "type": "scatterternary"
           }
          ],
          "surface": [
           {
            "colorbar": {
             "outlinewidth": 0,
             "ticks": ""
            },
            "colorscale": [
             [
              0,
              "#0d0887"
             ],
             [
              0.1111111111111111,
              "#46039f"
             ],
             [
              0.2222222222222222,
              "#7201a8"
             ],
             [
              0.3333333333333333,
              "#9c179e"
             ],
             [
              0.4444444444444444,
              "#bd3786"
             ],
             [
              0.5555555555555556,
              "#d8576b"
             ],
             [
              0.6666666666666666,
              "#ed7953"
             ],
             [
              0.7777777777777778,
              "#fb9f3a"
             ],
             [
              0.8888888888888888,
              "#fdca26"
             ],
             [
              1,
              "#f0f921"
             ]
            ],
            "type": "surface"
           }
          ],
          "table": [
           {
            "cells": {
             "fill": {
              "color": "#EBF0F8"
             },
             "line": {
              "color": "white"
             }
            },
            "header": {
             "fill": {
              "color": "#C8D4E3"
             },
             "line": {
              "color": "white"
             }
            },
            "type": "table"
           }
          ]
         },
         "layout": {
          "annotationdefaults": {
           "arrowcolor": "#2a3f5f",
           "arrowhead": 0,
           "arrowwidth": 1
          },
          "autotypenumbers": "strict",
          "coloraxis": {
           "colorbar": {
            "outlinewidth": 0,
            "ticks": ""
           }
          },
          "colorscale": {
           "diverging": [
            [
             0,
             "#8e0152"
            ],
            [
             0.1,
             "#c51b7d"
            ],
            [
             0.2,
             "#de77ae"
            ],
            [
             0.3,
             "#f1b6da"
            ],
            [
             0.4,
             "#fde0ef"
            ],
            [
             0.5,
             "#f7f7f7"
            ],
            [
             0.6,
             "#e6f5d0"
            ],
            [
             0.7,
             "#b8e186"
            ],
            [
             0.8,
             "#7fbc41"
            ],
            [
             0.9,
             "#4d9221"
            ],
            [
             1,
             "#276419"
            ]
           ],
           "sequential": [
            [
             0,
             "#0d0887"
            ],
            [
             0.1111111111111111,
             "#46039f"
            ],
            [
             0.2222222222222222,
             "#7201a8"
            ],
            [
             0.3333333333333333,
             "#9c179e"
            ],
            [
             0.4444444444444444,
             "#bd3786"
            ],
            [
             0.5555555555555556,
             "#d8576b"
            ],
            [
             0.6666666666666666,
             "#ed7953"
            ],
            [
             0.7777777777777778,
             "#fb9f3a"
            ],
            [
             0.8888888888888888,
             "#fdca26"
            ],
            [
             1,
             "#f0f921"
            ]
           ],
           "sequentialminus": [
            [
             0,
             "#0d0887"
            ],
            [
             0.1111111111111111,
             "#46039f"
            ],
            [
             0.2222222222222222,
             "#7201a8"
            ],
            [
             0.3333333333333333,
             "#9c179e"
            ],
            [
             0.4444444444444444,
             "#bd3786"
            ],
            [
             0.5555555555555556,
             "#d8576b"
            ],
            [
             0.6666666666666666,
             "#ed7953"
            ],
            [
             0.7777777777777778,
             "#fb9f3a"
            ],
            [
             0.8888888888888888,
             "#fdca26"
            ],
            [
             1,
             "#f0f921"
            ]
           ]
          },
          "colorway": [
           "#636efa",
           "#EF553B",
           "#00cc96",
           "#ab63fa",
           "#FFA15A",
           "#19d3f3",
           "#FF6692",
           "#B6E880",
           "#FF97FF",
           "#FECB52"
          ],
          "font": {
           "color": "#2a3f5f"
          },
          "geo": {
           "bgcolor": "white",
           "lakecolor": "white",
           "landcolor": "#E5ECF6",
           "showlakes": true,
           "showland": true,
           "subunitcolor": "white"
          },
          "hoverlabel": {
           "align": "left"
          },
          "hovermode": "closest",
          "mapbox": {
           "style": "light"
          },
          "paper_bgcolor": "white",
          "plot_bgcolor": "#E5ECF6",
          "polar": {
           "angularaxis": {
            "gridcolor": "white",
            "linecolor": "white",
            "ticks": ""
           },
           "bgcolor": "#E5ECF6",
           "radialaxis": {
            "gridcolor": "white",
            "linecolor": "white",
            "ticks": ""
           }
          },
          "scene": {
           "xaxis": {
            "backgroundcolor": "#E5ECF6",
            "gridcolor": "white",
            "gridwidth": 2,
            "linecolor": "white",
            "showbackground": true,
            "ticks": "",
            "zerolinecolor": "white"
           },
           "yaxis": {
            "backgroundcolor": "#E5ECF6",
            "gridcolor": "white",
            "gridwidth": 2,
            "linecolor": "white",
            "showbackground": true,
            "ticks": "",
            "zerolinecolor": "white"
           },
           "zaxis": {
            "backgroundcolor": "#E5ECF6",
            "gridcolor": "white",
            "gridwidth": 2,
            "linecolor": "white",
            "showbackground": true,
            "ticks": "",
            "zerolinecolor": "white"
           }
          },
          "shapedefaults": {
           "line": {
            "color": "#2a3f5f"
           }
          },
          "ternary": {
           "aaxis": {
            "gridcolor": "white",
            "linecolor": "white",
            "ticks": ""
           },
           "baxis": {
            "gridcolor": "white",
            "linecolor": "white",
            "ticks": ""
           },
           "bgcolor": "#E5ECF6",
           "caxis": {
            "gridcolor": "white",
            "linecolor": "white",
            "ticks": ""
           }
          },
          "title": {
           "x": 0.05
          },
          "xaxis": {
           "automargin": true,
           "gridcolor": "white",
           "linecolor": "white",
           "ticks": "",
           "title": {
            "standoff": 15
           },
           "zerolinecolor": "white",
           "zerolinewidth": 2
          },
          "yaxis": {
           "automargin": true,
           "gridcolor": "white",
           "linecolor": "white",
           "ticks": "",
           "title": {
            "standoff": 15
           },
           "zerolinecolor": "white",
           "zerolinewidth": 2
          }
         }
        },
        "xaxis": {
         "anchor": "y",
         "domain": [
          0,
          1
         ],
         "title": {
          "text": "frequencia_uso"
         }
        },
        "yaxis": {
         "anchor": "x",
         "domain": [
          0,
          1
         ],
         "title": {
          "text": "count"
         }
        }
       }
      }
     },
     "metadata": {},
     "output_type": "display_data"
    },
    {
     "data": {
      "application/vnd.plotly.v1+json": {
       "config": {
        "plotlyServerURL": "https://plot.ly"
       },
       "data": [
        {
         "alignmentgroup": "True",
         "bingroup": "x",
         "hovertemplate": "cancelou=0.0<br>ligacoes_callcenter=%{x}<br>count=%{y}<extra></extra>",
         "legendgroup": "0.0",
         "marker": {
          "color": "#636efa",
          "pattern": {
           "shape": ""
          }
         },
         "name": "0.0",
         "offsetgroup": "0.0",
         "orientation": "v",
         "showlegend": true,
         "type": "histogram",
         "x": [
          2,
          0,
          0,
          1,
          1,
          0,
          1,
          2,
          0,
          2,
          0,
          0,
          2,
          2,
          1,
          0,
          1,
          1,
          3,
          3,
          3,
          0,
          1,
          4,
          1,
          4,
          2,
          1,
          1,
          2,
          2,
          4,
          0,
          1,
          1,
          1,
          2,
          1,
          0,
          1,
          1,
          1,
          1,
          2,
          5,
          0,
          1,
          2,
          3,
          3,
          1,
          3,
          1,
          1,
          1,
          4,
          1,
          2,
          3,
          0,
          2,
          1,
          2,
          3,
          1,
          3,
          3,
          1,
          1,
          0,
          0,
          3,
          5,
          2,
          2,
          1,
          4,
          1,
          0,
          2,
          3,
          2,
          2,
          3,
          1,
          2,
          3,
          2,
          0,
          1,
          1,
          0,
          1,
          3,
          2,
          1,
          2,
          2,
          0,
          0,
          3,
          1,
          3,
          4,
          4,
          0,
          2,
          4,
          3,
          0,
          1,
          2,
          4,
          4,
          3,
          2,
          0,
          3,
          2,
          0,
          4,
          1,
          0,
          1,
          2,
          0,
          1,
          0,
          3,
          0,
          0,
          4,
          1,
          2,
          3,
          4,
          2,
          0,
          4,
          1,
          1,
          4,
          2,
          1,
          2,
          4,
          1,
          0,
          0,
          3,
          2,
          3,
          1,
          0,
          3,
          0,
          1,
          3,
          2,
          1,
          3,
          0,
          3,
          0,
          0,
          0,
          4,
          1,
          1,
          0,
          4,
          2,
          0,
          2,
          3,
          0,
          1,
          2,
          4,
          0,
          2,
          1,
          4,
          0,
          1,
          1,
          4,
          1,
          1,
          1,
          1,
          0,
          4,
          3,
          4,
          5,
          0,
          1,
          3,
          4,
          1,
          2,
          0,
          2,
          0,
          1,
          3,
          1,
          0,
          3,
          1,
          3,
          3,
          1,
          1,
          0,
          4,
          2,
          3,
          0,
          0,
          1,
          0,
          0,
          2,
          0,
          0,
          1,
          3,
          3,
          3,
          0,
          1,
          0,
          4,
          1,
          2,
          3,
          0,
          1,
          1,
          0,
          2,
          2,
          2,
          0,
          3,
          2,
          3,
          4,
          2,
          1,
          0,
          2,
          0,
          3,
          1,
          1,
          0,
          0,
          0,
          4,
          0,
          2,
          2,
          2,
          0,
          2,
          3,
          0,
          0,
          3,
          2,
          2,
          2,
          1,
          1,
          1,
          0,
          3,
          2,
          2,
          0,
          1,
          3,
          2,
          4,
          2,
          0,
          3,
          1,
          0,
          1,
          1,
          2,
          1,
          3,
          0,
          0,
          0,
          2,
          3,
          3,
          0,
          0,
          3,
          0,
          4,
          0,
          1,
          3,
          2,
          2,
          1,
          0,
          1,
          1,
          3,
          1,
          0,
          0,
          2,
          0,
          1,
          3,
          1,
          4,
          1,
          4,
          2,
          1,
          3,
          0,
          2,
          2,
          3,
          1,
          0,
          3,
          1,
          2,
          1,
          2,
          1,
          1,
          3,
          3,
          2,
          0,
          0,
          1,
          1,
          2,
          2,
          0,
          2,
          2,
          0,
          1,
          4,
          2,
          0,
          2,
          0,
          1,
          3,
          1,
          1,
          3,
          0,
          0,
          1,
          1,
          1,
          4,
          2,
          2,
          3,
          2,
          2,
          4,
          3,
          1,
          0,
          3,
          0,
          3,
          0,
          1,
          2,
          4,
          0,
          2,
          2,
          4,
          1,
          1,
          3,
          5,
          2,
          3,
          1,
          1,
          2,
          0,
          3,
          3,
          1,
          2,
          0,
          0,
          2,
          1,
          3,
          0,
          0,
          1,
          3,
          5,
          1,
          4,
          3,
          4,
          3,
          3,
          3
         ],
         "xaxis": "x",
         "yaxis": "y"
        },
        {
         "alignmentgroup": "True",
         "bingroup": "x",
         "hovertemplate": "cancelou=1.0<br>ligacoes_callcenter=%{x}<br>count=%{y}<extra></extra>",
         "legendgroup": "1.0",
         "marker": {
          "color": "#EF553B",
          "pattern": {
           "shape": ""
          }
         },
         "name": "1.0",
         "offsetgroup": "1.0",
         "orientation": "v",
         "showlegend": true,
         "type": "histogram",
         "x": [
          3,
          3,
          5,
          0,
          6,
          7,
          10,
          6,
          6,
          5,
          10,
          6,
          6,
          8,
          2,
          1,
          4,
          0,
          5,
          3,
          8,
          5,
          2,
          1,
          2,
          2,
          10,
          4,
          5,
          8,
          0,
          5,
          2,
          3,
          5,
          8,
          6,
          0,
          4,
          0,
          3,
          8,
          9,
          3,
          7,
          7,
          0,
          0,
          8,
          3,
          4,
          10,
          4,
          3,
          6,
          10,
          6,
          6,
          5,
          10,
          8,
          3,
          0,
          3,
          1,
          5,
          8,
          6,
          6,
          4,
          2,
          6,
          10,
          6,
          6,
          3,
          9,
          1,
          0,
          1,
          5,
          10,
          1,
          2,
          8,
          5,
          6,
          5,
          4,
          9,
          8,
          9,
          10,
          6,
          4,
          10,
          6,
          1,
          5,
          9,
          5,
          7,
          3,
          10,
          1,
          5,
          3,
          1,
          9,
          5,
          6,
          1,
          6,
          7,
          4,
          10,
          6,
          8,
          9,
          8,
          8,
          0,
          6,
          6,
          10,
          5,
          7,
          10,
          5,
          2,
          1,
          2,
          0,
          7,
          4,
          9,
          1,
          10,
          7,
          10,
          10,
          3,
          0,
          2,
          9,
          2,
          10,
          10,
          7,
          0,
          4,
          0,
          7,
          9,
          6,
          6,
          4,
          9,
          2,
          2,
          4,
          0,
          1,
          5,
          1,
          8,
          2,
          6,
          0,
          4,
          2,
          1,
          9,
          2,
          5,
          10,
          1,
          3,
          1,
          4,
          9,
          1,
          1,
          8,
          10,
          6,
          1,
          3,
          9,
          6,
          9,
          9,
          5,
          7,
          8,
          5,
          5,
          2,
          4,
          2,
          4,
          6,
          2,
          6,
          6,
          10,
          4,
          8,
          2,
          4,
          4,
          2,
          4,
          1,
          6,
          7,
          4,
          9,
          2,
          3,
          10,
          8,
          6,
          5,
          1,
          2,
          10,
          10,
          10,
          1,
          10,
          3,
          2,
          5,
          1,
          9,
          2,
          4,
          0,
          0,
          3,
          10,
          5,
          8,
          3,
          6,
          3,
          10,
          5,
          1,
          0,
          0,
          8,
          6,
          5,
          9,
          6,
          6,
          7,
          9,
          3,
          6,
          9,
          6,
          0,
          7,
          3,
          5,
          7,
          6,
          10,
          7,
          4,
          2,
          7,
          7,
          9,
          3,
          6,
          1,
          5,
          6,
          6,
          1,
          5,
          9,
          1,
          3,
          0,
          8,
          2,
          9,
          7,
          0,
          5,
          3,
          8,
          2,
          1,
          5,
          10,
          8,
          9,
          0,
          10,
          4,
          6,
          6,
          7,
          8,
          3,
          8,
          6,
          4,
          3,
          7,
          7,
          3,
          1,
          10,
          2,
          9,
          9,
          10,
          8,
          6,
          2,
          2,
          8,
          3,
          1,
          9,
          3,
          7,
          8,
          5,
          1,
          3,
          2,
          5,
          8,
          3,
          5,
          5,
          6,
          4,
          9,
          6,
          5,
          4,
          8,
          10,
          9,
          8,
          6,
          5,
          8,
          1,
          0,
          10,
          6,
          6,
          10,
          3,
          10,
          4,
          10,
          9,
          0,
          4,
          6,
          6,
          10,
          1,
          6,
          9,
          3,
          0,
          10,
          10,
          4,
          0,
          1,
          4,
          2,
          9,
          6,
          8,
          5,
          3,
          7,
          0,
          9,
          4,
          8,
          3,
          10,
          10,
          2,
          7,
          10,
          0,
          9,
          5,
          1,
          4,
          2,
          8,
          8,
          10,
          7,
          8,
          2,
          5,
          3,
          2,
          3,
          4,
          10,
          10,
          6,
          8,
          1,
          10,
          9,
          9,
          1,
          6,
          6,
          6,
          2,
          6,
          2,
          8,
          4,
          0,
          2,
          9,
          7,
          3,
          4,
          8,
          6,
          4,
          8,
          8,
          8,
          8,
          9,
          6,
          7,
          8,
          2,
          5,
          10,
          5,
          6,
          9,
          10,
          2,
          2,
          5,
          9,
          4,
          8,
          4,
          5,
          9,
          2,
          3,
          5,
          6,
          0,
          1,
          8,
          7,
          2,
          4,
          7,
          5,
          0,
          3,
          9,
          4,
          9,
          5,
          9,
          2,
          8,
          3,
          4,
          0,
          3,
          0,
          1,
          5,
          8,
          3,
          2,
          4,
          7,
          4,
          7,
          5,
          2,
          3,
          10,
          10,
          5,
          5,
          0,
          2,
          5,
          8,
          1,
          4,
          1,
          0,
          10,
          9,
          6,
          0,
          3,
          3,
          0,
          3,
          10,
          0,
          3,
          10,
          5,
          4,
          3,
          2,
          3,
          3,
          8,
          5,
          2,
          2,
          8,
          8,
          8,
          9,
          0,
          3,
          5,
          5,
          5,
          3,
          2,
          3,
          9,
          4,
          7,
          0,
          6,
          10,
          7,
          4,
          9,
          8,
          6,
          4,
          1,
          3,
          2,
          4,
          8,
          1
         ],
         "xaxis": "x",
         "yaxis": "y"
        }
       ],
       "layout": {
        "barmode": "relative",
        "legend": {
         "title": {
          "text": "cancelou"
         },
         "tracegroupgap": 0
        },
        "margin": {
         "t": 60
        },
        "template": {
         "data": {
          "bar": [
           {
            "error_x": {
             "color": "#2a3f5f"
            },
            "error_y": {
             "color": "#2a3f5f"
            },
            "marker": {
             "line": {
              "color": "#E5ECF6",
              "width": 0.5
             },
             "pattern": {
              "fillmode": "overlay",
              "size": 10,
              "solidity": 0.2
             }
            },
            "type": "bar"
           }
          ],
          "barpolar": [
           {
            "marker": {
             "line": {
              "color": "#E5ECF6",
              "width": 0.5
             },
             "pattern": {
              "fillmode": "overlay",
              "size": 10,
              "solidity": 0.2
             }
            },
            "type": "barpolar"
           }
          ],
          "carpet": [
           {
            "aaxis": {
             "endlinecolor": "#2a3f5f",
             "gridcolor": "white",
             "linecolor": "white",
             "minorgridcolor": "white",
             "startlinecolor": "#2a3f5f"
            },
            "baxis": {
             "endlinecolor": "#2a3f5f",
             "gridcolor": "white",
             "linecolor": "white",
             "minorgridcolor": "white",
             "startlinecolor": "#2a3f5f"
            },
            "type": "carpet"
           }
          ],
          "choropleth": [
           {
            "colorbar": {
             "outlinewidth": 0,
             "ticks": ""
            },
            "type": "choropleth"
           }
          ],
          "contour": [
           {
            "colorbar": {
             "outlinewidth": 0,
             "ticks": ""
            },
            "colorscale": [
             [
              0,
              "#0d0887"
             ],
             [
              0.1111111111111111,
              "#46039f"
             ],
             [
              0.2222222222222222,
              "#7201a8"
             ],
             [
              0.3333333333333333,
              "#9c179e"
             ],
             [
              0.4444444444444444,
              "#bd3786"
             ],
             [
              0.5555555555555556,
              "#d8576b"
             ],
             [
              0.6666666666666666,
              "#ed7953"
             ],
             [
              0.7777777777777778,
              "#fb9f3a"
             ],
             [
              0.8888888888888888,
              "#fdca26"
             ],
             [
              1,
              "#f0f921"
             ]
            ],
            "type": "contour"
           }
          ],
          "contourcarpet": [
           {
            "colorbar": {
             "outlinewidth": 0,
             "ticks": ""
            },
            "type": "contourcarpet"
           }
          ],
          "heatmap": [
           {
            "colorbar": {
             "outlinewidth": 0,
             "ticks": ""
            },
            "colorscale": [
             [
              0,
              "#0d0887"
             ],
             [
              0.1111111111111111,
              "#46039f"
             ],
             [
              0.2222222222222222,
              "#7201a8"
             ],
             [
              0.3333333333333333,
              "#9c179e"
             ],
             [
              0.4444444444444444,
              "#bd3786"
             ],
             [
              0.5555555555555556,
              "#d8576b"
             ],
             [
              0.6666666666666666,
              "#ed7953"
             ],
             [
              0.7777777777777778,
              "#fb9f3a"
             ],
             [
              0.8888888888888888,
              "#fdca26"
             ],
             [
              1,
              "#f0f921"
             ]
            ],
            "type": "heatmap"
           }
          ],
          "heatmapgl": [
           {
            "colorbar": {
             "outlinewidth": 0,
             "ticks": ""
            },
            "colorscale": [
             [
              0,
              "#0d0887"
             ],
             [
              0.1111111111111111,
              "#46039f"
             ],
             [
              0.2222222222222222,
              "#7201a8"
             ],
             [
              0.3333333333333333,
              "#9c179e"
             ],
             [
              0.4444444444444444,
              "#bd3786"
             ],
             [
              0.5555555555555556,
              "#d8576b"
             ],
             [
              0.6666666666666666,
              "#ed7953"
             ],
             [
              0.7777777777777778,
              "#fb9f3a"
             ],
             [
              0.8888888888888888,
              "#fdca26"
             ],
             [
              1,
              "#f0f921"
             ]
            ],
            "type": "heatmapgl"
           }
          ],
          "histogram": [
           {
            "marker": {
             "pattern": {
              "fillmode": "overlay",
              "size": 10,
              "solidity": 0.2
             }
            },
            "type": "histogram"
           }
          ],
          "histogram2d": [
           {
            "colorbar": {
             "outlinewidth": 0,
             "ticks": ""
            },
            "colorscale": [
             [
              0,
              "#0d0887"
             ],
             [
              0.1111111111111111,
              "#46039f"
             ],
             [
              0.2222222222222222,
              "#7201a8"
             ],
             [
              0.3333333333333333,
              "#9c179e"
             ],
             [
              0.4444444444444444,
              "#bd3786"
             ],
             [
              0.5555555555555556,
              "#d8576b"
             ],
             [
              0.6666666666666666,
              "#ed7953"
             ],
             [
              0.7777777777777778,
              "#fb9f3a"
             ],
             [
              0.8888888888888888,
              "#fdca26"
             ],
             [
              1,
              "#f0f921"
             ]
            ],
            "type": "histogram2d"
           }
          ],
          "histogram2dcontour": [
           {
            "colorbar": {
             "outlinewidth": 0,
             "ticks": ""
            },
            "colorscale": [
             [
              0,
              "#0d0887"
             ],
             [
              0.1111111111111111,
              "#46039f"
             ],
             [
              0.2222222222222222,
              "#7201a8"
             ],
             [
              0.3333333333333333,
              "#9c179e"
             ],
             [
              0.4444444444444444,
              "#bd3786"
             ],
             [
              0.5555555555555556,
              "#d8576b"
             ],
             [
              0.6666666666666666,
              "#ed7953"
             ],
             [
              0.7777777777777778,
              "#fb9f3a"
             ],
             [
              0.8888888888888888,
              "#fdca26"
             ],
             [
              1,
              "#f0f921"
             ]
            ],
            "type": "histogram2dcontour"
           }
          ],
          "mesh3d": [
           {
            "colorbar": {
             "outlinewidth": 0,
             "ticks": ""
            },
            "type": "mesh3d"
           }
          ],
          "parcoords": [
           {
            "line": {
             "colorbar": {
              "outlinewidth": 0,
              "ticks": ""
             }
            },
            "type": "parcoords"
           }
          ],
          "pie": [
           {
            "automargin": true,
            "type": "pie"
           }
          ],
          "scatter": [
           {
            "fillpattern": {
             "fillmode": "overlay",
             "size": 10,
             "solidity": 0.2
            },
            "type": "scatter"
           }
          ],
          "scatter3d": [
           {
            "line": {
             "colorbar": {
              "outlinewidth": 0,
              "ticks": ""
             }
            },
            "marker": {
             "colorbar": {
              "outlinewidth": 0,
              "ticks": ""
             }
            },
            "type": "scatter3d"
           }
          ],
          "scattercarpet": [
           {
            "marker": {
             "colorbar": {
              "outlinewidth": 0,
              "ticks": ""
             }
            },
            "type": "scattercarpet"
           }
          ],
          "scattergeo": [
           {
            "marker": {
             "colorbar": {
              "outlinewidth": 0,
              "ticks": ""
             }
            },
            "type": "scattergeo"
           }
          ],
          "scattergl": [
           {
            "marker": {
             "colorbar": {
              "outlinewidth": 0,
              "ticks": ""
             }
            },
            "type": "scattergl"
           }
          ],
          "scattermapbox": [
           {
            "marker": {
             "colorbar": {
              "outlinewidth": 0,
              "ticks": ""
             }
            },
            "type": "scattermapbox"
           }
          ],
          "scatterpolar": [
           {
            "marker": {
             "colorbar": {
              "outlinewidth": 0,
              "ticks": ""
             }
            },
            "type": "scatterpolar"
           }
          ],
          "scatterpolargl": [
           {
            "marker": {
             "colorbar": {
              "outlinewidth": 0,
              "ticks": ""
             }
            },
            "type": "scatterpolargl"
           }
          ],
          "scatterternary": [
           {
            "marker": {
             "colorbar": {
              "outlinewidth": 0,
              "ticks": ""
             }
            },
            "type": "scatterternary"
           }
          ],
          "surface": [
           {
            "colorbar": {
             "outlinewidth": 0,
             "ticks": ""
            },
            "colorscale": [
             [
              0,
              "#0d0887"
             ],
             [
              0.1111111111111111,
              "#46039f"
             ],
             [
              0.2222222222222222,
              "#7201a8"
             ],
             [
              0.3333333333333333,
              "#9c179e"
             ],
             [
              0.4444444444444444,
              "#bd3786"
             ],
             [
              0.5555555555555556,
              "#d8576b"
             ],
             [
              0.6666666666666666,
              "#ed7953"
             ],
             [
              0.7777777777777778,
              "#fb9f3a"
             ],
             [
              0.8888888888888888,
              "#fdca26"
             ],
             [
              1,
              "#f0f921"
             ]
            ],
            "type": "surface"
           }
          ],
          "table": [
           {
            "cells": {
             "fill": {
              "color": "#EBF0F8"
             },
             "line": {
              "color": "white"
             }
            },
            "header": {
             "fill": {
              "color": "#C8D4E3"
             },
             "line": {
              "color": "white"
             }
            },
            "type": "table"
           }
          ]
         },
         "layout": {
          "annotationdefaults": {
           "arrowcolor": "#2a3f5f",
           "arrowhead": 0,
           "arrowwidth": 1
          },
          "autotypenumbers": "strict",
          "coloraxis": {
           "colorbar": {
            "outlinewidth": 0,
            "ticks": ""
           }
          },
          "colorscale": {
           "diverging": [
            [
             0,
             "#8e0152"
            ],
            [
             0.1,
             "#c51b7d"
            ],
            [
             0.2,
             "#de77ae"
            ],
            [
             0.3,
             "#f1b6da"
            ],
            [
             0.4,
             "#fde0ef"
            ],
            [
             0.5,
             "#f7f7f7"
            ],
            [
             0.6,
             "#e6f5d0"
            ],
            [
             0.7,
             "#b8e186"
            ],
            [
             0.8,
             "#7fbc41"
            ],
            [
             0.9,
             "#4d9221"
            ],
            [
             1,
             "#276419"
            ]
           ],
           "sequential": [
            [
             0,
             "#0d0887"
            ],
            [
             0.1111111111111111,
             "#46039f"
            ],
            [
             0.2222222222222222,
             "#7201a8"
            ],
            [
             0.3333333333333333,
             "#9c179e"
            ],
            [
             0.4444444444444444,
             "#bd3786"
            ],
            [
             0.5555555555555556,
             "#d8576b"
            ],
            [
             0.6666666666666666,
             "#ed7953"
            ],
            [
             0.7777777777777778,
             "#fb9f3a"
            ],
            [
             0.8888888888888888,
             "#fdca26"
            ],
            [
             1,
             "#f0f921"
            ]
           ],
           "sequentialminus": [
            [
             0,
             "#0d0887"
            ],
            [
             0.1111111111111111,
             "#46039f"
            ],
            [
             0.2222222222222222,
             "#7201a8"
            ],
            [
             0.3333333333333333,
             "#9c179e"
            ],
            [
             0.4444444444444444,
             "#bd3786"
            ],
            [
             0.5555555555555556,
             "#d8576b"
            ],
            [
             0.6666666666666666,
             "#ed7953"
            ],
            [
             0.7777777777777778,
             "#fb9f3a"
            ],
            [
             0.8888888888888888,
             "#fdca26"
            ],
            [
             1,
             "#f0f921"
            ]
           ]
          },
          "colorway": [
           "#636efa",
           "#EF553B",
           "#00cc96",
           "#ab63fa",
           "#FFA15A",
           "#19d3f3",
           "#FF6692",
           "#B6E880",
           "#FF97FF",
           "#FECB52"
          ],
          "font": {
           "color": "#2a3f5f"
          },
          "geo": {
           "bgcolor": "white",
           "lakecolor": "white",
           "landcolor": "#E5ECF6",
           "showlakes": true,
           "showland": true,
           "subunitcolor": "white"
          },
          "hoverlabel": {
           "align": "left"
          },
          "hovermode": "closest",
          "mapbox": {
           "style": "light"
          },
          "paper_bgcolor": "white",
          "plot_bgcolor": "#E5ECF6",
          "polar": {
           "angularaxis": {
            "gridcolor": "white",
            "linecolor": "white",
            "ticks": ""
           },
           "bgcolor": "#E5ECF6",
           "radialaxis": {
            "gridcolor": "white",
            "linecolor": "white",
            "ticks": ""
           }
          },
          "scene": {
           "xaxis": {
            "backgroundcolor": "#E5ECF6",
            "gridcolor": "white",
            "gridwidth": 2,
            "linecolor": "white",
            "showbackground": true,
            "ticks": "",
            "zerolinecolor": "white"
           },
           "yaxis": {
            "backgroundcolor": "#E5ECF6",
            "gridcolor": "white",
            "gridwidth": 2,
            "linecolor": "white",
            "showbackground": true,
            "ticks": "",
            "zerolinecolor": "white"
           },
           "zaxis": {
            "backgroundcolor": "#E5ECF6",
            "gridcolor": "white",
            "gridwidth": 2,
            "linecolor": "white",
            "showbackground": true,
            "ticks": "",
            "zerolinecolor": "white"
           }
          },
          "shapedefaults": {
           "line": {
            "color": "#2a3f5f"
           }
          },
          "ternary": {
           "aaxis": {
            "gridcolor": "white",
            "linecolor": "white",
            "ticks": ""
           },
           "baxis": {
            "gridcolor": "white",
            "linecolor": "white",
            "ticks": ""
           },
           "bgcolor": "#E5ECF6",
           "caxis": {
            "gridcolor": "white",
            "linecolor": "white",
            "ticks": ""
           }
          },
          "title": {
           "x": 0.05
          },
          "xaxis": {
           "automargin": true,
           "gridcolor": "white",
           "linecolor": "white",
           "ticks": "",
           "title": {
            "standoff": 15
           },
           "zerolinecolor": "white",
           "zerolinewidth": 2
          },
          "yaxis": {
           "automargin": true,
           "gridcolor": "white",
           "linecolor": "white",
           "ticks": "",
           "title": {
            "standoff": 15
           },
           "zerolinecolor": "white",
           "zerolinewidth": 2
          }
         }
        },
        "xaxis": {
         "anchor": "y",
         "domain": [
          0,
          1
         ],
         "title": {
          "text": "ligacoes_callcenter"
         }
        },
        "yaxis": {
         "anchor": "x",
         "domain": [
          0,
          1
         ],
         "title": {
          "text": "count"
         }
        }
       }
      }
     },
     "metadata": {},
     "output_type": "display_data"
    },
    {
     "data": {
      "application/vnd.plotly.v1+json": {
       "config": {
        "plotlyServerURL": "https://plot.ly"
       },
       "data": [
        {
         "alignmentgroup": "True",
         "bingroup": "x",
         "hovertemplate": "cancelou=0.0<br>dias_atraso=%{x}<br>count=%{y}<extra></extra>",
         "legendgroup": "0.0",
         "marker": {
          "color": "#636efa",
          "pattern": {
           "shape": ""
          }
         },
         "name": "0.0",
         "offsetgroup": "0.0",
         "orientation": "v",
         "showlegend": true,
         "type": "histogram",
         "x": [
          1,
          8,
          0,
          20,
          4,
          11,
          16,
          13,
          15,
          20,
          2,
          18,
          3,
          4,
          7,
          4,
          18,
          20,
          4,
          19,
          4,
          1,
          1,
          5,
          11,
          9,
          5,
          1,
          2,
          17,
          11,
          2,
          15,
          16,
          19,
          18,
          15,
          13,
          18,
          3,
          3,
          18,
          10,
          18,
          2,
          14,
          14,
          16,
          17,
          0,
          1,
          16,
          4,
          13,
          17,
          5,
          2,
          3,
          5,
          15,
          17,
          7,
          16,
          19,
          19,
          2,
          15,
          1,
          17,
          6,
          15,
          1,
          16,
          19,
          3,
          13,
          6,
          4,
          7,
          1,
          18,
          2,
          3,
          19,
          10,
          19,
          3,
          15,
          15,
          8,
          4,
          0,
          11,
          12,
          9,
          3,
          15,
          8,
          18,
          14,
          19,
          19,
          13,
          18,
          19,
          5,
          1,
          0,
          0,
          8,
          7,
          13,
          9,
          14,
          4,
          9,
          1,
          14,
          3,
          12,
          15,
          6,
          5,
          9,
          13,
          20,
          15,
          15,
          13,
          19,
          17,
          5,
          5,
          13,
          15,
          6,
          8,
          10,
          11,
          6,
          8,
          10,
          14,
          1,
          5,
          9,
          6,
          7,
          2,
          10,
          0,
          9,
          4,
          7,
          12,
          4,
          11,
          1,
          10,
          2,
          3,
          2,
          15,
          19,
          14,
          8,
          19,
          17,
          19,
          7,
          18,
          5,
          15,
          20,
          13,
          0,
          3,
          10,
          18,
          9,
          13,
          11,
          8,
          8,
          13,
          0,
          16,
          8,
          7,
          18,
          20,
          18,
          17,
          16,
          6,
          17,
          0,
          13,
          3,
          18,
          15,
          15,
          2,
          6,
          2,
          1,
          20,
          20,
          15,
          19,
          8,
          9,
          19,
          11,
          15,
          0,
          17,
          13,
          12,
          2,
          14,
          7,
          14,
          18,
          12,
          19,
          15,
          5,
          11,
          19,
          12,
          7,
          20,
          15,
          13,
          13,
          16,
          17,
          13,
          1,
          7,
          16,
          0,
          11,
          15,
          20,
          19,
          9,
          8,
          10,
          11,
          11,
          16,
          13,
          16,
          20,
          17,
          2,
          7,
          8,
          0,
          0,
          9,
          8,
          15,
          20,
          8,
          5,
          20,
          16,
          13,
          4,
          13,
          15,
          0,
          13,
          17,
          17,
          20,
          17,
          1,
          12,
          12,
          19,
          15,
          11,
          0,
          4,
          9,
          18,
          9,
          8,
          12,
          18,
          2,
          1,
          2,
          3,
          0,
          19,
          1,
          12,
          16,
          14,
          19,
          1,
          16,
          0,
          7,
          1,
          2,
          5,
          20,
          5,
          5,
          10,
          7,
          11,
          3,
          12,
          14,
          11,
          17,
          19,
          16,
          13,
          4,
          15,
          15,
          20,
          1,
          4,
          14,
          0,
          10,
          4,
          6,
          3,
          5,
          11,
          17,
          5,
          13,
          10,
          15,
          15,
          4,
          20,
          0,
          5,
          4,
          5,
          3,
          17,
          0,
          16,
          9,
          10,
          15,
          7,
          3,
          11,
          19,
          19,
          3,
          13,
          4,
          16,
          20,
          2,
          6,
          6,
          17,
          16,
          17,
          15,
          5,
          4,
          20,
          5,
          19,
          13,
          13,
          13,
          12,
          14,
          17,
          19,
          10,
          5,
          4,
          9,
          20,
          9,
          9,
          13,
          10,
          4,
          13,
          5,
          17,
          0,
          8,
          17,
          4,
          14,
          18,
          10,
          17,
          1,
          11,
          19,
          18,
          4,
          11,
          18,
          20,
          20,
          16,
          14,
          1,
          11,
          10,
          18,
          14,
          3
         ],
         "xaxis": "x",
         "yaxis": "y"
        },
        {
         "alignmentgroup": "True",
         "bingroup": "x",
         "hovertemplate": "cancelou=1.0<br>dias_atraso=%{x}<br>count=%{y}<extra></extra>",
         "legendgroup": "1.0",
         "marker": {
          "color": "#EF553B",
          "pattern": {
           "shape": ""
          }
         },
         "name": "1.0",
         "offsetgroup": "1.0",
         "orientation": "v",
         "showlegend": true,
         "type": "histogram",
         "x": [
          6,
          8,
          6,
          5,
          7,
          5,
          0,
          28,
          7,
          16,
          10,
          5,
          18,
          15,
          3,
          23,
          19,
          7,
          1,
          8,
          23,
          22,
          0,
          10,
          26,
          21,
          24,
          3,
          14,
          1,
          24,
          4,
          21,
          25,
          1,
          19,
          17,
          19,
          28,
          24,
          4,
          29,
          22,
          4,
          8,
          23,
          25,
          6,
          15,
          30,
          8,
          1,
          18,
          19,
          28,
          11,
          11,
          15,
          23,
          2,
          21,
          6,
          1,
          12,
          23,
          4,
          28,
          29,
          3,
          5,
          22,
          18,
          0,
          14,
          28,
          11,
          29,
          30,
          13,
          25,
          30,
          8,
          21,
          23,
          7,
          4,
          24,
          4,
          7,
          16,
          1,
          13,
          13,
          10,
          26,
          27,
          27,
          28,
          20,
          24,
          27,
          2,
          13,
          19,
          6,
          11,
          0,
          29,
          9,
          3,
          18,
          4,
          28,
          19,
          22,
          29,
          0,
          9,
          18,
          28,
          20,
          29,
          12,
          12,
          30,
          25,
          29,
          8,
          28,
          8,
          7,
          12,
          30,
          9,
          28,
          25,
          22,
          18,
          25,
          20,
          16,
          4,
          13,
          24,
          0,
          6,
          7,
          19,
          18,
          18,
          14,
          21,
          23,
          28,
          23,
          2,
          8,
          30,
          30,
          11,
          27,
          24,
          2,
          20,
          8,
          29,
          16,
          0,
          16,
          2,
          12,
          2,
          13,
          23,
          29,
          3,
          22,
          2,
          0,
          12,
          1,
          4,
          13,
          2,
          9,
          11,
          21,
          14,
          11,
          2,
          30,
          5,
          15,
          12,
          24,
          22,
          13,
          24,
          18,
          24,
          13,
          21,
          12,
          17,
          8,
          5,
          1,
          19,
          22,
          7,
          17,
          2,
          19,
          8,
          28,
          21,
          10,
          9,
          21,
          21,
          19,
          13,
          29,
          17,
          12,
          25,
          12,
          17,
          10,
          26,
          14,
          8,
          6,
          0,
          22,
          13,
          6,
          23,
          15,
          10,
          9,
          27,
          29,
          3,
          28,
          4,
          24,
          13,
          17,
          2,
          12,
          0,
          17,
          14,
          30,
          4,
          28,
          13,
          27,
          12,
          11,
          2,
          24,
          20,
          4,
          0,
          21,
          22,
          19,
          20,
          11,
          3,
          1,
          20,
          19,
          0,
          20,
          4,
          2,
          27,
          15,
          16,
          13,
          7,
          9,
          14,
          8,
          4,
          12,
          4,
          30,
          26,
          10,
          2,
          7,
          11,
          29,
          7,
          21,
          21,
          11,
          25,
          19,
          3,
          25,
          30,
          17,
          17,
          18,
          12,
          23,
          18,
          7,
          14,
          17,
          11,
          1,
          7,
          21,
          9,
          13,
          23,
          21,
          23,
          6,
          3,
          3,
          12,
          28,
          2,
          17,
          5,
          12,
          14,
          24,
          11,
          15,
          0,
          25,
          13,
          23,
          25,
          1,
          1,
          13,
          6,
          25,
          21,
          21,
          27,
          29,
          25,
          27,
          15,
          30,
          13,
          26,
          2,
          18,
          3,
          27,
          28,
          7,
          30,
          14,
          22,
          27,
          28,
          15,
          18,
          20,
          16,
          4,
          21,
          25,
          6,
          22,
          13,
          6,
          5,
          13,
          27,
          7,
          26,
          5,
          29,
          29,
          27,
          4,
          3,
          28,
          28,
          11,
          13,
          4,
          18,
          24,
          20,
          2,
          9,
          27,
          23,
          20,
          25,
          6,
          19,
          20,
          18,
          14,
          3,
          30,
          25,
          14,
          29,
          28,
          21,
          0,
          27,
          13,
          13,
          13,
          14,
          23,
          29,
          27,
          1,
          8,
          0,
          16,
          9,
          20,
          2,
          24,
          18,
          20,
          15,
          2,
          19,
          1,
          11,
          10,
          17,
          0,
          18,
          1,
          29,
          17,
          27,
          20,
          13,
          1,
          12,
          4,
          25,
          11,
          2,
          27,
          7,
          11,
          28,
          8,
          19,
          6,
          16,
          22,
          20,
          10,
          20,
          11,
          26,
          28,
          10,
          23,
          15,
          26,
          27,
          28,
          20,
          19,
          14,
          14,
          28,
          28,
          8,
          27,
          23,
          20,
          26,
          21,
          4,
          14,
          11,
          26,
          12,
          29,
          18,
          4,
          16,
          18,
          16,
          23,
          5,
          13,
          26,
          21,
          15,
          21,
          0,
          22,
          22,
          13,
          11,
          11,
          29,
          19,
          23,
          13,
          24,
          30,
          5,
          24,
          4,
          21,
          23,
          8,
          15,
          25,
          26,
          4,
          16,
          17,
          17,
          8,
          22,
          18,
          0,
          13,
          24,
          22,
          14,
          5,
          13,
          7,
          30,
          10,
          17,
          3,
          29,
          18,
          25,
          18,
          11,
          26,
          10,
          27,
          8,
          30,
          30,
          22,
          17,
          27,
          21,
          2,
          1,
          0,
          15,
          26,
          24,
          20,
          15
         ],
         "xaxis": "x",
         "yaxis": "y"
        }
       ],
       "layout": {
        "barmode": "relative",
        "legend": {
         "title": {
          "text": "cancelou"
         },
         "tracegroupgap": 0
        },
        "margin": {
         "t": 60
        },
        "template": {
         "data": {
          "bar": [
           {
            "error_x": {
             "color": "#2a3f5f"
            },
            "error_y": {
             "color": "#2a3f5f"
            },
            "marker": {
             "line": {
              "color": "#E5ECF6",
              "width": 0.5
             },
             "pattern": {
              "fillmode": "overlay",
              "size": 10,
              "solidity": 0.2
             }
            },
            "type": "bar"
           }
          ],
          "barpolar": [
           {
            "marker": {
             "line": {
              "color": "#E5ECF6",
              "width": 0.5
             },
             "pattern": {
              "fillmode": "overlay",
              "size": 10,
              "solidity": 0.2
             }
            },
            "type": "barpolar"
           }
          ],
          "carpet": [
           {
            "aaxis": {
             "endlinecolor": "#2a3f5f",
             "gridcolor": "white",
             "linecolor": "white",
             "minorgridcolor": "white",
             "startlinecolor": "#2a3f5f"
            },
            "baxis": {
             "endlinecolor": "#2a3f5f",
             "gridcolor": "white",
             "linecolor": "white",
             "minorgridcolor": "white",
             "startlinecolor": "#2a3f5f"
            },
            "type": "carpet"
           }
          ],
          "choropleth": [
           {
            "colorbar": {
             "outlinewidth": 0,
             "ticks": ""
            },
            "type": "choropleth"
           }
          ],
          "contour": [
           {
            "colorbar": {
             "outlinewidth": 0,
             "ticks": ""
            },
            "colorscale": [
             [
              0,
              "#0d0887"
             ],
             [
              0.1111111111111111,
              "#46039f"
             ],
             [
              0.2222222222222222,
              "#7201a8"
             ],
             [
              0.3333333333333333,
              "#9c179e"
             ],
             [
              0.4444444444444444,
              "#bd3786"
             ],
             [
              0.5555555555555556,
              "#d8576b"
             ],
             [
              0.6666666666666666,
              "#ed7953"
             ],
             [
              0.7777777777777778,
              "#fb9f3a"
             ],
             [
              0.8888888888888888,
              "#fdca26"
             ],
             [
              1,
              "#f0f921"
             ]
            ],
            "type": "contour"
           }
          ],
          "contourcarpet": [
           {
            "colorbar": {
             "outlinewidth": 0,
             "ticks": ""
            },
            "type": "contourcarpet"
           }
          ],
          "heatmap": [
           {
            "colorbar": {
             "outlinewidth": 0,
             "ticks": ""
            },
            "colorscale": [
             [
              0,
              "#0d0887"
             ],
             [
              0.1111111111111111,
              "#46039f"
             ],
             [
              0.2222222222222222,
              "#7201a8"
             ],
             [
              0.3333333333333333,
              "#9c179e"
             ],
             [
              0.4444444444444444,
              "#bd3786"
             ],
             [
              0.5555555555555556,
              "#d8576b"
             ],
             [
              0.6666666666666666,
              "#ed7953"
             ],
             [
              0.7777777777777778,
              "#fb9f3a"
             ],
             [
              0.8888888888888888,
              "#fdca26"
             ],
             [
              1,
              "#f0f921"
             ]
            ],
            "type": "heatmap"
           }
          ],
          "heatmapgl": [
           {
            "colorbar": {
             "outlinewidth": 0,
             "ticks": ""
            },
            "colorscale": [
             [
              0,
              "#0d0887"
             ],
             [
              0.1111111111111111,
              "#46039f"
             ],
             [
              0.2222222222222222,
              "#7201a8"
             ],
             [
              0.3333333333333333,
              "#9c179e"
             ],
             [
              0.4444444444444444,
              "#bd3786"
             ],
             [
              0.5555555555555556,
              "#d8576b"
             ],
             [
              0.6666666666666666,
              "#ed7953"
             ],
             [
              0.7777777777777778,
              "#fb9f3a"
             ],
             [
              0.8888888888888888,
              "#fdca26"
             ],
             [
              1,
              "#f0f921"
             ]
            ],
            "type": "heatmapgl"
           }
          ],
          "histogram": [
           {
            "marker": {
             "pattern": {
              "fillmode": "overlay",
              "size": 10,
              "solidity": 0.2
             }
            },
            "type": "histogram"
           }
          ],
          "histogram2d": [
           {
            "colorbar": {
             "outlinewidth": 0,
             "ticks": ""
            },
            "colorscale": [
             [
              0,
              "#0d0887"
             ],
             [
              0.1111111111111111,
              "#46039f"
             ],
             [
              0.2222222222222222,
              "#7201a8"
             ],
             [
              0.3333333333333333,
              "#9c179e"
             ],
             [
              0.4444444444444444,
              "#bd3786"
             ],
             [
              0.5555555555555556,
              "#d8576b"
             ],
             [
              0.6666666666666666,
              "#ed7953"
             ],
             [
              0.7777777777777778,
              "#fb9f3a"
             ],
             [
              0.8888888888888888,
              "#fdca26"
             ],
             [
              1,
              "#f0f921"
             ]
            ],
            "type": "histogram2d"
           }
          ],
          "histogram2dcontour": [
           {
            "colorbar": {
             "outlinewidth": 0,
             "ticks": ""
            },
            "colorscale": [
             [
              0,
              "#0d0887"
             ],
             [
              0.1111111111111111,
              "#46039f"
             ],
             [
              0.2222222222222222,
              "#7201a8"
             ],
             [
              0.3333333333333333,
              "#9c179e"
             ],
             [
              0.4444444444444444,
              "#bd3786"
             ],
             [
              0.5555555555555556,
              "#d8576b"
             ],
             [
              0.6666666666666666,
              "#ed7953"
             ],
             [
              0.7777777777777778,
              "#fb9f3a"
             ],
             [
              0.8888888888888888,
              "#fdca26"
             ],
             [
              1,
              "#f0f921"
             ]
            ],
            "type": "histogram2dcontour"
           }
          ],
          "mesh3d": [
           {
            "colorbar": {
             "outlinewidth": 0,
             "ticks": ""
            },
            "type": "mesh3d"
           }
          ],
          "parcoords": [
           {
            "line": {
             "colorbar": {
              "outlinewidth": 0,
              "ticks": ""
             }
            },
            "type": "parcoords"
           }
          ],
          "pie": [
           {
            "automargin": true,
            "type": "pie"
           }
          ],
          "scatter": [
           {
            "fillpattern": {
             "fillmode": "overlay",
             "size": 10,
             "solidity": 0.2
            },
            "type": "scatter"
           }
          ],
          "scatter3d": [
           {
            "line": {
             "colorbar": {
              "outlinewidth": 0,
              "ticks": ""
             }
            },
            "marker": {
             "colorbar": {
              "outlinewidth": 0,
              "ticks": ""
             }
            },
            "type": "scatter3d"
           }
          ],
          "scattercarpet": [
           {
            "marker": {
             "colorbar": {
              "outlinewidth": 0,
              "ticks": ""
             }
            },
            "type": "scattercarpet"
           }
          ],
          "scattergeo": [
           {
            "marker": {
             "colorbar": {
              "outlinewidth": 0,
              "ticks": ""
             }
            },
            "type": "scattergeo"
           }
          ],
          "scattergl": [
           {
            "marker": {
             "colorbar": {
              "outlinewidth": 0,
              "ticks": ""
             }
            },
            "type": "scattergl"
           }
          ],
          "scattermapbox": [
           {
            "marker": {
             "colorbar": {
              "outlinewidth": 0,
              "ticks": ""
             }
            },
            "type": "scattermapbox"
           }
          ],
          "scatterpolar": [
           {
            "marker": {
             "colorbar": {
              "outlinewidth": 0,
              "ticks": ""
             }
            },
            "type": "scatterpolar"
           }
          ],
          "scatterpolargl": [
           {
            "marker": {
             "colorbar": {
              "outlinewidth": 0,
              "ticks": ""
             }
            },
            "type": "scatterpolargl"
           }
          ],
          "scatterternary": [
           {
            "marker": {
             "colorbar": {
              "outlinewidth": 0,
              "ticks": ""
             }
            },
            "type": "scatterternary"
           }
          ],
          "surface": [
           {
            "colorbar": {
             "outlinewidth": 0,
             "ticks": ""
            },
            "colorscale": [
             [
              0,
              "#0d0887"
             ],
             [
              0.1111111111111111,
              "#46039f"
             ],
             [
              0.2222222222222222,
              "#7201a8"
             ],
             [
              0.3333333333333333,
              "#9c179e"
             ],
             [
              0.4444444444444444,
              "#bd3786"
             ],
             [
              0.5555555555555556,
              "#d8576b"
             ],
             [
              0.6666666666666666,
              "#ed7953"
             ],
             [
              0.7777777777777778,
              "#fb9f3a"
             ],
             [
              0.8888888888888888,
              "#fdca26"
             ],
             [
              1,
              "#f0f921"
             ]
            ],
            "type": "surface"
           }
          ],
          "table": [
           {
            "cells": {
             "fill": {
              "color": "#EBF0F8"
             },
             "line": {
              "color": "white"
             }
            },
            "header": {
             "fill": {
              "color": "#C8D4E3"
             },
             "line": {
              "color": "white"
             }
            },
            "type": "table"
           }
          ]
         },
         "layout": {
          "annotationdefaults": {
           "arrowcolor": "#2a3f5f",
           "arrowhead": 0,
           "arrowwidth": 1
          },
          "autotypenumbers": "strict",
          "coloraxis": {
           "colorbar": {
            "outlinewidth": 0,
            "ticks": ""
           }
          },
          "colorscale": {
           "diverging": [
            [
             0,
             "#8e0152"
            ],
            [
             0.1,
             "#c51b7d"
            ],
            [
             0.2,
             "#de77ae"
            ],
            [
             0.3,
             "#f1b6da"
            ],
            [
             0.4,
             "#fde0ef"
            ],
            [
             0.5,
             "#f7f7f7"
            ],
            [
             0.6,
             "#e6f5d0"
            ],
            [
             0.7,
             "#b8e186"
            ],
            [
             0.8,
             "#7fbc41"
            ],
            [
             0.9,
             "#4d9221"
            ],
            [
             1,
             "#276419"
            ]
           ],
           "sequential": [
            [
             0,
             "#0d0887"
            ],
            [
             0.1111111111111111,
             "#46039f"
            ],
            [
             0.2222222222222222,
             "#7201a8"
            ],
            [
             0.3333333333333333,
             "#9c179e"
            ],
            [
             0.4444444444444444,
             "#bd3786"
            ],
            [
             0.5555555555555556,
             "#d8576b"
            ],
            [
             0.6666666666666666,
             "#ed7953"
            ],
            [
             0.7777777777777778,
             "#fb9f3a"
            ],
            [
             0.8888888888888888,
             "#fdca26"
            ],
            [
             1,
             "#f0f921"
            ]
           ],
           "sequentialminus": [
            [
             0,
             "#0d0887"
            ],
            [
             0.1111111111111111,
             "#46039f"
            ],
            [
             0.2222222222222222,
             "#7201a8"
            ],
            [
             0.3333333333333333,
             "#9c179e"
            ],
            [
             0.4444444444444444,
             "#bd3786"
            ],
            [
             0.5555555555555556,
             "#d8576b"
            ],
            [
             0.6666666666666666,
             "#ed7953"
            ],
            [
             0.7777777777777778,
             "#fb9f3a"
            ],
            [
             0.8888888888888888,
             "#fdca26"
            ],
            [
             1,
             "#f0f921"
            ]
           ]
          },
          "colorway": [
           "#636efa",
           "#EF553B",
           "#00cc96",
           "#ab63fa",
           "#FFA15A",
           "#19d3f3",
           "#FF6692",
           "#B6E880",
           "#FF97FF",
           "#FECB52"
          ],
          "font": {
           "color": "#2a3f5f"
          },
          "geo": {
           "bgcolor": "white",
           "lakecolor": "white",
           "landcolor": "#E5ECF6",
           "showlakes": true,
           "showland": true,
           "subunitcolor": "white"
          },
          "hoverlabel": {
           "align": "left"
          },
          "hovermode": "closest",
          "mapbox": {
           "style": "light"
          },
          "paper_bgcolor": "white",
          "plot_bgcolor": "#E5ECF6",
          "polar": {
           "angularaxis": {
            "gridcolor": "white",
            "linecolor": "white",
            "ticks": ""
           },
           "bgcolor": "#E5ECF6",
           "radialaxis": {
            "gridcolor": "white",
            "linecolor": "white",
            "ticks": ""
           }
          },
          "scene": {
           "xaxis": {
            "backgroundcolor": "#E5ECF6",
            "gridcolor": "white",
            "gridwidth": 2,
            "linecolor": "white",
            "showbackground": true,
            "ticks": "",
            "zerolinecolor": "white"
           },
           "yaxis": {
            "backgroundcolor": "#E5ECF6",
            "gridcolor": "white",
            "gridwidth": 2,
            "linecolor": "white",
            "showbackground": true,
            "ticks": "",
            "zerolinecolor": "white"
           },
           "zaxis": {
            "backgroundcolor": "#E5ECF6",
            "gridcolor": "white",
            "gridwidth": 2,
            "linecolor": "white",
            "showbackground": true,
            "ticks": "",
            "zerolinecolor": "white"
           }
          },
          "shapedefaults": {
           "line": {
            "color": "#2a3f5f"
           }
          },
          "ternary": {
           "aaxis": {
            "gridcolor": "white",
            "linecolor": "white",
            "ticks": ""
           },
           "baxis": {
            "gridcolor": "white",
            "linecolor": "white",
            "ticks": ""
           },
           "bgcolor": "#E5ECF6",
           "caxis": {
            "gridcolor": "white",
            "linecolor": "white",
            "ticks": ""
           }
          },
          "title": {
           "x": 0.05
          },
          "xaxis": {
           "automargin": true,
           "gridcolor": "white",
           "linecolor": "white",
           "ticks": "",
           "title": {
            "standoff": 15
           },
           "zerolinecolor": "white",
           "zerolinewidth": 2
          },
          "yaxis": {
           "automargin": true,
           "gridcolor": "white",
           "linecolor": "white",
           "ticks": "",
           "title": {
            "standoff": 15
           },
           "zerolinecolor": "white",
           "zerolinewidth": 2
          }
         }
        },
        "xaxis": {
         "anchor": "y",
         "domain": [
          0,
          1
         ],
         "title": {
          "text": "dias_atraso"
         }
        },
        "yaxis": {
         "anchor": "x",
         "domain": [
          0,
          1
         ],
         "title": {
          "text": "count"
         }
        }
       }
      }
     },
     "metadata": {},
     "output_type": "display_data"
    },
    {
     "data": {
      "application/vnd.plotly.v1+json": {
       "config": {
        "plotlyServerURL": "https://plot.ly"
       },
       "data": [
        {
         "alignmentgroup": "True",
         "bingroup": "x",
         "hovertemplate": "cancelou=0.0<br>assinatura=%{x}<br>count=%{y}<extra></extra>",
         "legendgroup": "0.0",
         "marker": {
          "color": "#636efa",
          "pattern": {
           "shape": ""
          }
         },
         "name": "0.0",
         "offsetgroup": "0.0",
         "orientation": "v",
         "showlegend": true,
         "type": "histogram",
         "x": [
          "Standard",
          "Basic",
          "Standard",
          "Standard",
          "Basic",
          "Premium",
          "Premium",
          "Standard",
          "Basic",
          "Standard",
          "Basic",
          "Basic",
          "Premium",
          "Standard",
          "Standard",
          "Basic",
          "Standard",
          "Basic",
          "Premium",
          "Basic",
          "Premium",
          "Standard",
          "Basic",
          "Standard",
          "Standard",
          "Premium",
          "Standard",
          "Premium",
          "Premium",
          "Standard",
          "Standard",
          "Standard",
          "Premium",
          "Standard",
          "Basic",
          "Basic",
          "Standard",
          "Premium",
          "Premium",
          "Standard",
          "Basic",
          "Basic",
          "Premium",
          "Premium",
          "Basic",
          "Premium",
          "Premium",
          "Standard",
          "Standard",
          "Standard",
          "Basic",
          "Standard",
          "Basic",
          "Premium",
          "Premium",
          "Premium",
          "Standard",
          "Basic",
          "Basic",
          "Premium",
          "Basic",
          "Premium",
          "Premium",
          "Basic",
          "Premium",
          "Basic",
          "Basic",
          "Basic",
          "Standard",
          "Standard",
          "Standard",
          "Premium",
          "Premium",
          "Standard",
          "Standard",
          "Standard",
          "Standard",
          "Basic",
          "Standard",
          "Basic",
          "Standard",
          "Premium",
          "Premium",
          "Standard",
          "Basic",
          "Basic",
          "Basic",
          "Standard",
          "Premium",
          "Premium",
          "Basic",
          "Basic",
          "Premium",
          "Premium",
          "Standard",
          "Standard",
          "Basic",
          "Premium",
          "Basic",
          "Basic",
          "Premium",
          "Basic",
          "Premium",
          "Standard",
          "Standard",
          "Standard",
          "Standard",
          "Premium",
          "Premium",
          "Standard",
          "Standard",
          "Premium",
          "Standard",
          "Standard",
          "Premium",
          "Basic",
          "Standard",
          "Basic",
          "Standard",
          "Standard",
          "Basic",
          "Basic",
          "Standard",
          "Standard",
          "Standard",
          "Standard",
          "Premium",
          "Premium",
          "Standard",
          "Premium",
          "Basic",
          "Premium",
          "Premium",
          "Premium",
          "Premium",
          "Premium",
          "Standard",
          "Premium",
          "Premium",
          "Basic",
          "Basic",
          "Basic",
          "Premium",
          "Standard",
          "Premium",
          "Basic",
          "Basic",
          "Standard",
          "Standard",
          "Standard",
          "Basic",
          "Premium",
          "Premium",
          "Standard",
          "Standard",
          "Premium",
          "Basic",
          "Standard",
          "Basic",
          "Basic",
          "Standard",
          "Premium",
          "Basic",
          "Standard",
          "Standard",
          "Premium",
          "Premium",
          "Standard",
          "Standard",
          "Premium",
          "Basic",
          "Basic",
          "Basic",
          "Basic",
          "Basic",
          "Premium",
          "Standard",
          "Premium",
          "Standard",
          "Standard",
          "Standard",
          "Basic",
          "Standard",
          "Basic",
          "Standard",
          "Standard",
          "Premium",
          "Basic",
          "Premium",
          "Basic",
          "Basic",
          "Basic",
          "Standard",
          "Standard",
          "Basic",
          "Basic",
          "Standard",
          "Premium",
          "Standard",
          "Premium",
          "Premium",
          "Premium",
          "Premium",
          "Basic",
          "Standard",
          "Basic",
          "Basic",
          "Premium",
          "Basic",
          "Basic",
          "Basic",
          "Basic",
          "Basic",
          "Basic",
          "Premium",
          "Premium",
          "Premium",
          "Standard",
          "Basic",
          "Standard",
          "Premium",
          "Standard",
          "Standard",
          "Premium",
          "Basic",
          "Basic",
          "Basic",
          "Standard",
          "Basic",
          "Standard",
          "Standard",
          "Basic",
          "Premium",
          "Premium",
          "Premium",
          "Basic",
          "Standard",
          "Basic",
          "Standard",
          "Premium",
          "Basic",
          "Standard",
          "Standard",
          "Premium",
          "Premium",
          "Basic",
          "Basic",
          "Standard",
          "Premium",
          "Standard",
          "Standard",
          "Standard",
          "Standard",
          "Standard",
          "Basic",
          "Standard",
          "Premium",
          "Premium",
          "Standard",
          "Basic",
          "Basic",
          "Premium",
          "Basic",
          "Premium",
          "Premium",
          "Standard",
          "Basic",
          "Standard",
          "Standard",
          "Standard",
          "Standard",
          "Standard",
          "Standard",
          "Basic",
          "Standard",
          "Premium",
          "Basic",
          "Premium",
          "Basic",
          "Premium",
          "Standard",
          "Basic",
          "Premium",
          "Premium",
          "Standard",
          "Basic",
          "Standard",
          "Premium",
          "Premium",
          "Standard",
          "Basic",
          "Standard",
          "Standard",
          "Basic",
          "Premium",
          "Premium",
          "Standard",
          "Standard",
          "Standard",
          "Basic",
          "Premium",
          "Premium",
          "Standard",
          "Basic",
          "Premium",
          "Premium",
          "Standard",
          "Premium",
          "Premium",
          "Premium",
          "Premium",
          "Standard",
          "Basic",
          "Standard",
          "Standard",
          "Standard",
          "Basic",
          "Basic",
          "Basic",
          "Standard",
          "Premium",
          "Basic",
          "Basic",
          "Standard",
          "Standard",
          "Standard",
          "Basic",
          "Standard",
          "Premium",
          "Premium",
          "Premium",
          "Premium",
          "Basic",
          "Basic",
          "Basic",
          "Standard",
          "Standard",
          "Premium",
          "Standard",
          "Standard",
          "Basic",
          "Basic",
          "Premium",
          "Standard",
          "Standard",
          "Premium",
          "Basic",
          "Standard",
          "Standard",
          "Standard",
          "Basic",
          "Standard",
          "Premium",
          "Basic",
          "Premium",
          "Basic",
          "Premium",
          "Standard",
          "Standard",
          "Standard",
          "Basic",
          "Standard",
          "Premium",
          "Standard",
          "Basic",
          "Premium",
          "Basic",
          "Standard",
          "Standard",
          "Standard",
          "Standard",
          "Premium",
          "Premium",
          "Standard",
          "Basic",
          "Standard",
          "Basic",
          "Standard",
          "Basic",
          "Premium",
          "Standard",
          "Premium",
          "Basic",
          "Basic",
          "Standard",
          "Standard",
          "Premium",
          "Standard",
          "Premium",
          "Basic",
          "Standard",
          "Standard",
          "Basic",
          "Basic",
          "Standard",
          "Premium",
          "Premium",
          "Basic",
          "Standard",
          "Basic",
          "Basic",
          "Standard",
          "Standard",
          "Premium",
          "Standard",
          "Basic",
          "Basic",
          "Basic",
          "Premium",
          "Premium",
          "Standard",
          "Premium",
          "Premium",
          "Basic",
          "Basic",
          "Premium",
          "Premium",
          "Standard",
          "Premium",
          "Premium",
          "Basic",
          "Standard",
          "Standard",
          "Premium",
          "Basic",
          "Basic"
         ],
         "xaxis": "x",
         "yaxis": "y"
        },
        {
         "alignmentgroup": "True",
         "bingroup": "x",
         "hovertemplate": "cancelou=1.0<br>assinatura=%{x}<br>count=%{y}<extra></extra>",
         "legendgroup": "1.0",
         "marker": {
          "color": "#EF553B",
          "pattern": {
           "shape": ""
          }
         },
         "name": "1.0",
         "offsetgroup": "1.0",
         "orientation": "v",
         "showlegend": true,
         "type": "histogram",
         "x": [
          "Premium",
          "Premium",
          "Basic",
          "Premium",
          "Standard",
          "Premium",
          "Premium",
          "Premium",
          "Basic",
          "Premium",
          "Standard",
          "Standard",
          "Basic",
          "Standard",
          "Standard",
          "Standard",
          "Premium",
          "Basic",
          "Standard",
          "Basic",
          "Basic",
          "Premium",
          "Basic",
          "Basic",
          "Standard",
          "Basic",
          "Premium",
          "Basic",
          "Premium",
          "Premium",
          "Premium",
          "Basic",
          "Premium",
          "Basic",
          "Standard",
          "Premium",
          "Premium",
          "Standard",
          "Basic",
          "Premium",
          "Premium",
          "Premium",
          "Premium",
          "Premium",
          "Standard",
          "Standard",
          "Premium",
          "Premium",
          "Basic",
          "Basic",
          "Standard",
          "Premium",
          "Premium",
          "Premium",
          "Premium",
          "Basic",
          "Basic",
          "Premium",
          "Basic",
          "Basic",
          "Premium",
          "Basic",
          "Basic",
          "Basic",
          "Standard",
          "Standard",
          "Premium",
          "Standard",
          "Basic",
          "Basic",
          "Standard",
          "Basic",
          "Standard",
          "Premium",
          "Basic",
          "Basic",
          "Standard",
          "Premium",
          "Standard",
          "Basic",
          "Premium",
          "Premium",
          "Standard",
          "Premium",
          "Standard",
          "Basic",
          "Premium",
          "Basic",
          "Basic",
          "Standard",
          "Premium",
          "Standard",
          "Premium",
          "Standard",
          "Premium",
          "Basic",
          "Standard",
          "Standard",
          "Standard",
          "Basic",
          "Standard",
          "Standard",
          "Standard",
          "Standard",
          "Standard",
          "Basic",
          "Standard",
          "Standard",
          "Premium",
          "Basic",
          "Premium",
          "Basic",
          "Standard",
          "Standard",
          "Basic",
          "Premium",
          "Premium",
          "Premium",
          "Premium",
          "Premium",
          "Standard",
          "Basic",
          "Premium",
          "Premium",
          "Basic",
          "Standard",
          "Premium",
          "Standard",
          "Standard",
          "Premium",
          "Standard",
          "Premium",
          "Standard",
          "Premium",
          "Premium",
          "Premium",
          "Premium",
          "Basic",
          "Standard",
          "Standard",
          "Premium",
          "Premium",
          "Basic",
          "Premium",
          "Premium",
          "Premium",
          "Standard",
          "Standard",
          "Premium",
          "Basic",
          "Premium",
          "Basic",
          "Basic",
          "Standard",
          "Standard",
          "Basic",
          "Premium",
          "Basic",
          "Standard",
          "Basic",
          "Premium",
          "Standard",
          "Basic",
          "Basic",
          "Standard",
          "Premium",
          "Premium",
          "Standard",
          "Basic",
          "Standard",
          "Basic",
          "Standard",
          "Premium",
          "Premium",
          "Premium",
          "Premium",
          "Premium",
          "Standard",
          "Standard",
          "Premium",
          "Basic",
          "Basic",
          "Basic",
          "Premium",
          "Standard",
          "Standard",
          "Standard",
          "Standard",
          "Basic",
          "Basic",
          "Standard",
          "Basic",
          "Premium",
          "Standard",
          "Premium",
          "Premium",
          "Standard",
          "Premium",
          "Basic",
          "Premium",
          "Standard",
          "Basic",
          "Standard",
          "Standard",
          "Standard",
          "Premium",
          "Basic",
          "Standard",
          "Basic",
          "Premium",
          "Standard",
          "Standard",
          "Premium",
          "Premium",
          "Basic",
          "Basic",
          "Basic",
          "Basic",
          "Standard",
          "Basic",
          "Standard",
          "Standard",
          "Basic",
          "Standard",
          "Basic",
          "Standard",
          "Standard",
          "Premium",
          "Basic",
          "Standard",
          "Standard",
          "Basic",
          "Basic",
          "Premium",
          "Premium",
          "Standard",
          "Premium",
          "Standard",
          "Standard",
          "Basic",
          "Basic",
          "Premium",
          "Basic",
          "Standard",
          "Premium",
          "Basic",
          "Premium",
          "Premium",
          "Standard",
          "Premium",
          "Premium",
          "Basic",
          "Premium",
          "Premium",
          "Premium",
          "Basic",
          "Basic",
          "Basic",
          "Basic",
          "Premium",
          "Premium",
          "Basic",
          "Standard",
          "Standard",
          "Standard",
          "Premium",
          "Premium",
          "Basic",
          "Standard",
          "Standard",
          "Basic",
          "Standard",
          "Premium",
          "Basic",
          "Standard",
          "Premium",
          "Premium",
          "Premium",
          "Standard",
          "Standard",
          "Basic",
          "Basic",
          "Standard",
          "Basic",
          "Premium",
          "Premium",
          "Basic",
          "Premium",
          "Basic",
          "Basic",
          "Premium",
          "Standard",
          "Basic",
          "Premium",
          "Basic",
          "Standard",
          "Standard",
          "Premium",
          "Basic",
          "Standard",
          "Premium",
          "Premium",
          "Standard",
          "Basic",
          "Standard",
          "Standard",
          "Standard",
          "Basic",
          "Premium",
          "Basic",
          "Basic",
          "Basic",
          "Basic",
          "Premium",
          "Basic",
          "Premium",
          "Premium",
          "Basic",
          "Basic",
          "Premium",
          "Standard",
          "Premium",
          "Basic",
          "Basic",
          "Standard",
          "Standard",
          "Standard",
          "Premium",
          "Premium",
          "Premium",
          "Basic",
          "Premium",
          "Basic",
          "Basic",
          "Premium",
          "Premium",
          "Basic",
          "Basic",
          "Basic",
          "Premium",
          "Standard",
          "Basic",
          "Premium",
          "Standard",
          "Premium",
          "Standard",
          "Basic",
          "Standard",
          "Basic",
          "Standard",
          "Standard",
          "Standard",
          "Basic",
          "Standard",
          "Premium",
          "Basic",
          "Basic",
          "Premium",
          "Standard",
          "Basic",
          "Premium",
          "Premium",
          "Basic",
          "Premium",
          "Standard",
          "Basic",
          "Basic",
          "Basic",
          "Premium",
          "Standard",
          "Premium",
          "Premium",
          "Basic",
          "Standard",
          "Premium",
          "Premium",
          "Standard",
          "Premium",
          "Standard",
          "Standard",
          "Premium",
          "Standard",
          "Standard",
          "Premium",
          "Basic",
          "Premium",
          "Standard",
          "Standard",
          "Basic",
          "Premium",
          "Standard",
          "Standard",
          "Basic",
          "Standard",
          "Premium",
          "Basic",
          "Standard",
          "Basic",
          "Standard",
          "Standard",
          "Premium",
          "Premium",
          "Premium",
          "Basic",
          "Premium",
          "Standard",
          "Standard",
          "Basic",
          "Basic",
          "Premium",
          "Premium",
          "Premium",
          "Standard",
          "Basic",
          "Premium",
          "Standard",
          "Standard",
          "Standard",
          "Standard",
          "Premium",
          "Premium",
          "Premium",
          "Standard",
          "Standard",
          "Standard",
          "Standard",
          "Standard",
          "Basic",
          "Basic",
          "Premium",
          "Standard",
          "Premium",
          "Premium",
          "Standard",
          "Premium",
          "Premium",
          "Standard",
          "Premium",
          "Standard",
          "Standard",
          "Premium",
          "Basic",
          "Basic",
          "Premium",
          "Standard",
          "Premium",
          "Basic",
          "Standard",
          "Premium",
          "Premium",
          "Premium",
          "Basic",
          "Basic",
          "Basic",
          "Standard",
          "Premium",
          "Basic",
          "Premium",
          "Basic",
          "Standard",
          "Premium",
          "Standard",
          "Standard",
          "Standard",
          "Premium",
          "Standard",
          "Standard",
          "Basic",
          "Standard",
          "Standard",
          "Basic",
          "Standard",
          "Standard",
          "Standard",
          "Premium",
          "Basic",
          "Standard",
          "Standard",
          "Premium",
          "Basic",
          "Standard",
          "Premium",
          "Standard",
          "Basic",
          "Basic",
          "Standard",
          "Basic",
          "Premium",
          "Basic",
          "Standard",
          "Premium",
          "Premium",
          "Premium",
          "Premium",
          "Premium",
          "Basic",
          "Standard",
          "Basic",
          "Basic",
          "Basic",
          "Premium",
          "Standard",
          "Premium",
          "Premium",
          "Standard",
          "Premium",
          "Standard",
          "Basic",
          "Standard",
          "Basic",
          "Premium",
          "Premium",
          "Standard",
          "Standard",
          "Basic",
          "Basic",
          "Standard",
          "Basic",
          "Basic",
          "Standard",
          "Premium",
          "Standard",
          "Premium",
          "Standard",
          "Standard",
          "Premium",
          "Premium",
          "Basic",
          "Standard",
          "Premium",
          "Standard",
          "Premium",
          "Premium",
          "Premium",
          "Premium",
          "Basic",
          "Basic",
          "Basic",
          "Premium",
          "Standard",
          "Premium",
          "Standard",
          "Basic",
          "Basic",
          "Standard",
          "Basic",
          "Premium",
          "Premium",
          "Basic",
          "Premium",
          "Basic",
          "Basic",
          "Standard",
          "Premium",
          "Basic",
          "Premium",
          "Premium",
          "Premium",
          "Standard",
          "Standard",
          "Standard",
          "Premium",
          "Standard",
          "Basic",
          "Premium",
          "Standard",
          "Premium",
          "Basic",
          "Premium",
          "Basic"
         ],
         "xaxis": "x",
         "yaxis": "y"
        }
       ],
       "layout": {
        "barmode": "relative",
        "legend": {
         "title": {
          "text": "cancelou"
         },
         "tracegroupgap": 0
        },
        "margin": {
         "t": 60
        },
        "template": {
         "data": {
          "bar": [
           {
            "error_x": {
             "color": "#2a3f5f"
            },
            "error_y": {
             "color": "#2a3f5f"
            },
            "marker": {
             "line": {
              "color": "#E5ECF6",
              "width": 0.5
             },
             "pattern": {
              "fillmode": "overlay",
              "size": 10,
              "solidity": 0.2
             }
            },
            "type": "bar"
           }
          ],
          "barpolar": [
           {
            "marker": {
             "line": {
              "color": "#E5ECF6",
              "width": 0.5
             },
             "pattern": {
              "fillmode": "overlay",
              "size": 10,
              "solidity": 0.2
             }
            },
            "type": "barpolar"
           }
          ],
          "carpet": [
           {
            "aaxis": {
             "endlinecolor": "#2a3f5f",
             "gridcolor": "white",
             "linecolor": "white",
             "minorgridcolor": "white",
             "startlinecolor": "#2a3f5f"
            },
            "baxis": {
             "endlinecolor": "#2a3f5f",
             "gridcolor": "white",
             "linecolor": "white",
             "minorgridcolor": "white",
             "startlinecolor": "#2a3f5f"
            },
            "type": "carpet"
           }
          ],
          "choropleth": [
           {
            "colorbar": {
             "outlinewidth": 0,
             "ticks": ""
            },
            "type": "choropleth"
           }
          ],
          "contour": [
           {
            "colorbar": {
             "outlinewidth": 0,
             "ticks": ""
            },
            "colorscale": [
             [
              0,
              "#0d0887"
             ],
             [
              0.1111111111111111,
              "#46039f"
             ],
             [
              0.2222222222222222,
              "#7201a8"
             ],
             [
              0.3333333333333333,
              "#9c179e"
             ],
             [
              0.4444444444444444,
              "#bd3786"
             ],
             [
              0.5555555555555556,
              "#d8576b"
             ],
             [
              0.6666666666666666,
              "#ed7953"
             ],
             [
              0.7777777777777778,
              "#fb9f3a"
             ],
             [
              0.8888888888888888,
              "#fdca26"
             ],
             [
              1,
              "#f0f921"
             ]
            ],
            "type": "contour"
           }
          ],
          "contourcarpet": [
           {
            "colorbar": {
             "outlinewidth": 0,
             "ticks": ""
            },
            "type": "contourcarpet"
           }
          ],
          "heatmap": [
           {
            "colorbar": {
             "outlinewidth": 0,
             "ticks": ""
            },
            "colorscale": [
             [
              0,
              "#0d0887"
             ],
             [
              0.1111111111111111,
              "#46039f"
             ],
             [
              0.2222222222222222,
              "#7201a8"
             ],
             [
              0.3333333333333333,
              "#9c179e"
             ],
             [
              0.4444444444444444,
              "#bd3786"
             ],
             [
              0.5555555555555556,
              "#d8576b"
             ],
             [
              0.6666666666666666,
              "#ed7953"
             ],
             [
              0.7777777777777778,
              "#fb9f3a"
             ],
             [
              0.8888888888888888,
              "#fdca26"
             ],
             [
              1,
              "#f0f921"
             ]
            ],
            "type": "heatmap"
           }
          ],
          "heatmapgl": [
           {
            "colorbar": {
             "outlinewidth": 0,
             "ticks": ""
            },
            "colorscale": [
             [
              0,
              "#0d0887"
             ],
             [
              0.1111111111111111,
              "#46039f"
             ],
             [
              0.2222222222222222,
              "#7201a8"
             ],
             [
              0.3333333333333333,
              "#9c179e"
             ],
             [
              0.4444444444444444,
              "#bd3786"
             ],
             [
              0.5555555555555556,
              "#d8576b"
             ],
             [
              0.6666666666666666,
              "#ed7953"
             ],
             [
              0.7777777777777778,
              "#fb9f3a"
             ],
             [
              0.8888888888888888,
              "#fdca26"
             ],
             [
              1,
              "#f0f921"
             ]
            ],
            "type": "heatmapgl"
           }
          ],
          "histogram": [
           {
            "marker": {
             "pattern": {
              "fillmode": "overlay",
              "size": 10,
              "solidity": 0.2
             }
            },
            "type": "histogram"
           }
          ],
          "histogram2d": [
           {
            "colorbar": {
             "outlinewidth": 0,
             "ticks": ""
            },
            "colorscale": [
             [
              0,
              "#0d0887"
             ],
             [
              0.1111111111111111,
              "#46039f"
             ],
             [
              0.2222222222222222,
              "#7201a8"
             ],
             [
              0.3333333333333333,
              "#9c179e"
             ],
             [
              0.4444444444444444,
              "#bd3786"
             ],
             [
              0.5555555555555556,
              "#d8576b"
             ],
             [
              0.6666666666666666,
              "#ed7953"
             ],
             [
              0.7777777777777778,
              "#fb9f3a"
             ],
             [
              0.8888888888888888,
              "#fdca26"
             ],
             [
              1,
              "#f0f921"
             ]
            ],
            "type": "histogram2d"
           }
          ],
          "histogram2dcontour": [
           {
            "colorbar": {
             "outlinewidth": 0,
             "ticks": ""
            },
            "colorscale": [
             [
              0,
              "#0d0887"
             ],
             [
              0.1111111111111111,
              "#46039f"
             ],
             [
              0.2222222222222222,
              "#7201a8"
             ],
             [
              0.3333333333333333,
              "#9c179e"
             ],
             [
              0.4444444444444444,
              "#bd3786"
             ],
             [
              0.5555555555555556,
              "#d8576b"
             ],
             [
              0.6666666666666666,
              "#ed7953"
             ],
             [
              0.7777777777777778,
              "#fb9f3a"
             ],
             [
              0.8888888888888888,
              "#fdca26"
             ],
             [
              1,
              "#f0f921"
             ]
            ],
            "type": "histogram2dcontour"
           }
          ],
          "mesh3d": [
           {
            "colorbar": {
             "outlinewidth": 0,
             "ticks": ""
            },
            "type": "mesh3d"
           }
          ],
          "parcoords": [
           {
            "line": {
             "colorbar": {
              "outlinewidth": 0,
              "ticks": ""
             }
            },
            "type": "parcoords"
           }
          ],
          "pie": [
           {
            "automargin": true,
            "type": "pie"
           }
          ],
          "scatter": [
           {
            "fillpattern": {
             "fillmode": "overlay",
             "size": 10,
             "solidity": 0.2
            },
            "type": "scatter"
           }
          ],
          "scatter3d": [
           {
            "line": {
             "colorbar": {
              "outlinewidth": 0,
              "ticks": ""
             }
            },
            "marker": {
             "colorbar": {
              "outlinewidth": 0,
              "ticks": ""
             }
            },
            "type": "scatter3d"
           }
          ],
          "scattercarpet": [
           {
            "marker": {
             "colorbar": {
              "outlinewidth": 0,
              "ticks": ""
             }
            },
            "type": "scattercarpet"
           }
          ],
          "scattergeo": [
           {
            "marker": {
             "colorbar": {
              "outlinewidth": 0,
              "ticks": ""
             }
            },
            "type": "scattergeo"
           }
          ],
          "scattergl": [
           {
            "marker": {
             "colorbar": {
              "outlinewidth": 0,
              "ticks": ""
             }
            },
            "type": "scattergl"
           }
          ],
          "scattermapbox": [
           {
            "marker": {
             "colorbar": {
              "outlinewidth": 0,
              "ticks": ""
             }
            },
            "type": "scattermapbox"
           }
          ],
          "scatterpolar": [
           {
            "marker": {
             "colorbar": {
              "outlinewidth": 0,
              "ticks": ""
             }
            },
            "type": "scatterpolar"
           }
          ],
          "scatterpolargl": [
           {
            "marker": {
             "colorbar": {
              "outlinewidth": 0,
              "ticks": ""
             }
            },
            "type": "scatterpolargl"
           }
          ],
          "scatterternary": [
           {
            "marker": {
             "colorbar": {
              "outlinewidth": 0,
              "ticks": ""
             }
            },
            "type": "scatterternary"
           }
          ],
          "surface": [
           {
            "colorbar": {
             "outlinewidth": 0,
             "ticks": ""
            },
            "colorscale": [
             [
              0,
              "#0d0887"
             ],
             [
              0.1111111111111111,
              "#46039f"
             ],
             [
              0.2222222222222222,
              "#7201a8"
             ],
             [
              0.3333333333333333,
              "#9c179e"
             ],
             [
              0.4444444444444444,
              "#bd3786"
             ],
             [
              0.5555555555555556,
              "#d8576b"
             ],
             [
              0.6666666666666666,
              "#ed7953"
             ],
             [
              0.7777777777777778,
              "#fb9f3a"
             ],
             [
              0.8888888888888888,
              "#fdca26"
             ],
             [
              1,
              "#f0f921"
             ]
            ],
            "type": "surface"
           }
          ],
          "table": [
           {
            "cells": {
             "fill": {
              "color": "#EBF0F8"
             },
             "line": {
              "color": "white"
             }
            },
            "header": {
             "fill": {
              "color": "#C8D4E3"
             },
             "line": {
              "color": "white"
             }
            },
            "type": "table"
           }
          ]
         },
         "layout": {
          "annotationdefaults": {
           "arrowcolor": "#2a3f5f",
           "arrowhead": 0,
           "arrowwidth": 1
          },
          "autotypenumbers": "strict",
          "coloraxis": {
           "colorbar": {
            "outlinewidth": 0,
            "ticks": ""
           }
          },
          "colorscale": {
           "diverging": [
            [
             0,
             "#8e0152"
            ],
            [
             0.1,
             "#c51b7d"
            ],
            [
             0.2,
             "#de77ae"
            ],
            [
             0.3,
             "#f1b6da"
            ],
            [
             0.4,
             "#fde0ef"
            ],
            [
             0.5,
             "#f7f7f7"
            ],
            [
             0.6,
             "#e6f5d0"
            ],
            [
             0.7,
             "#b8e186"
            ],
            [
             0.8,
             "#7fbc41"
            ],
            [
             0.9,
             "#4d9221"
            ],
            [
             1,
             "#276419"
            ]
           ],
           "sequential": [
            [
             0,
             "#0d0887"
            ],
            [
             0.1111111111111111,
             "#46039f"
            ],
            [
             0.2222222222222222,
             "#7201a8"
            ],
            [
             0.3333333333333333,
             "#9c179e"
            ],
            [
             0.4444444444444444,
             "#bd3786"
            ],
            [
             0.5555555555555556,
             "#d8576b"
            ],
            [
             0.6666666666666666,
             "#ed7953"
            ],
            [
             0.7777777777777778,
             "#fb9f3a"
            ],
            [
             0.8888888888888888,
             "#fdca26"
            ],
            [
             1,
             "#f0f921"
            ]
           ],
           "sequentialminus": [
            [
             0,
             "#0d0887"
            ],
            [
             0.1111111111111111,
             "#46039f"
            ],
            [
             0.2222222222222222,
             "#7201a8"
            ],
            [
             0.3333333333333333,
             "#9c179e"
            ],
            [
             0.4444444444444444,
             "#bd3786"
            ],
            [
             0.5555555555555556,
             "#d8576b"
            ],
            [
             0.6666666666666666,
             "#ed7953"
            ],
            [
             0.7777777777777778,
             "#fb9f3a"
            ],
            [
             0.8888888888888888,
             "#fdca26"
            ],
            [
             1,
             "#f0f921"
            ]
           ]
          },
          "colorway": [
           "#636efa",
           "#EF553B",
           "#00cc96",
           "#ab63fa",
           "#FFA15A",
           "#19d3f3",
           "#FF6692",
           "#B6E880",
           "#FF97FF",
           "#FECB52"
          ],
          "font": {
           "color": "#2a3f5f"
          },
          "geo": {
           "bgcolor": "white",
           "lakecolor": "white",
           "landcolor": "#E5ECF6",
           "showlakes": true,
           "showland": true,
           "subunitcolor": "white"
          },
          "hoverlabel": {
           "align": "left"
          },
          "hovermode": "closest",
          "mapbox": {
           "style": "light"
          },
          "paper_bgcolor": "white",
          "plot_bgcolor": "#E5ECF6",
          "polar": {
           "angularaxis": {
            "gridcolor": "white",
            "linecolor": "white",
            "ticks": ""
           },
           "bgcolor": "#E5ECF6",
           "radialaxis": {
            "gridcolor": "white",
            "linecolor": "white",
            "ticks": ""
           }
          },
          "scene": {
           "xaxis": {
            "backgroundcolor": "#E5ECF6",
            "gridcolor": "white",
            "gridwidth": 2,
            "linecolor": "white",
            "showbackground": true,
            "ticks": "",
            "zerolinecolor": "white"
           },
           "yaxis": {
            "backgroundcolor": "#E5ECF6",
            "gridcolor": "white",
            "gridwidth": 2,
            "linecolor": "white",
            "showbackground": true,
            "ticks": "",
            "zerolinecolor": "white"
           },
           "zaxis": {
            "backgroundcolor": "#E5ECF6",
            "gridcolor": "white",
            "gridwidth": 2,
            "linecolor": "white",
            "showbackground": true,
            "ticks": "",
            "zerolinecolor": "white"
           }
          },
          "shapedefaults": {
           "line": {
            "color": "#2a3f5f"
           }
          },
          "ternary": {
           "aaxis": {
            "gridcolor": "white",
            "linecolor": "white",
            "ticks": ""
           },
           "baxis": {
            "gridcolor": "white",
            "linecolor": "white",
            "ticks": ""
           },
           "bgcolor": "#E5ECF6",
           "caxis": {
            "gridcolor": "white",
            "linecolor": "white",
            "ticks": ""
           }
          },
          "title": {
           "x": 0.05
          },
          "xaxis": {
           "automargin": true,
           "gridcolor": "white",
           "linecolor": "white",
           "ticks": "",
           "title": {
            "standoff": 15
           },
           "zerolinecolor": "white",
           "zerolinewidth": 2
          },
          "yaxis": {
           "automargin": true,
           "gridcolor": "white",
           "linecolor": "white",
           "ticks": "",
           "title": {
            "standoff": 15
           },
           "zerolinecolor": "white",
           "zerolinewidth": 2
          }
         }
        },
        "xaxis": {
         "anchor": "y",
         "domain": [
          0,
          1
         ],
         "title": {
          "text": "assinatura"
         }
        },
        "yaxis": {
         "anchor": "x",
         "domain": [
          0,
          1
         ],
         "title": {
          "text": "count"
         }
        }
       }
      }
     },
     "metadata": {},
     "output_type": "display_data"
    },
    {
     "data": {
      "application/vnd.plotly.v1+json": {
       "config": {
        "plotlyServerURL": "https://plot.ly"
       },
       "data": [
        {
         "alignmentgroup": "True",
         "bingroup": "x",
         "hovertemplate": "cancelou=0.0<br>duracao_contrato=%{x}<br>count=%{y}<extra></extra>",
         "legendgroup": "0.0",
         "marker": {
          "color": "#636efa",
          "pattern": {
           "shape": ""
          }
         },
         "name": "0.0",
         "offsetgroup": "0.0",
         "orientation": "v",
         "showlegend": true,
         "type": "histogram",
         "x": [
          "Annual",
          "Annual",
          "Annual",
          "Annual",
          "Quarterly",
          "Annual",
          "Annual",
          "Annual",
          "Quarterly",
          "Quarterly",
          "Quarterly",
          "Quarterly",
          "Quarterly",
          "Annual",
          "Annual",
          "Annual",
          "Annual",
          "Quarterly",
          "Quarterly",
          "Annual",
          "Annual",
          "Annual",
          "Annual",
          "Quarterly",
          "Quarterly",
          "Quarterly",
          "Annual",
          "Quarterly",
          "Quarterly",
          "Quarterly",
          "Annual",
          "Annual",
          "Quarterly",
          "Annual",
          "Quarterly",
          "Quarterly",
          "Annual",
          "Quarterly",
          "Quarterly",
          "Quarterly",
          "Quarterly",
          "Annual",
          "Quarterly",
          "Annual",
          "Annual",
          "Annual",
          "Annual",
          "Annual",
          "Annual",
          "Annual",
          "Annual",
          "Quarterly",
          "Quarterly",
          "Quarterly",
          "Annual",
          "Annual",
          "Annual",
          "Annual",
          "Quarterly",
          "Annual",
          "Annual",
          "Quarterly",
          "Annual",
          "Annual",
          "Quarterly",
          "Annual",
          "Quarterly",
          "Annual",
          "Annual",
          "Annual",
          "Quarterly",
          "Quarterly",
          "Quarterly",
          "Quarterly",
          "Annual",
          "Quarterly",
          "Quarterly",
          "Annual",
          "Annual",
          "Annual",
          "Annual",
          "Annual",
          "Annual",
          "Quarterly",
          "Quarterly",
          "Quarterly",
          "Annual",
          "Quarterly",
          "Annual",
          "Annual",
          "Quarterly",
          "Annual",
          "Quarterly",
          "Quarterly",
          "Quarterly",
          "Quarterly",
          "Annual",
          "Annual",
          "Annual",
          "Quarterly",
          "Quarterly",
          "Annual",
          "Quarterly",
          "Quarterly",
          "Annual",
          "Annual",
          "Quarterly",
          "Annual",
          "Annual",
          "Quarterly",
          "Annual",
          "Annual",
          "Quarterly",
          "Annual",
          "Quarterly",
          "Quarterly",
          "Quarterly",
          "Quarterly",
          "Quarterly",
          "Quarterly",
          "Quarterly",
          "Quarterly",
          "Quarterly",
          "Quarterly",
          "Quarterly",
          "Annual",
          "Quarterly",
          "Annual",
          "Quarterly",
          "Quarterly",
          "Annual",
          "Annual",
          "Annual",
          "Annual",
          "Annual",
          "Quarterly",
          "Annual",
          "Quarterly",
          "Annual",
          "Annual",
          "Quarterly",
          "Annual",
          "Quarterly",
          "Quarterly",
          "Annual",
          "Annual",
          "Annual",
          "Annual",
          "Quarterly",
          "Quarterly",
          "Annual",
          "Quarterly",
          "Quarterly",
          "Annual",
          "Quarterly",
          "Quarterly",
          "Annual",
          "Annual",
          "Annual",
          "Quarterly",
          "Annual",
          "Quarterly",
          "Quarterly",
          "Quarterly",
          "Quarterly",
          "Quarterly",
          "Annual",
          "Annual",
          "Annual",
          "Quarterly",
          "Quarterly",
          "Annual",
          "Annual",
          "Annual",
          "Annual",
          "Annual",
          "Annual",
          "Quarterly",
          "Quarterly",
          "Annual",
          "Quarterly",
          "Annual",
          "Quarterly",
          "Quarterly",
          "Quarterly",
          "Annual",
          "Quarterly",
          "Annual",
          "Quarterly",
          "Annual",
          "Annual",
          "Quarterly",
          "Quarterly",
          "Annual",
          "Annual",
          "Annual",
          "Annual",
          "Annual",
          "Quarterly",
          "Quarterly",
          "Annual",
          "Annual",
          "Annual",
          "Quarterly",
          "Annual",
          "Quarterly",
          "Annual",
          "Annual",
          "Annual",
          "Quarterly",
          "Quarterly",
          "Annual",
          "Annual",
          "Annual",
          "Annual",
          "Quarterly",
          "Quarterly",
          "Quarterly",
          "Annual",
          "Annual",
          "Quarterly",
          "Annual",
          "Quarterly",
          "Quarterly",
          "Annual",
          "Quarterly",
          "Quarterly",
          "Annual",
          "Quarterly",
          "Annual",
          "Quarterly",
          "Quarterly",
          "Annual",
          "Annual",
          "Annual",
          "Annual",
          "Annual",
          "Quarterly",
          "Annual",
          "Annual",
          "Annual",
          "Quarterly",
          "Quarterly",
          "Annual",
          "Annual",
          "Annual",
          "Annual",
          "Quarterly",
          "Quarterly",
          "Annual",
          "Annual",
          "Annual",
          "Quarterly",
          "Annual",
          "Quarterly",
          "Quarterly",
          "Quarterly",
          "Annual",
          "Quarterly",
          "Quarterly",
          "Quarterly",
          "Quarterly",
          "Quarterly",
          "Annual",
          "Quarterly",
          "Annual",
          "Annual",
          "Annual",
          "Quarterly",
          "Quarterly",
          "Quarterly",
          "Annual",
          "Annual",
          "Annual",
          "Quarterly",
          "Quarterly",
          "Annual",
          "Quarterly",
          "Quarterly",
          "Annual",
          "Quarterly",
          "Quarterly",
          "Annual",
          "Annual",
          "Annual",
          "Annual",
          "Quarterly",
          "Quarterly",
          "Annual",
          "Annual",
          "Quarterly",
          "Quarterly",
          "Annual",
          "Quarterly",
          "Quarterly",
          "Annual",
          "Annual",
          "Annual",
          "Quarterly",
          "Annual",
          "Quarterly",
          "Annual",
          "Annual",
          "Quarterly",
          "Quarterly",
          "Annual",
          "Annual",
          "Quarterly",
          "Annual",
          "Annual",
          "Quarterly",
          "Annual",
          "Annual",
          "Annual",
          "Quarterly",
          "Annual",
          "Annual",
          "Annual",
          "Annual",
          "Quarterly",
          "Annual",
          "Annual",
          "Quarterly",
          "Annual",
          "Annual",
          "Quarterly",
          "Annual",
          "Quarterly",
          "Annual",
          "Annual",
          "Quarterly",
          "Quarterly",
          "Annual",
          "Quarterly",
          "Annual",
          "Annual",
          "Quarterly",
          "Quarterly",
          "Annual",
          "Quarterly",
          "Annual",
          "Quarterly",
          "Annual",
          "Quarterly",
          "Quarterly",
          "Quarterly",
          "Annual",
          "Quarterly",
          "Quarterly",
          "Quarterly",
          "Annual",
          "Annual",
          "Quarterly",
          "Annual",
          "Annual",
          "Annual",
          "Annual",
          "Quarterly",
          "Annual",
          "Quarterly",
          "Annual",
          "Quarterly",
          "Annual",
          "Annual",
          "Quarterly",
          "Quarterly",
          "Annual",
          "Annual",
          "Quarterly",
          "Quarterly",
          "Quarterly",
          "Quarterly",
          "Quarterly",
          "Quarterly",
          "Annual",
          "Quarterly",
          "Quarterly",
          "Annual",
          "Annual",
          "Quarterly",
          "Quarterly",
          "Annual",
          "Quarterly",
          "Annual",
          "Quarterly",
          "Annual",
          "Quarterly",
          "Quarterly",
          "Annual",
          "Quarterly",
          "Quarterly",
          "Annual",
          "Annual",
          "Annual",
          "Quarterly",
          "Annual",
          "Annual",
          "Quarterly",
          "Annual",
          "Quarterly",
          "Quarterly",
          "Quarterly",
          "Annual",
          "Annual",
          "Annual",
          "Quarterly",
          "Annual",
          "Quarterly",
          "Quarterly",
          "Quarterly",
          "Quarterly",
          "Quarterly",
          "Quarterly",
          "Quarterly",
          "Annual",
          "Annual",
          "Annual",
          "Quarterly",
          "Annual",
          "Annual",
          "Quarterly",
          "Quarterly",
          "Annual",
          "Annual",
          "Annual",
          "Quarterly"
         ],
         "xaxis": "x",
         "yaxis": "y"
        },
        {
         "alignmentgroup": "True",
         "bingroup": "x",
         "hovertemplate": "cancelou=1.0<br>duracao_contrato=%{x}<br>count=%{y}<extra></extra>",
         "legendgroup": "1.0",
         "marker": {
          "color": "#EF553B",
          "pattern": {
           "shape": ""
          }
         },
         "name": "1.0",
         "offsetgroup": "1.0",
         "orientation": "v",
         "showlegend": true,
         "type": "histogram",
         "x": [
          "Monthly",
          "Annual",
          "Annual",
          "Monthly",
          "Annual",
          "Annual",
          "Quarterly",
          "Quarterly",
          "Annual",
          "Annual",
          "Quarterly",
          "Quarterly",
          "Quarterly",
          "Monthly",
          "Monthly",
          "Annual",
          "Quarterly",
          "Annual",
          "Quarterly",
          "Monthly",
          "Quarterly",
          "Annual",
          "Annual",
          "Monthly",
          "Quarterly",
          "Annual",
          "Monthly",
          "Annual",
          "Quarterly",
          "Quarterly",
          "Quarterly",
          "Monthly",
          "Quarterly",
          "Monthly",
          "Annual",
          "Monthly",
          "Quarterly",
          "Monthly",
          "Quarterly",
          "Quarterly",
          "Annual",
          "Monthly",
          "Quarterly",
          "Quarterly",
          "Monthly",
          "Monthly",
          "Monthly",
          "Monthly",
          "Annual",
          "Monthly",
          "Annual",
          "Annual",
          "Quarterly",
          "Quarterly",
          "Monthly",
          "Monthly",
          "Monthly",
          "Quarterly",
          "Monthly",
          "Quarterly",
          "Quarterly",
          "Monthly",
          "Annual",
          "Annual",
          "Quarterly",
          "Annual",
          "Annual",
          "Annual",
          "Monthly",
          "Monthly",
          "Monthly",
          "Quarterly",
          "Quarterly",
          "Quarterly",
          "Monthly",
          "Quarterly",
          "Quarterly",
          "Quarterly",
          "Annual",
          "Quarterly",
          "Annual",
          "Monthly",
          "Monthly",
          "Quarterly",
          "Quarterly",
          "Monthly",
          "Quarterly",
          "Annual",
          "Quarterly",
          "Quarterly",
          "Quarterly",
          "Annual",
          "Quarterly",
          "Quarterly",
          "Monthly",
          "Monthly",
          "Quarterly",
          "Annual",
          "Annual",
          "Annual",
          "Annual",
          "Annual",
          "Annual",
          "Monthly",
          "Monthly",
          "Monthly",
          "Annual",
          "Monthly",
          "Annual",
          "Quarterly",
          "Quarterly",
          "Quarterly",
          "Quarterly",
          "Quarterly",
          "Annual",
          "Monthly",
          "Annual",
          "Annual",
          "Monthly",
          "Monthly",
          "Monthly",
          "Quarterly",
          "Annual",
          "Quarterly",
          "Quarterly",
          "Quarterly",
          "Annual",
          "Monthly",
          "Monthly",
          "Annual",
          "Quarterly",
          "Quarterly",
          "Quarterly",
          "Quarterly",
          "Annual",
          "Quarterly",
          "Monthly",
          "Annual",
          "Annual",
          "Quarterly",
          "Annual",
          "Monthly",
          "Quarterly",
          "Quarterly",
          "Annual",
          "Quarterly",
          "Monthly",
          "Monthly",
          "Monthly",
          "Monthly",
          "Monthly",
          "Quarterly",
          "Annual",
          "Quarterly",
          "Quarterly",
          "Annual",
          "Monthly",
          "Monthly",
          "Monthly",
          "Annual",
          "Annual",
          "Annual",
          "Monthly",
          "Quarterly",
          "Quarterly",
          "Annual",
          "Monthly",
          "Quarterly",
          "Monthly",
          "Annual",
          "Monthly",
          "Monthly",
          "Monthly",
          "Monthly",
          "Quarterly",
          "Quarterly",
          "Monthly",
          "Monthly",
          "Monthly",
          "Monthly",
          "Annual",
          "Annual",
          "Quarterly",
          "Quarterly",
          "Quarterly",
          "Annual",
          "Monthly",
          "Annual",
          "Annual",
          "Monthly",
          "Monthly",
          "Quarterly",
          "Quarterly",
          "Annual",
          "Monthly",
          "Monthly",
          "Monthly",
          "Monthly",
          "Monthly",
          "Quarterly",
          "Quarterly",
          "Annual",
          "Monthly",
          "Monthly",
          "Quarterly",
          "Quarterly",
          "Quarterly",
          "Quarterly",
          "Monthly",
          "Monthly",
          "Monthly",
          "Quarterly",
          "Monthly",
          "Quarterly",
          "Quarterly",
          "Annual",
          "Annual",
          "Annual",
          "Quarterly",
          "Quarterly",
          "Monthly",
          "Quarterly",
          "Annual",
          "Annual",
          "Quarterly",
          "Annual",
          "Quarterly",
          "Quarterly",
          "Quarterly",
          "Quarterly",
          "Quarterly",
          "Quarterly",
          "Quarterly",
          "Quarterly",
          "Monthly",
          "Annual",
          "Monthly",
          "Quarterly",
          "Annual",
          "Monthly",
          "Annual",
          "Quarterly",
          "Annual",
          "Quarterly",
          "Monthly",
          "Quarterly",
          "Monthly",
          "Quarterly",
          "Quarterly",
          "Monthly",
          "Monthly",
          "Monthly",
          "Annual",
          "Monthly",
          "Monthly",
          "Annual",
          "Monthly",
          "Annual",
          "Annual",
          "Annual",
          "Monthly",
          "Monthly",
          "Annual",
          "Quarterly",
          "Monthly",
          "Quarterly",
          "Quarterly",
          "Annual",
          "Monthly",
          "Quarterly",
          "Monthly",
          "Monthly",
          "Monthly",
          "Annual",
          "Annual",
          "Monthly",
          "Annual",
          "Monthly",
          "Annual",
          "Quarterly",
          "Monthly",
          "Annual",
          "Quarterly",
          "Annual",
          "Quarterly",
          "Monthly",
          "Monthly",
          "Quarterly",
          "Monthly",
          "Annual",
          "Annual",
          "Annual",
          "Quarterly",
          "Annual",
          "Monthly",
          "Annual",
          "Quarterly",
          "Annual",
          "Monthly",
          "Quarterly",
          "Annual",
          "Annual",
          "Annual",
          "Monthly",
          "Annual",
          "Monthly",
          "Monthly",
          "Monthly",
          "Annual",
          "Annual",
          "Monthly",
          "Monthly",
          "Annual",
          "Annual",
          "Annual",
          "Monthly",
          "Quarterly",
          "Monthly",
          "Quarterly",
          "Quarterly",
          "Annual",
          "Quarterly",
          "Quarterly",
          "Quarterly",
          "Annual",
          "Annual",
          "Quarterly",
          "Monthly",
          "Monthly",
          "Monthly",
          "Annual",
          "Quarterly",
          "Quarterly",
          "Quarterly",
          "Monthly",
          "Quarterly",
          "Annual",
          "Monthly",
          "Monthly",
          "Quarterly",
          "Quarterly",
          "Monthly",
          "Monthly",
          "Quarterly",
          "Quarterly",
          "Monthly",
          "Monthly",
          "Monthly",
          "Annual",
          "Annual",
          "Annual",
          "Monthly",
          "Monthly",
          "Monthly",
          "Monthly",
          "Monthly",
          "Monthly",
          "Quarterly",
          "Quarterly",
          "Quarterly",
          "Annual",
          "Monthly",
          "Annual",
          "Annual",
          "Monthly",
          "Monthly",
          "Annual",
          "Quarterly",
          "Annual",
          "Quarterly",
          "Monthly",
          "Monthly",
          "Annual",
          "Monthly",
          "Annual",
          "Monthly",
          "Annual",
          "Annual",
          "Monthly",
          "Annual",
          "Monthly",
          "Annual",
          "Quarterly",
          "Annual",
          "Quarterly",
          "Quarterly",
          "Monthly",
          "Annual",
          "Monthly",
          "Quarterly",
          "Monthly",
          "Annual",
          "Annual",
          "Monthly",
          "Quarterly",
          "Monthly",
          "Quarterly",
          "Annual",
          "Annual",
          "Quarterly",
          "Annual",
          "Annual",
          "Annual",
          "Annual",
          "Monthly",
          "Monthly",
          "Monthly",
          "Quarterly",
          "Annual",
          "Annual",
          "Annual",
          "Annual",
          "Monthly",
          "Annual",
          "Monthly",
          "Annual",
          "Quarterly",
          "Monthly",
          "Annual",
          "Annual",
          "Annual",
          "Annual",
          "Annual",
          "Quarterly",
          "Quarterly",
          "Monthly",
          "Annual",
          "Monthly",
          "Annual",
          "Quarterly",
          "Quarterly",
          "Quarterly",
          "Monthly",
          "Monthly",
          "Monthly",
          "Annual",
          "Monthly",
          "Monthly",
          "Quarterly",
          "Quarterly",
          "Monthly",
          "Annual",
          "Monthly",
          "Quarterly",
          "Annual",
          "Quarterly",
          "Quarterly",
          "Monthly",
          "Monthly",
          "Monthly",
          "Annual",
          "Annual",
          "Monthly",
          "Monthly",
          "Monthly",
          "Monthly",
          "Quarterly",
          "Annual",
          "Monthly",
          "Quarterly",
          "Monthly",
          "Monthly",
          "Annual",
          "Monthly",
          "Monthly",
          "Annual",
          "Quarterly",
          "Annual",
          "Monthly",
          "Monthly",
          "Quarterly",
          "Quarterly",
          "Annual",
          "Monthly",
          "Quarterly",
          "Monthly",
          "Annual",
          "Quarterly",
          "Annual",
          "Annual",
          "Annual",
          "Monthly",
          "Annual",
          "Monthly",
          "Quarterly",
          "Quarterly",
          "Annual",
          "Annual",
          "Annual",
          "Annual",
          "Quarterly",
          "Annual",
          "Annual",
          "Annual",
          "Annual",
          "Monthly",
          "Quarterly",
          "Quarterly",
          "Annual",
          "Monthly",
          "Annual",
          "Monthly",
          "Annual",
          "Monthly",
          "Quarterly",
          "Annual",
          "Monthly",
          "Annual",
          "Annual",
          "Annual",
          "Quarterly",
          "Monthly",
          "Annual",
          "Annual",
          "Annual",
          "Annual",
          "Monthly",
          "Quarterly",
          "Annual",
          "Monthly",
          "Annual",
          "Monthly",
          "Monthly",
          "Quarterly",
          "Annual",
          "Annual",
          "Quarterly",
          "Monthly",
          "Quarterly",
          "Quarterly",
          "Monthly",
          "Monthly",
          "Monthly",
          "Monthly",
          "Quarterly",
          "Annual",
          "Annual",
          "Monthly",
          "Quarterly",
          "Quarterly",
          "Annual",
          "Annual",
          "Monthly",
          "Monthly",
          "Quarterly",
          "Annual",
          "Monthly",
          "Annual",
          "Quarterly",
          "Annual",
          "Annual",
          "Monthly",
          "Monthly",
          "Quarterly",
          "Annual",
          "Annual",
          "Annual",
          "Quarterly",
          "Quarterly",
          "Annual",
          "Monthly",
          "Annual",
          "Quarterly",
          "Annual",
          "Quarterly",
          "Annual",
          "Annual",
          "Annual",
          "Quarterly",
          "Quarterly"
         ],
         "xaxis": "x",
         "yaxis": "y"
        }
       ],
       "layout": {
        "barmode": "relative",
        "legend": {
         "title": {
          "text": "cancelou"
         },
         "tracegroupgap": 0
        },
        "margin": {
         "t": 60
        },
        "template": {
         "data": {
          "bar": [
           {
            "error_x": {
             "color": "#2a3f5f"
            },
            "error_y": {
             "color": "#2a3f5f"
            },
            "marker": {
             "line": {
              "color": "#E5ECF6",
              "width": 0.5
             },
             "pattern": {
              "fillmode": "overlay",
              "size": 10,
              "solidity": 0.2
             }
            },
            "type": "bar"
           }
          ],
          "barpolar": [
           {
            "marker": {
             "line": {
              "color": "#E5ECF6",
              "width": 0.5
             },
             "pattern": {
              "fillmode": "overlay",
              "size": 10,
              "solidity": 0.2
             }
            },
            "type": "barpolar"
           }
          ],
          "carpet": [
           {
            "aaxis": {
             "endlinecolor": "#2a3f5f",
             "gridcolor": "white",
             "linecolor": "white",
             "minorgridcolor": "white",
             "startlinecolor": "#2a3f5f"
            },
            "baxis": {
             "endlinecolor": "#2a3f5f",
             "gridcolor": "white",
             "linecolor": "white",
             "minorgridcolor": "white",
             "startlinecolor": "#2a3f5f"
            },
            "type": "carpet"
           }
          ],
          "choropleth": [
           {
            "colorbar": {
             "outlinewidth": 0,
             "ticks": ""
            },
            "type": "choropleth"
           }
          ],
          "contour": [
           {
            "colorbar": {
             "outlinewidth": 0,
             "ticks": ""
            },
            "colorscale": [
             [
              0,
              "#0d0887"
             ],
             [
              0.1111111111111111,
              "#46039f"
             ],
             [
              0.2222222222222222,
              "#7201a8"
             ],
             [
              0.3333333333333333,
              "#9c179e"
             ],
             [
              0.4444444444444444,
              "#bd3786"
             ],
             [
              0.5555555555555556,
              "#d8576b"
             ],
             [
              0.6666666666666666,
              "#ed7953"
             ],
             [
              0.7777777777777778,
              "#fb9f3a"
             ],
             [
              0.8888888888888888,
              "#fdca26"
             ],
             [
              1,
              "#f0f921"
             ]
            ],
            "type": "contour"
           }
          ],
          "contourcarpet": [
           {
            "colorbar": {
             "outlinewidth": 0,
             "ticks": ""
            },
            "type": "contourcarpet"
           }
          ],
          "heatmap": [
           {
            "colorbar": {
             "outlinewidth": 0,
             "ticks": ""
            },
            "colorscale": [
             [
              0,
              "#0d0887"
             ],
             [
              0.1111111111111111,
              "#46039f"
             ],
             [
              0.2222222222222222,
              "#7201a8"
             ],
             [
              0.3333333333333333,
              "#9c179e"
             ],
             [
              0.4444444444444444,
              "#bd3786"
             ],
             [
              0.5555555555555556,
              "#d8576b"
             ],
             [
              0.6666666666666666,
              "#ed7953"
             ],
             [
              0.7777777777777778,
              "#fb9f3a"
             ],
             [
              0.8888888888888888,
              "#fdca26"
             ],
             [
              1,
              "#f0f921"
             ]
            ],
            "type": "heatmap"
           }
          ],
          "heatmapgl": [
           {
            "colorbar": {
             "outlinewidth": 0,
             "ticks": ""
            },
            "colorscale": [
             [
              0,
              "#0d0887"
             ],
             [
              0.1111111111111111,
              "#46039f"
             ],
             [
              0.2222222222222222,
              "#7201a8"
             ],
             [
              0.3333333333333333,
              "#9c179e"
             ],
             [
              0.4444444444444444,
              "#bd3786"
             ],
             [
              0.5555555555555556,
              "#d8576b"
             ],
             [
              0.6666666666666666,
              "#ed7953"
             ],
             [
              0.7777777777777778,
              "#fb9f3a"
             ],
             [
              0.8888888888888888,
              "#fdca26"
             ],
             [
              1,
              "#f0f921"
             ]
            ],
            "type": "heatmapgl"
           }
          ],
          "histogram": [
           {
            "marker": {
             "pattern": {
              "fillmode": "overlay",
              "size": 10,
              "solidity": 0.2
             }
            },
            "type": "histogram"
           }
          ],
          "histogram2d": [
           {
            "colorbar": {
             "outlinewidth": 0,
             "ticks": ""
            },
            "colorscale": [
             [
              0,
              "#0d0887"
             ],
             [
              0.1111111111111111,
              "#46039f"
             ],
             [
              0.2222222222222222,
              "#7201a8"
             ],
             [
              0.3333333333333333,
              "#9c179e"
             ],
             [
              0.4444444444444444,
              "#bd3786"
             ],
             [
              0.5555555555555556,
              "#d8576b"
             ],
             [
              0.6666666666666666,
              "#ed7953"
             ],
             [
              0.7777777777777778,
              "#fb9f3a"
             ],
             [
              0.8888888888888888,
              "#fdca26"
             ],
             [
              1,
              "#f0f921"
             ]
            ],
            "type": "histogram2d"
           }
          ],
          "histogram2dcontour": [
           {
            "colorbar": {
             "outlinewidth": 0,
             "ticks": ""
            },
            "colorscale": [
             [
              0,
              "#0d0887"
             ],
             [
              0.1111111111111111,
              "#46039f"
             ],
             [
              0.2222222222222222,
              "#7201a8"
             ],
             [
              0.3333333333333333,
              "#9c179e"
             ],
             [
              0.4444444444444444,
              "#bd3786"
             ],
             [
              0.5555555555555556,
              "#d8576b"
             ],
             [
              0.6666666666666666,
              "#ed7953"
             ],
             [
              0.7777777777777778,
              "#fb9f3a"
             ],
             [
              0.8888888888888888,
              "#fdca26"
             ],
             [
              1,
              "#f0f921"
             ]
            ],
            "type": "histogram2dcontour"
           }
          ],
          "mesh3d": [
           {
            "colorbar": {
             "outlinewidth": 0,
             "ticks": ""
            },
            "type": "mesh3d"
           }
          ],
          "parcoords": [
           {
            "line": {
             "colorbar": {
              "outlinewidth": 0,
              "ticks": ""
             }
            },
            "type": "parcoords"
           }
          ],
          "pie": [
           {
            "automargin": true,
            "type": "pie"
           }
          ],
          "scatter": [
           {
            "fillpattern": {
             "fillmode": "overlay",
             "size": 10,
             "solidity": 0.2
            },
            "type": "scatter"
           }
          ],
          "scatter3d": [
           {
            "line": {
             "colorbar": {
              "outlinewidth": 0,
              "ticks": ""
             }
            },
            "marker": {
             "colorbar": {
              "outlinewidth": 0,
              "ticks": ""
             }
            },
            "type": "scatter3d"
           }
          ],
          "scattercarpet": [
           {
            "marker": {
             "colorbar": {
              "outlinewidth": 0,
              "ticks": ""
             }
            },
            "type": "scattercarpet"
           }
          ],
          "scattergeo": [
           {
            "marker": {
             "colorbar": {
              "outlinewidth": 0,
              "ticks": ""
             }
            },
            "type": "scattergeo"
           }
          ],
          "scattergl": [
           {
            "marker": {
             "colorbar": {
              "outlinewidth": 0,
              "ticks": ""
             }
            },
            "type": "scattergl"
           }
          ],
          "scattermapbox": [
           {
            "marker": {
             "colorbar": {
              "outlinewidth": 0,
              "ticks": ""
             }
            },
            "type": "scattermapbox"
           }
          ],
          "scatterpolar": [
           {
            "marker": {
             "colorbar": {
              "outlinewidth": 0,
              "ticks": ""
             }
            },
            "type": "scatterpolar"
           }
          ],
          "scatterpolargl": [
           {
            "marker": {
             "colorbar": {
              "outlinewidth": 0,
              "ticks": ""
             }
            },
            "type": "scatterpolargl"
           }
          ],
          "scatterternary": [
           {
            "marker": {
             "colorbar": {
              "outlinewidth": 0,
              "ticks": ""
             }
            },
            "type": "scatterternary"
           }
          ],
          "surface": [
           {
            "colorbar": {
             "outlinewidth": 0,
             "ticks": ""
            },
            "colorscale": [
             [
              0,
              "#0d0887"
             ],
             [
              0.1111111111111111,
              "#46039f"
             ],
             [
              0.2222222222222222,
              "#7201a8"
             ],
             [
              0.3333333333333333,
              "#9c179e"
             ],
             [
              0.4444444444444444,
              "#bd3786"
             ],
             [
              0.5555555555555556,
              "#d8576b"
             ],
             [
              0.6666666666666666,
              "#ed7953"
             ],
             [
              0.7777777777777778,
              "#fb9f3a"
             ],
             [
              0.8888888888888888,
              "#fdca26"
             ],
             [
              1,
              "#f0f921"
             ]
            ],
            "type": "surface"
           }
          ],
          "table": [
           {
            "cells": {
             "fill": {
              "color": "#EBF0F8"
             },
             "line": {
              "color": "white"
             }
            },
            "header": {
             "fill": {
              "color": "#C8D4E3"
             },
             "line": {
              "color": "white"
             }
            },
            "type": "table"
           }
          ]
         },
         "layout": {
          "annotationdefaults": {
           "arrowcolor": "#2a3f5f",
           "arrowhead": 0,
           "arrowwidth": 1
          },
          "autotypenumbers": "strict",
          "coloraxis": {
           "colorbar": {
            "outlinewidth": 0,
            "ticks": ""
           }
          },
          "colorscale": {
           "diverging": [
            [
             0,
             "#8e0152"
            ],
            [
             0.1,
             "#c51b7d"
            ],
            [
             0.2,
             "#de77ae"
            ],
            [
             0.3,
             "#f1b6da"
            ],
            [
             0.4,
             "#fde0ef"
            ],
            [
             0.5,
             "#f7f7f7"
            ],
            [
             0.6,
             "#e6f5d0"
            ],
            [
             0.7,
             "#b8e186"
            ],
            [
             0.8,
             "#7fbc41"
            ],
            [
             0.9,
             "#4d9221"
            ],
            [
             1,
             "#276419"
            ]
           ],
           "sequential": [
            [
             0,
             "#0d0887"
            ],
            [
             0.1111111111111111,
             "#46039f"
            ],
            [
             0.2222222222222222,
             "#7201a8"
            ],
            [
             0.3333333333333333,
             "#9c179e"
            ],
            [
             0.4444444444444444,
             "#bd3786"
            ],
            [
             0.5555555555555556,
             "#d8576b"
            ],
            [
             0.6666666666666666,
             "#ed7953"
            ],
            [
             0.7777777777777778,
             "#fb9f3a"
            ],
            [
             0.8888888888888888,
             "#fdca26"
            ],
            [
             1,
             "#f0f921"
            ]
           ],
           "sequentialminus": [
            [
             0,
             "#0d0887"
            ],
            [
             0.1111111111111111,
             "#46039f"
            ],
            [
             0.2222222222222222,
             "#7201a8"
            ],
            [
             0.3333333333333333,
             "#9c179e"
            ],
            [
             0.4444444444444444,
             "#bd3786"
            ],
            [
             0.5555555555555556,
             "#d8576b"
            ],
            [
             0.6666666666666666,
             "#ed7953"
            ],
            [
             0.7777777777777778,
             "#fb9f3a"
            ],
            [
             0.8888888888888888,
             "#fdca26"
            ],
            [
             1,
             "#f0f921"
            ]
           ]
          },
          "colorway": [
           "#636efa",
           "#EF553B",
           "#00cc96",
           "#ab63fa",
           "#FFA15A",
           "#19d3f3",
           "#FF6692",
           "#B6E880",
           "#FF97FF",
           "#FECB52"
          ],
          "font": {
           "color": "#2a3f5f"
          },
          "geo": {
           "bgcolor": "white",
           "lakecolor": "white",
           "landcolor": "#E5ECF6",
           "showlakes": true,
           "showland": true,
           "subunitcolor": "white"
          },
          "hoverlabel": {
           "align": "left"
          },
          "hovermode": "closest",
          "mapbox": {
           "style": "light"
          },
          "paper_bgcolor": "white",
          "plot_bgcolor": "#E5ECF6",
          "polar": {
           "angularaxis": {
            "gridcolor": "white",
            "linecolor": "white",
            "ticks": ""
           },
           "bgcolor": "#E5ECF6",
           "radialaxis": {
            "gridcolor": "white",
            "linecolor": "white",
            "ticks": ""
           }
          },
          "scene": {
           "xaxis": {
            "backgroundcolor": "#E5ECF6",
            "gridcolor": "white",
            "gridwidth": 2,
            "linecolor": "white",
            "showbackground": true,
            "ticks": "",
            "zerolinecolor": "white"
           },
           "yaxis": {
            "backgroundcolor": "#E5ECF6",
            "gridcolor": "white",
            "gridwidth": 2,
            "linecolor": "white",
            "showbackground": true,
            "ticks": "",
            "zerolinecolor": "white"
           },
           "zaxis": {
            "backgroundcolor": "#E5ECF6",
            "gridcolor": "white",
            "gridwidth": 2,
            "linecolor": "white",
            "showbackground": true,
            "ticks": "",
            "zerolinecolor": "white"
           }
          },
          "shapedefaults": {
           "line": {
            "color": "#2a3f5f"
           }
          },
          "ternary": {
           "aaxis": {
            "gridcolor": "white",
            "linecolor": "white",
            "ticks": ""
           },
           "baxis": {
            "gridcolor": "white",
            "linecolor": "white",
            "ticks": ""
           },
           "bgcolor": "#E5ECF6",
           "caxis": {
            "gridcolor": "white",
            "linecolor": "white",
            "ticks": ""
           }
          },
          "title": {
           "x": 0.05
          },
          "xaxis": {
           "automargin": true,
           "gridcolor": "white",
           "linecolor": "white",
           "ticks": "",
           "title": {
            "standoff": 15
           },
           "zerolinecolor": "white",
           "zerolinewidth": 2
          },
          "yaxis": {
           "automargin": true,
           "gridcolor": "white",
           "linecolor": "white",
           "ticks": "",
           "title": {
            "standoff": 15
           },
           "zerolinecolor": "white",
           "zerolinewidth": 2
          }
         }
        },
        "xaxis": {
         "anchor": "y",
         "domain": [
          0,
          1
         ],
         "title": {
          "text": "duracao_contrato"
         }
        },
        "yaxis": {
         "anchor": "x",
         "domain": [
          0,
          1
         ],
         "title": {
          "text": "count"
         }
        }
       }
      }
     },
     "metadata": {},
     "output_type": "display_data"
    },
    {
     "data": {
      "application/vnd.plotly.v1+json": {
       "config": {
        "plotlyServerURL": "https://plot.ly"
       },
       "data": [
        {
         "alignmentgroup": "True",
         "bingroup": "x",
         "hovertemplate": "cancelou=0.0<br>total_gasto=%{x}<br>count=%{y}<extra></extra>",
         "legendgroup": "0.0",
         "marker": {
          "color": "#636efa",
          "pattern": {
           "shape": ""
          }
         },
         "name": "0.0",
         "offsetgroup": "0.0",
         "orientation": "v",
         "showlegend": true,
         "type": "histogram",
         "x": [
          909.58,
          768.78,
          751,
          839.71,
          543.93,
          621.67,
          866.04,
          886.05,
          642.54,
          950.18,
          524.72,
          992.53,
          622.88,
          571.1,
          874.94,
          751.63,
          831.27,
          771.31,
          685.71,
          638.84,
          994.51,
          798.8,
          782.54,
          547.25,
          585.96,
          928.38,
          770.18,
          602.33,
          955.24,
          603.78,
          528.14,
          904.64,
          812.71,
          989.87,
          843.46,
          935.54,
          518.37,
          643.54,
          581.69,
          554.57,
          945.73,
          645.6,
          751.64,
          570.03,
          974.52,
          756.05,
          942.63,
          934.26,
          963.2,
          649.8,
          959.62,
          876.66,
          963.84,
          649.81,
          501.6,
          741.98,
          895.39,
          921.36,
          572.11,
          900.28,
          896.55,
          789.32,
          820.32,
          890.52,
          996.27,
          803.17,
          595.79,
          606.87,
          847.19,
          583.94,
          556.91,
          606.49,
          746.13,
          656.57,
          769.67,
          780.31,
          795.53,
          857.05,
          668.84,
          988.56,
          607.02,
          578.9,
          699.84,
          659.81,
          623.63,
          996.02,
          875.8,
          951.94,
          666.71,
          970.35,
          565.18,
          894.54,
          638.7,
          644.73,
          517.57,
          518.75,
          664.43,
          778.65,
          935.92,
          917.8,
          642.17,
          985.58,
          728.34,
          981.97,
          709.92,
          804.93,
          981.1,
          720.48,
          530.3,
          938.11,
          901.32,
          836.06,
          660.32,
          569.91,
          804.78,
          634.86,
          831.75,
          794.94,
          613.86,
          750.51,
          707.83,
          977.64,
          787,
          740.95,
          859.97,
          517.89,
          785.89,
          885.77,
          922.61,
          942.76,
          640.7,
          530.4,
          502.82,
          595,
          805.25,
          724.81,
          544.9,
          996.81,
          952.48,
          884.4,
          869.01,
          853.41,
          829.28,
          619.61,
          895.91,
          763.85,
          582,
          678.16,
          873.82,
          700.55,
          810.49,
          791,
          676.78,
          870.45,
          719.28,
          681.56,
          785.43,
          881.27,
          503.5,
          590.44,
          944.81,
          947.84,
          554.15,
          889.78,
          902.37,
          931.5,
          932.41,
          614.75,
          831.69,
          908.82,
          885.12,
          981.25,
          979.25,
          899.55,
          610.54,
          645.33,
          829.75,
          860,
          783.37,
          741.32,
          904.87,
          712.05,
          568.78,
          557.86,
          759,
          838.06,
          845.32,
          637.37,
          719.15,
          778,
          738.87,
          982.78,
          570.49,
          559.77,
          943.04,
          632.69,
          908.8,
          841.11,
          561.3,
          821.95,
          566.74,
          732.79,
          707.46,
          674.44,
          828.53,
          575.57,
          509.34,
          961.36,
          856.6,
          753.06,
          866.49,
          939.01,
          516.6,
          527.45,
          573.34,
          534.59,
          852.79,
          858.04,
          594.79,
          917.69,
          906.03,
          554.26,
          676.46,
          936.48,
          567.68,
          861.98,
          609.8,
          839.38,
          582.33,
          786.72,
          514.98,
          922.08,
          807.83,
          632.62,
          653.41,
          769.76,
          657.97,
          997.38,
          992.69,
          945.24,
          753.13,
          983.51,
          880.26,
          708.69,
          676.23,
          772.92,
          966.81,
          734.74,
          758.62,
          931.51,
          652.95,
          517.42,
          674.31,
          672.74,
          778.36,
          750.98,
          552.81,
          947.78,
          530.31,
          954.22,
          633.58,
          936.14,
          721.31,
          786.92,
          977.24,
          892.53,
          891.04,
          961.17,
          924.29,
          510.08,
          564.1,
          880.37,
          860.96,
          812.54,
          968.92,
          873.82,
          645.38,
          829.68,
          580.21,
          717.34,
          813.96,
          587,
          590.6,
          644.9,
          739.07,
          591.7,
          513.39,
          675.35,
          955.48,
          618.22,
          631.27,
          600.73,
          968.25,
          518.11,
          749.58,
          846.51,
          894.18,
          923.09,
          676.06,
          931,
          665.13,
          787.76,
          546.06,
          586.48,
          930.16,
          505.76,
          868.24,
          898.48,
          821.27,
          756.25,
          680.52,
          867.03,
          901.34,
          503.44,
          676.33,
          709.17,
          636.08,
          631.72,
          958.81,
          539.25,
          681.18,
          870.77,
          514.32,
          992.22,
          907.42,
          591.18,
          577.35,
          565.27,
          924.36,
          975.02,
          602.33,
          533.63,
          773.12,
          820.07,
          666.08,
          999.7,
          867.85,
          864.74,
          602.47,
          925,
          779.47,
          547.38,
          767.06,
          901.78,
          681.35,
          536.69,
          889.25,
          572.05,
          631.67,
          591.09,
          676.11,
          680.34,
          928.89,
          915.07,
          884.1,
          637.43,
          628.31,
          667.16,
          985.1,
          995.76,
          957.94,
          827.96,
          615.92,
          854.74,
          598.36,
          739.32,
          684.25,
          779.52,
          973.78,
          675.44,
          573.82,
          773.81,
          939.36,
          917.81,
          758.97,
          744.27,
          575.26,
          961.19,
          846.3,
          800.48,
          976.55,
          755.63,
          779.23,
          642.71,
          806.51,
          803.05,
          639.1,
          616.76,
          619.8,
          878.84,
          740.63,
          731.28,
          524.07,
          616.37,
          510.66,
          966.58,
          790.13,
          541.04,
          855.94,
          949.45,
          516.24,
          872.07,
          774.83,
          798.44,
          613.94,
          820.81,
          959,
          778.3,
          783.12,
          729.48,
          627.5,
          602.64,
          745.85,
          731.77,
          792.85,
          923.99,
          777.71,
          614.38,
          705.69,
          975.11,
          601.02,
          912.24,
          998.25,
          593.84,
          569.27,
          854.19
         ],
         "xaxis": "x",
         "yaxis": "y"
        },
        {
         "alignmentgroup": "True",
         "bingroup": "x",
         "hovertemplate": "cancelou=1.0<br>total_gasto=%{x}<br>count=%{y}<extra></extra>",
         "legendgroup": "1.0",
         "marker": {
          "color": "#EF553B",
          "pattern": {
           "shape": ""
          }
         },
         "name": "1.0",
         "offsetgroup": "1.0",
         "orientation": "v",
         "showlegend": true,
         "type": "histogram",
         "x": [
          207,
          398,
          507,
          752,
          549,
          337,
          428,
          299,
          562,
          210,
          850,
          213,
          547.9,
          613,
          145,
          145.33,
          192,
          165.83,
          550,
          261.76,
          167,
          640,
          188.28,
          558,
          335,
          885,
          666,
          783.41,
          211,
          166.92,
          884,
          256,
          580,
          205,
          127,
          431,
          482,
          350.27,
          631,
          337,
          601,
          909,
          457,
          158.66,
          873,
          255,
          725,
          798,
          905,
          620,
          255,
          644,
          109,
          109.59,
          325,
          573,
          592,
          675,
          404.86,
          504,
          742,
          259.21,
          395,
          715,
          299,
          491,
          922,
          314,
          461,
          168.3,
          376.62,
          984,
          498.11,
          552,
          444,
          822,
          676,
          746,
          149,
          984,
          240,
          149,
          889,
          710,
          609,
          286,
          736,
          779.74,
          281,
          694.67,
          330,
          123,
          770,
          368.41,
          187,
          799.93,
          585,
          491,
          508,
          576.85,
          523,
          799,
          931,
          135,
          715,
          202.36,
          647,
          635,
          979,
          144.35,
          434,
          511,
          924,
          361,
          585,
          932,
          450,
          654,
          843,
          821,
          198,
          131,
          132,
          743,
          520,
          466,
          541,
          395,
          294.97,
          130,
          822,
          534,
          634.94,
          615,
          183.37,
          574,
          741.5,
          114,
          377.71,
          816,
          850,
          603,
          159,
          489,
          708.4,
          117,
          937,
          100,
          392,
          260.39,
          752,
          623,
          569,
          657,
          532,
          144,
          698,
          236,
          544.06,
          262,
          823,
          497,
          633,
          822,
          509,
          257,
          332,
          128,
          318,
          284,
          659,
          955,
          258,
          748,
          337.73,
          487.49,
          442,
          583,
          456,
          199.01,
          407.21,
          518,
          652,
          476.45,
          379,
          710,
          251.95,
          934,
          713,
          206,
          171,
          773,
          737,
          824.52,
          468,
          248,
          256,
          654,
          914,
          595.6,
          410,
          760,
          752,
          253,
          218.23,
          485,
          804,
          764,
          600.47,
          867,
          622,
          491,
          941,
          430,
          781,
          912,
          308,
          554,
          151,
          511,
          925,
          474,
          291,
          341.85,
          238,
          509.71,
          861,
          793,
          844,
          127,
          724,
          944,
          978,
          552,
          716,
          664,
          844,
          165,
          555,
          222,
          783,
          655,
          907,
          897.49,
          402,
          319,
          595,
          737,
          578,
          761,
          399,
          856,
          720,
          392,
          533.78,
          899.43,
          175,
          972,
          957,
          427,
          490,
          467,
          371,
          142,
          420,
          427.34,
          344,
          500,
          880,
          337.83,
          740,
          980,
          260,
          390.22,
          108,
          942,
          756,
          965.83,
          570.65,
          865,
          225,
          780,
          309.5,
          234,
          423,
          273,
          248,
          189,
          786,
          325.27,
          540,
          848,
          867,
          399,
          199.78,
          787.74,
          400,
          163,
          364,
          966.56,
          843,
          113,
          755,
          475.32,
          821,
          797.55,
          515.45,
          765,
          129,
          520,
          970,
          173,
          440,
          381.82,
          392.36,
          708,
          285,
          410,
          596,
          868,
          704,
          535,
          108.45,
          511,
          741,
          633.36,
          173,
          124,
          575,
          663,
          306,
          413,
          135,
          632,
          478,
          382,
          344,
          409,
          551,
          837,
          137,
          202,
          668.35,
          262,
          558,
          463,
          180,
          645,
          280,
          476,
          515.35,
          823,
          498,
          927,
          973,
          662.53,
          480,
          251,
          251,
          175,
          379,
          813,
          991.47,
          860,
          704,
          954,
          963,
          374,
          865,
          379.55,
          786,
          737.98,
          602,
          993,
          867,
          577,
          652,
          455,
          124,
          984.82,
          915,
          300,
          441.25,
          473.35,
          388.02,
          842,
          244,
          891,
          719,
          784,
          703,
          678.76,
          982,
          485,
          173,
          900.08,
          821.32,
          869.05,
          527,
          920,
          959.63,
          367,
          217.82,
          678,
          375,
          397,
          819,
          806,
          583.37,
          205.78,
          136,
          624,
          528,
          324,
          294.82,
          289,
          466,
          284,
          910,
          201,
          433,
          457,
          235.41,
          994.51,
          832.31,
          629.87,
          422,
          904,
          648,
          217,
          971,
          598,
          147,
          914,
          136.14,
          370,
          768.05,
          661,
          742,
          706,
          599.78,
          981,
          200,
          201,
          490,
          377,
          507,
          491,
          625,
          192,
          283,
          418,
          363,
          840,
          593,
          634,
          223.73,
          583,
          231,
          115,
          918,
          953,
          440,
          621.14,
          183,
          626,
          307,
          345,
          119,
          299,
          685,
          987,
          999,
          143,
          558,
          101.57,
          822.67,
          252,
          365,
          181,
          611,
          734,
          690,
          502.6,
          303,
          218,
          768,
          798,
          332,
          297,
          237,
          266.58,
          203,
          521,
          354,
          660,
          337,
          393,
          819,
          585,
          180,
          308,
          137,
          207,
          936,
          685.86,
          797.89,
          997.56,
          834,
          806,
          545,
          339,
          331,
          109,
          386,
          988,
          359,
          924,
          607,
          525,
          895,
          683,
          829,
          223.76,
          689.08,
          680.67,
          771.09,
          466.34,
          701,
          744,
          581,
          539,
          440,
          539,
          999,
          397,
          563,
          218,
          972,
          347,
          898,
          794,
          975,
          452,
          818.28,
          787.93,
          233,
          198.15,
          210.91,
          219,
          434.23,
          151.04,
          721,
          149,
          881.06,
          135,
          704.51,
          135,
          225.76,
          696.87,
          146,
          349,
          798,
          692.16,
          405,
          166,
          663,
          856,
          449,
          496
         ],
         "xaxis": "x",
         "yaxis": "y"
        }
       ],
       "layout": {
        "barmode": "relative",
        "legend": {
         "title": {
          "text": "cancelou"
         },
         "tracegroupgap": 0
        },
        "margin": {
         "t": 60
        },
        "template": {
         "data": {
          "bar": [
           {
            "error_x": {
             "color": "#2a3f5f"
            },
            "error_y": {
             "color": "#2a3f5f"
            },
            "marker": {
             "line": {
              "color": "#E5ECF6",
              "width": 0.5
             },
             "pattern": {
              "fillmode": "overlay",
              "size": 10,
              "solidity": 0.2
             }
            },
            "type": "bar"
           }
          ],
          "barpolar": [
           {
            "marker": {
             "line": {
              "color": "#E5ECF6",
              "width": 0.5
             },
             "pattern": {
              "fillmode": "overlay",
              "size": 10,
              "solidity": 0.2
             }
            },
            "type": "barpolar"
           }
          ],
          "carpet": [
           {
            "aaxis": {
             "endlinecolor": "#2a3f5f",
             "gridcolor": "white",
             "linecolor": "white",
             "minorgridcolor": "white",
             "startlinecolor": "#2a3f5f"
            },
            "baxis": {
             "endlinecolor": "#2a3f5f",
             "gridcolor": "white",
             "linecolor": "white",
             "minorgridcolor": "white",
             "startlinecolor": "#2a3f5f"
            },
            "type": "carpet"
           }
          ],
          "choropleth": [
           {
            "colorbar": {
             "outlinewidth": 0,
             "ticks": ""
            },
            "type": "choropleth"
           }
          ],
          "contour": [
           {
            "colorbar": {
             "outlinewidth": 0,
             "ticks": ""
            },
            "colorscale": [
             [
              0,
              "#0d0887"
             ],
             [
              0.1111111111111111,
              "#46039f"
             ],
             [
              0.2222222222222222,
              "#7201a8"
             ],
             [
              0.3333333333333333,
              "#9c179e"
             ],
             [
              0.4444444444444444,
              "#bd3786"
             ],
             [
              0.5555555555555556,
              "#d8576b"
             ],
             [
              0.6666666666666666,
              "#ed7953"
             ],
             [
              0.7777777777777778,
              "#fb9f3a"
             ],
             [
              0.8888888888888888,
              "#fdca26"
             ],
             [
              1,
              "#f0f921"
             ]
            ],
            "type": "contour"
           }
          ],
          "contourcarpet": [
           {
            "colorbar": {
             "outlinewidth": 0,
             "ticks": ""
            },
            "type": "contourcarpet"
           }
          ],
          "heatmap": [
           {
            "colorbar": {
             "outlinewidth": 0,
             "ticks": ""
            },
            "colorscale": [
             [
              0,
              "#0d0887"
             ],
             [
              0.1111111111111111,
              "#46039f"
             ],
             [
              0.2222222222222222,
              "#7201a8"
             ],
             [
              0.3333333333333333,
              "#9c179e"
             ],
             [
              0.4444444444444444,
              "#bd3786"
             ],
             [
              0.5555555555555556,
              "#d8576b"
             ],
             [
              0.6666666666666666,
              "#ed7953"
             ],
             [
              0.7777777777777778,
              "#fb9f3a"
             ],
             [
              0.8888888888888888,
              "#fdca26"
             ],
             [
              1,
              "#f0f921"
             ]
            ],
            "type": "heatmap"
           }
          ],
          "heatmapgl": [
           {
            "colorbar": {
             "outlinewidth": 0,
             "ticks": ""
            },
            "colorscale": [
             [
              0,
              "#0d0887"
             ],
             [
              0.1111111111111111,
              "#46039f"
             ],
             [
              0.2222222222222222,
              "#7201a8"
             ],
             [
              0.3333333333333333,
              "#9c179e"
             ],
             [
              0.4444444444444444,
              "#bd3786"
             ],
             [
              0.5555555555555556,
              "#d8576b"
             ],
             [
              0.6666666666666666,
              "#ed7953"
             ],
             [
              0.7777777777777778,
              "#fb9f3a"
             ],
             [
              0.8888888888888888,
              "#fdca26"
             ],
             [
              1,
              "#f0f921"
             ]
            ],
            "type": "heatmapgl"
           }
          ],
          "histogram": [
           {
            "marker": {
             "pattern": {
              "fillmode": "overlay",
              "size": 10,
              "solidity": 0.2
             }
            },
            "type": "histogram"
           }
          ],
          "histogram2d": [
           {
            "colorbar": {
             "outlinewidth": 0,
             "ticks": ""
            },
            "colorscale": [
             [
              0,
              "#0d0887"
             ],
             [
              0.1111111111111111,
              "#46039f"
             ],
             [
              0.2222222222222222,
              "#7201a8"
             ],
             [
              0.3333333333333333,
              "#9c179e"
             ],
             [
              0.4444444444444444,
              "#bd3786"
             ],
             [
              0.5555555555555556,
              "#d8576b"
             ],
             [
              0.6666666666666666,
              "#ed7953"
             ],
             [
              0.7777777777777778,
              "#fb9f3a"
             ],
             [
              0.8888888888888888,
              "#fdca26"
             ],
             [
              1,
              "#f0f921"
             ]
            ],
            "type": "histogram2d"
           }
          ],
          "histogram2dcontour": [
           {
            "colorbar": {
             "outlinewidth": 0,
             "ticks": ""
            },
            "colorscale": [
             [
              0,
              "#0d0887"
             ],
             [
              0.1111111111111111,
              "#46039f"
             ],
             [
              0.2222222222222222,
              "#7201a8"
             ],
             [
              0.3333333333333333,
              "#9c179e"
             ],
             [
              0.4444444444444444,
              "#bd3786"
             ],
             [
              0.5555555555555556,
              "#d8576b"
             ],
             [
              0.6666666666666666,
              "#ed7953"
             ],
             [
              0.7777777777777778,
              "#fb9f3a"
             ],
             [
              0.8888888888888888,
              "#fdca26"
             ],
             [
              1,
              "#f0f921"
             ]
            ],
            "type": "histogram2dcontour"
           }
          ],
          "mesh3d": [
           {
            "colorbar": {
             "outlinewidth": 0,
             "ticks": ""
            },
            "type": "mesh3d"
           }
          ],
          "parcoords": [
           {
            "line": {
             "colorbar": {
              "outlinewidth": 0,
              "ticks": ""
             }
            },
            "type": "parcoords"
           }
          ],
          "pie": [
           {
            "automargin": true,
            "type": "pie"
           }
          ],
          "scatter": [
           {
            "fillpattern": {
             "fillmode": "overlay",
             "size": 10,
             "solidity": 0.2
            },
            "type": "scatter"
           }
          ],
          "scatter3d": [
           {
            "line": {
             "colorbar": {
              "outlinewidth": 0,
              "ticks": ""
             }
            },
            "marker": {
             "colorbar": {
              "outlinewidth": 0,
              "ticks": ""
             }
            },
            "type": "scatter3d"
           }
          ],
          "scattercarpet": [
           {
            "marker": {
             "colorbar": {
              "outlinewidth": 0,
              "ticks": ""
             }
            },
            "type": "scattercarpet"
           }
          ],
          "scattergeo": [
           {
            "marker": {
             "colorbar": {
              "outlinewidth": 0,
              "ticks": ""
             }
            },
            "type": "scattergeo"
           }
          ],
          "scattergl": [
           {
            "marker": {
             "colorbar": {
              "outlinewidth": 0,
              "ticks": ""
             }
            },
            "type": "scattergl"
           }
          ],
          "scattermapbox": [
           {
            "marker": {
             "colorbar": {
              "outlinewidth": 0,
              "ticks": ""
             }
            },
            "type": "scattermapbox"
           }
          ],
          "scatterpolar": [
           {
            "marker": {
             "colorbar": {
              "outlinewidth": 0,
              "ticks": ""
             }
            },
            "type": "scatterpolar"
           }
          ],
          "scatterpolargl": [
           {
            "marker": {
             "colorbar": {
              "outlinewidth": 0,
              "ticks": ""
             }
            },
            "type": "scatterpolargl"
           }
          ],
          "scatterternary": [
           {
            "marker": {
             "colorbar": {
              "outlinewidth": 0,
              "ticks": ""
             }
            },
            "type": "scatterternary"
           }
          ],
          "surface": [
           {
            "colorbar": {
             "outlinewidth": 0,
             "ticks": ""
            },
            "colorscale": [
             [
              0,
              "#0d0887"
             ],
             [
              0.1111111111111111,
              "#46039f"
             ],
             [
              0.2222222222222222,
              "#7201a8"
             ],
             [
              0.3333333333333333,
              "#9c179e"
             ],
             [
              0.4444444444444444,
              "#bd3786"
             ],
             [
              0.5555555555555556,
              "#d8576b"
             ],
             [
              0.6666666666666666,
              "#ed7953"
             ],
             [
              0.7777777777777778,
              "#fb9f3a"
             ],
             [
              0.8888888888888888,
              "#fdca26"
             ],
             [
              1,
              "#f0f921"
             ]
            ],
            "type": "surface"
           }
          ],
          "table": [
           {
            "cells": {
             "fill": {
              "color": "#EBF0F8"
             },
             "line": {
              "color": "white"
             }
            },
            "header": {
             "fill": {
              "color": "#C8D4E3"
             },
             "line": {
              "color": "white"
             }
            },
            "type": "table"
           }
          ]
         },
         "layout": {
          "annotationdefaults": {
           "arrowcolor": "#2a3f5f",
           "arrowhead": 0,
           "arrowwidth": 1
          },
          "autotypenumbers": "strict",
          "coloraxis": {
           "colorbar": {
            "outlinewidth": 0,
            "ticks": ""
           }
          },
          "colorscale": {
           "diverging": [
            [
             0,
             "#8e0152"
            ],
            [
             0.1,
             "#c51b7d"
            ],
            [
             0.2,
             "#de77ae"
            ],
            [
             0.3,
             "#f1b6da"
            ],
            [
             0.4,
             "#fde0ef"
            ],
            [
             0.5,
             "#f7f7f7"
            ],
            [
             0.6,
             "#e6f5d0"
            ],
            [
             0.7,
             "#b8e186"
            ],
            [
             0.8,
             "#7fbc41"
            ],
            [
             0.9,
             "#4d9221"
            ],
            [
             1,
             "#276419"
            ]
           ],
           "sequential": [
            [
             0,
             "#0d0887"
            ],
            [
             0.1111111111111111,
             "#46039f"
            ],
            [
             0.2222222222222222,
             "#7201a8"
            ],
            [
             0.3333333333333333,
             "#9c179e"
            ],
            [
             0.4444444444444444,
             "#bd3786"
            ],
            [
             0.5555555555555556,
             "#d8576b"
            ],
            [
             0.6666666666666666,
             "#ed7953"
            ],
            [
             0.7777777777777778,
             "#fb9f3a"
            ],
            [
             0.8888888888888888,
             "#fdca26"
            ],
            [
             1,
             "#f0f921"
            ]
           ],
           "sequentialminus": [
            [
             0,
             "#0d0887"
            ],
            [
             0.1111111111111111,
             "#46039f"
            ],
            [
             0.2222222222222222,
             "#7201a8"
            ],
            [
             0.3333333333333333,
             "#9c179e"
            ],
            [
             0.4444444444444444,
             "#bd3786"
            ],
            [
             0.5555555555555556,
             "#d8576b"
            ],
            [
             0.6666666666666666,
             "#ed7953"
            ],
            [
             0.7777777777777778,
             "#fb9f3a"
            ],
            [
             0.8888888888888888,
             "#fdca26"
            ],
            [
             1,
             "#f0f921"
            ]
           ]
          },
          "colorway": [
           "#636efa",
           "#EF553B",
           "#00cc96",
           "#ab63fa",
           "#FFA15A",
           "#19d3f3",
           "#FF6692",
           "#B6E880",
           "#FF97FF",
           "#FECB52"
          ],
          "font": {
           "color": "#2a3f5f"
          },
          "geo": {
           "bgcolor": "white",
           "lakecolor": "white",
           "landcolor": "#E5ECF6",
           "showlakes": true,
           "showland": true,
           "subunitcolor": "white"
          },
          "hoverlabel": {
           "align": "left"
          },
          "hovermode": "closest",
          "mapbox": {
           "style": "light"
          },
          "paper_bgcolor": "white",
          "plot_bgcolor": "#E5ECF6",
          "polar": {
           "angularaxis": {
            "gridcolor": "white",
            "linecolor": "white",
            "ticks": ""
           },
           "bgcolor": "#E5ECF6",
           "radialaxis": {
            "gridcolor": "white",
            "linecolor": "white",
            "ticks": ""
           }
          },
          "scene": {
           "xaxis": {
            "backgroundcolor": "#E5ECF6",
            "gridcolor": "white",
            "gridwidth": 2,
            "linecolor": "white",
            "showbackground": true,
            "ticks": "",
            "zerolinecolor": "white"
           },
           "yaxis": {
            "backgroundcolor": "#E5ECF6",
            "gridcolor": "white",
            "gridwidth": 2,
            "linecolor": "white",
            "showbackground": true,
            "ticks": "",
            "zerolinecolor": "white"
           },
           "zaxis": {
            "backgroundcolor": "#E5ECF6",
            "gridcolor": "white",
            "gridwidth": 2,
            "linecolor": "white",
            "showbackground": true,
            "ticks": "",
            "zerolinecolor": "white"
           }
          },
          "shapedefaults": {
           "line": {
            "color": "#2a3f5f"
           }
          },
          "ternary": {
           "aaxis": {
            "gridcolor": "white",
            "linecolor": "white",
            "ticks": ""
           },
           "baxis": {
            "gridcolor": "white",
            "linecolor": "white",
            "ticks": ""
           },
           "bgcolor": "#E5ECF6",
           "caxis": {
            "gridcolor": "white",
            "linecolor": "white",
            "ticks": ""
           }
          },
          "title": {
           "x": 0.05
          },
          "xaxis": {
           "automargin": true,
           "gridcolor": "white",
           "linecolor": "white",
           "ticks": "",
           "title": {
            "standoff": 15
           },
           "zerolinecolor": "white",
           "zerolinewidth": 2
          },
          "yaxis": {
           "automargin": true,
           "gridcolor": "white",
           "linecolor": "white",
           "ticks": "",
           "title": {
            "standoff": 15
           },
           "zerolinecolor": "white",
           "zerolinewidth": 2
          }
         }
        },
        "xaxis": {
         "anchor": "y",
         "domain": [
          0,
          1
         ],
         "title": {
          "text": "total_gasto"
         }
        },
        "yaxis": {
         "anchor": "x",
         "domain": [
          0,
          1
         ],
         "title": {
          "text": "count"
         }
        }
       }
      }
     },
     "metadata": {},
     "output_type": "display_data"
    },
    {
     "data": {
      "application/vnd.plotly.v1+json": {
       "config": {
        "plotlyServerURL": "https://plot.ly"
       },
       "data": [
        {
         "alignmentgroup": "True",
         "bingroup": "x",
         "hovertemplate": "cancelou=0.0<br>meses_ultima_interacao=%{x}<br>count=%{y}<extra></extra>",
         "legendgroup": "0.0",
         "marker": {
          "color": "#636efa",
          "pattern": {
           "shape": ""
          }
         },
         "name": "0.0",
         "offsetgroup": "0.0",
         "orientation": "v",
         "showlegend": true,
         "type": "histogram",
         "x": [
          23,
          7,
          11,
          25,
          7,
          6,
          11,
          6,
          8,
          24,
          1,
          11,
          2,
          6,
          3,
          4,
          17,
          8,
          27,
          24,
          24,
          12,
          21,
          18,
          13,
          18,
          13,
          10,
          1,
          28,
          24,
          14,
          20,
          6,
          14,
          13,
          10,
          11,
          6,
          16,
          2,
          30,
          3,
          12,
          7,
          29,
          28,
          8,
          16,
          10,
          1,
          5,
          30,
          17,
          9,
          15,
          27,
          7,
          22,
          16,
          14,
          27,
          7,
          14,
          5,
          10,
          11,
          26,
          3,
          24,
          13,
          8,
          4,
          10,
          13,
          12,
          7,
          8,
          12,
          5,
          16,
          29,
          3,
          2,
          10,
          18,
          15,
          27,
          12,
          28,
          20,
          3,
          10,
          14,
          16,
          26,
          1,
          25,
          5,
          25,
          1,
          27,
          3,
          30,
          30,
          28,
          30,
          1,
          26,
          25,
          30,
          11,
          21,
          9,
          23,
          3,
          23,
          9,
          21,
          8,
          22,
          27,
          3,
          1,
          15,
          24,
          27,
          19,
          24,
          11,
          6,
          14,
          13,
          26,
          9,
          11,
          1,
          21,
          22,
          23,
          14,
          5,
          24,
          11,
          2,
          8,
          12,
          1,
          12,
          17,
          7,
          21,
          19,
          6,
          4,
          5,
          11,
          8,
          13,
          3,
          5,
          12,
          17,
          2,
          13,
          20,
          17,
          8,
          7,
          15,
          24,
          21,
          1,
          16,
          6,
          30,
          15,
          19,
          12,
          15,
          6,
          20,
          5,
          8,
          25,
          9,
          7,
          22,
          26,
          5,
          2,
          30,
          23,
          7,
          28,
          10,
          1,
          27,
          28,
          4,
          16,
          3,
          5,
          20,
          7,
          3,
          13,
          24,
          26,
          12,
          7,
          2,
          7,
          26,
          2,
          10,
          28,
          15,
          3,
          11,
          6,
          30,
          4,
          19,
          14,
          26,
          18,
          28,
          11,
          11,
          2,
          10,
          19,
          13,
          6,
          13,
          6,
          26,
          12,
          13,
          4,
          11,
          27,
          28,
          12,
          21,
          8,
          6,
          21,
          13,
          19,
          3,
          22,
          30,
          10,
          14,
          12,
          10,
          21,
          27,
          5,
          3,
          29,
          23,
          20,
          23,
          2,
          4,
          9,
          7,
          18,
          14,
          20,
          1,
          12,
          23,
          1,
          23,
          19,
          20,
          3,
          2,
          7,
          25,
          2,
          12,
          4,
          15,
          18,
          4,
          15,
          9,
          24,
          12,
          5,
          29,
          12,
          28,
          4,
          23,
          5,
          12,
          29,
          13,
          7,
          15,
          25,
          30,
          9,
          25,
          14,
          13,
          13,
          7,
          28,
          2,
          8,
          15,
          2,
          9,
          2,
          11,
          4,
          29,
          29,
          12,
          17,
          17,
          5,
          8,
          10,
          4,
          15,
          4,
          1,
          2,
          12,
          11,
          5,
          2,
          5,
          24,
          16,
          5,
          4,
          29,
          15,
          3,
          24,
          13,
          19,
          20,
          12,
          5,
          3,
          13,
          14,
          8,
          6,
          14,
          9,
          6,
          22,
          9,
          20,
          5,
          15,
          3,
          13,
          1,
          12,
          29,
          22,
          14,
          15,
          26,
          6,
          22,
          8,
          2,
          7,
          29,
          7,
          27,
          30,
          7,
          6,
          19,
          2,
          10,
          3,
          25,
          1,
          13,
          6,
          21,
          8,
          9,
          1,
          23,
          3,
          24,
          12,
          21,
          10,
          25,
          2,
          29,
          8,
          28,
          21,
          7,
          5,
          13,
          2,
          15,
          12,
          6,
          12,
          15,
          7,
          18,
          27,
          2,
          30,
          22
         ],
         "xaxis": "x",
         "yaxis": "y"
        },
        {
         "alignmentgroup": "True",
         "bingroup": "x",
         "hovertemplate": "cancelou=1.0<br>meses_ultima_interacao=%{x}<br>count=%{y}<extra></extra>",
         "legendgroup": "1.0",
         "marker": {
          "color": "#EF553B",
          "pattern": {
           "shape": ""
          }
         },
         "name": "1.0",
         "offsetgroup": "1.0",
         "orientation": "v",
         "showlegend": true,
         "type": "histogram",
         "x": [
          29,
          12,
          15,
          28,
          19,
          26,
          12,
          15,
          10,
          27,
          1,
          27,
          14,
          26,
          13,
          8,
          12,
          25,
          22,
          24,
          30,
          11,
          6,
          15,
          17,
          4,
          8,
          12,
          5,
          24,
          12,
          4,
          29,
          13,
          10,
          8,
          15,
          22,
          17,
          12,
          16,
          23,
          10,
          16,
          8,
          6,
          23,
          29,
          20,
          26,
          26,
          3,
          13,
          23,
          21,
          22,
          13,
          18,
          21,
          24,
          17,
          21,
          26,
          26,
          14,
          2,
          8,
          2,
          30,
          20,
          17,
          20,
          5,
          12,
          17,
          7,
          23,
          1,
          17,
          30,
          7,
          27,
          28,
          3,
          13,
          4,
          12,
          6,
          24,
          28,
          24,
          14,
          2,
          28,
          9,
          3,
          17,
          26,
          8,
          24,
          13,
          23,
          6,
          2,
          2,
          11,
          29,
          10,
          16,
          4,
          17,
          20,
          27,
          22,
          7,
          17,
          30,
          10,
          24,
          7,
          14,
          26,
          21,
          15,
          7,
          5,
          25,
          5,
          13,
          30,
          23,
          29,
          9,
          28,
          25,
          18,
          6,
          25,
          1,
          1,
          29,
          24,
          17,
          28,
          15,
          23,
          26,
          20,
          7,
          20,
          21,
          18,
          15,
          5,
          25,
          7,
          19,
          15,
          30,
          5,
          26,
          25,
          5,
          25,
          27,
          26,
          22,
          16,
          16,
          3,
          26,
          11,
          18,
          1,
          4,
          27,
          2,
          30,
          8,
          11,
          3,
          13,
          30,
          25,
          24,
          5,
          26,
          8,
          5,
          20,
          20,
          8,
          18,
          2,
          29,
          26,
          22,
          7,
          2,
          16,
          8,
          23,
          28,
          22,
          14,
          27,
          25,
          6,
          6,
          7,
          21,
          16,
          15,
          18,
          2,
          4,
          16,
          10,
          7,
          30,
          28,
          21,
          16,
          14,
          4,
          17,
          8,
          8,
          26,
          12,
          20,
          21,
          2,
          14,
          22,
          20,
          16,
          15,
          17,
          24,
          4,
          15,
          18,
          14,
          30,
          10,
          28,
          7,
          29,
          30,
          24,
          18,
          29,
          7,
          24,
          19,
          30,
          30,
          21,
          9,
          2,
          21,
          21,
          27,
          7,
          17,
          10,
          14,
          8,
          17,
          17,
          27,
          4,
          7,
          2,
          2,
          1,
          3,
          7,
          6,
          6,
          5,
          22,
          17,
          13,
          2,
          24,
          15,
          15,
          23,
          30,
          26,
          29,
          17,
          4,
          17,
          21,
          5,
          25,
          1,
          14,
          25,
          14,
          19,
          8,
          28,
          28,
          28,
          11,
          13,
          18,
          29,
          26,
          23,
          7,
          16,
          8,
          25,
          3,
          2,
          26,
          30,
          12,
          17,
          4,
          26,
          17,
          24,
          17,
          10,
          25,
          18,
          4,
          9,
          29,
          5,
          24,
          22,
          27,
          16,
          16,
          19,
          2,
          29,
          15,
          18,
          29,
          10,
          20,
          24,
          22,
          24,
          2,
          22,
          21,
          13,
          7,
          25,
          9,
          24,
          14,
          20,
          11,
          26,
          15,
          25,
          17,
          2,
          16,
          25,
          6,
          2,
          30,
          29,
          13,
          26,
          12,
          29,
          7,
          30,
          14,
          21,
          13,
          2,
          12,
          9,
          30,
          9,
          1,
          2,
          1,
          16,
          17,
          4,
          23,
          24,
          19,
          28,
          22,
          18,
          28,
          18,
          18,
          18,
          2,
          7,
          12,
          2,
          7,
          27,
          9,
          7,
          19,
          2,
          29,
          21,
          29,
          8,
          19,
          25,
          29,
          4,
          7,
          27,
          5,
          28,
          25,
          26,
          2,
          15,
          22,
          16,
          25,
          21,
          15,
          24,
          30,
          15,
          16,
          25,
          6,
          23,
          25,
          22,
          23,
          3,
          27,
          28,
          17,
          3,
          25,
          3,
          17,
          8,
          8,
          28,
          10,
          12,
          14,
          16,
          23,
          27,
          4,
          3,
          29,
          27,
          14,
          1,
          19,
          16,
          9,
          19,
          23,
          4,
          15,
          28,
          25,
          17,
          1,
          11,
          20,
          2,
          17,
          13,
          22,
          12,
          7,
          10,
          27,
          11,
          7,
          27,
          11,
          10,
          3,
          28,
          12,
          3,
          26,
          8,
          18,
          6,
          9,
          2,
          17,
          21,
          24,
          26,
          24,
          30,
          12,
          10,
          28,
          24,
          5,
          25,
          19,
          13,
          19,
          11,
          14,
          28,
          23,
          3,
          17,
          8,
          28,
          26,
          29,
          5,
          26,
          9,
          30,
          10,
          15,
          30,
          19,
          3,
          15,
          1,
          22,
          8,
          1,
          29,
          16,
          1,
          18,
          14,
          9,
          14,
          7,
          17,
          12,
          23,
          17,
          15,
          18,
          7,
          12,
          22,
          28,
          2,
          26,
          28,
          24,
          6,
          19,
          24,
          24,
          14
         ],
         "xaxis": "x",
         "yaxis": "y"
        }
       ],
       "layout": {
        "barmode": "relative",
        "legend": {
         "title": {
          "text": "cancelou"
         },
         "tracegroupgap": 0
        },
        "margin": {
         "t": 60
        },
        "template": {
         "data": {
          "bar": [
           {
            "error_x": {
             "color": "#2a3f5f"
            },
            "error_y": {
             "color": "#2a3f5f"
            },
            "marker": {
             "line": {
              "color": "#E5ECF6",
              "width": 0.5
             },
             "pattern": {
              "fillmode": "overlay",
              "size": 10,
              "solidity": 0.2
             }
            },
            "type": "bar"
           }
          ],
          "barpolar": [
           {
            "marker": {
             "line": {
              "color": "#E5ECF6",
              "width": 0.5
             },
             "pattern": {
              "fillmode": "overlay",
              "size": 10,
              "solidity": 0.2
             }
            },
            "type": "barpolar"
           }
          ],
          "carpet": [
           {
            "aaxis": {
             "endlinecolor": "#2a3f5f",
             "gridcolor": "white",
             "linecolor": "white",
             "minorgridcolor": "white",
             "startlinecolor": "#2a3f5f"
            },
            "baxis": {
             "endlinecolor": "#2a3f5f",
             "gridcolor": "white",
             "linecolor": "white",
             "minorgridcolor": "white",
             "startlinecolor": "#2a3f5f"
            },
            "type": "carpet"
           }
          ],
          "choropleth": [
           {
            "colorbar": {
             "outlinewidth": 0,
             "ticks": ""
            },
            "type": "choropleth"
           }
          ],
          "contour": [
           {
            "colorbar": {
             "outlinewidth": 0,
             "ticks": ""
            },
            "colorscale": [
             [
              0,
              "#0d0887"
             ],
             [
              0.1111111111111111,
              "#46039f"
             ],
             [
              0.2222222222222222,
              "#7201a8"
             ],
             [
              0.3333333333333333,
              "#9c179e"
             ],
             [
              0.4444444444444444,
              "#bd3786"
             ],
             [
              0.5555555555555556,
              "#d8576b"
             ],
             [
              0.6666666666666666,
              "#ed7953"
             ],
             [
              0.7777777777777778,
              "#fb9f3a"
             ],
             [
              0.8888888888888888,
              "#fdca26"
             ],
             [
              1,
              "#f0f921"
             ]
            ],
            "type": "contour"
           }
          ],
          "contourcarpet": [
           {
            "colorbar": {
             "outlinewidth": 0,
             "ticks": ""
            },
            "type": "contourcarpet"
           }
          ],
          "heatmap": [
           {
            "colorbar": {
             "outlinewidth": 0,
             "ticks": ""
            },
            "colorscale": [
             [
              0,
              "#0d0887"
             ],
             [
              0.1111111111111111,
              "#46039f"
             ],
             [
              0.2222222222222222,
              "#7201a8"
             ],
             [
              0.3333333333333333,
              "#9c179e"
             ],
             [
              0.4444444444444444,
              "#bd3786"
             ],
             [
              0.5555555555555556,
              "#d8576b"
             ],
             [
              0.6666666666666666,
              "#ed7953"
             ],
             [
              0.7777777777777778,
              "#fb9f3a"
             ],
             [
              0.8888888888888888,
              "#fdca26"
             ],
             [
              1,
              "#f0f921"
             ]
            ],
            "type": "heatmap"
           }
          ],
          "heatmapgl": [
           {
            "colorbar": {
             "outlinewidth": 0,
             "ticks": ""
            },
            "colorscale": [
             [
              0,
              "#0d0887"
             ],
             [
              0.1111111111111111,
              "#46039f"
             ],
             [
              0.2222222222222222,
              "#7201a8"
             ],
             [
              0.3333333333333333,
              "#9c179e"
             ],
             [
              0.4444444444444444,
              "#bd3786"
             ],
             [
              0.5555555555555556,
              "#d8576b"
             ],
             [
              0.6666666666666666,
              "#ed7953"
             ],
             [
              0.7777777777777778,
              "#fb9f3a"
             ],
             [
              0.8888888888888888,
              "#fdca26"
             ],
             [
              1,
              "#f0f921"
             ]
            ],
            "type": "heatmapgl"
           }
          ],
          "histogram": [
           {
            "marker": {
             "pattern": {
              "fillmode": "overlay",
              "size": 10,
              "solidity": 0.2
             }
            },
            "type": "histogram"
           }
          ],
          "histogram2d": [
           {
            "colorbar": {
             "outlinewidth": 0,
             "ticks": ""
            },
            "colorscale": [
             [
              0,
              "#0d0887"
             ],
             [
              0.1111111111111111,
              "#46039f"
             ],
             [
              0.2222222222222222,
              "#7201a8"
             ],
             [
              0.3333333333333333,
              "#9c179e"
             ],
             [
              0.4444444444444444,
              "#bd3786"
             ],
             [
              0.5555555555555556,
              "#d8576b"
             ],
             [
              0.6666666666666666,
              "#ed7953"
             ],
             [
              0.7777777777777778,
              "#fb9f3a"
             ],
             [
              0.8888888888888888,
              "#fdca26"
             ],
             [
              1,
              "#f0f921"
             ]
            ],
            "type": "histogram2d"
           }
          ],
          "histogram2dcontour": [
           {
            "colorbar": {
             "outlinewidth": 0,
             "ticks": ""
            },
            "colorscale": [
             [
              0,
              "#0d0887"
             ],
             [
              0.1111111111111111,
              "#46039f"
             ],
             [
              0.2222222222222222,
              "#7201a8"
             ],
             [
              0.3333333333333333,
              "#9c179e"
             ],
             [
              0.4444444444444444,
              "#bd3786"
             ],
             [
              0.5555555555555556,
              "#d8576b"
             ],
             [
              0.6666666666666666,
              "#ed7953"
             ],
             [
              0.7777777777777778,
              "#fb9f3a"
             ],
             [
              0.8888888888888888,
              "#fdca26"
             ],
             [
              1,
              "#f0f921"
             ]
            ],
            "type": "histogram2dcontour"
           }
          ],
          "mesh3d": [
           {
            "colorbar": {
             "outlinewidth": 0,
             "ticks": ""
            },
            "type": "mesh3d"
           }
          ],
          "parcoords": [
           {
            "line": {
             "colorbar": {
              "outlinewidth": 0,
              "ticks": ""
             }
            },
            "type": "parcoords"
           }
          ],
          "pie": [
           {
            "automargin": true,
            "type": "pie"
           }
          ],
          "scatter": [
           {
            "fillpattern": {
             "fillmode": "overlay",
             "size": 10,
             "solidity": 0.2
            },
            "type": "scatter"
           }
          ],
          "scatter3d": [
           {
            "line": {
             "colorbar": {
              "outlinewidth": 0,
              "ticks": ""
             }
            },
            "marker": {
             "colorbar": {
              "outlinewidth": 0,
              "ticks": ""
             }
            },
            "type": "scatter3d"
           }
          ],
          "scattercarpet": [
           {
            "marker": {
             "colorbar": {
              "outlinewidth": 0,
              "ticks": ""
             }
            },
            "type": "scattercarpet"
           }
          ],
          "scattergeo": [
           {
            "marker": {
             "colorbar": {
              "outlinewidth": 0,
              "ticks": ""
             }
            },
            "type": "scattergeo"
           }
          ],
          "scattergl": [
           {
            "marker": {
             "colorbar": {
              "outlinewidth": 0,
              "ticks": ""
             }
            },
            "type": "scattergl"
           }
          ],
          "scattermapbox": [
           {
            "marker": {
             "colorbar": {
              "outlinewidth": 0,
              "ticks": ""
             }
            },
            "type": "scattermapbox"
           }
          ],
          "scatterpolar": [
           {
            "marker": {
             "colorbar": {
              "outlinewidth": 0,
              "ticks": ""
             }
            },
            "type": "scatterpolar"
           }
          ],
          "scatterpolargl": [
           {
            "marker": {
             "colorbar": {
              "outlinewidth": 0,
              "ticks": ""
             }
            },
            "type": "scatterpolargl"
           }
          ],
          "scatterternary": [
           {
            "marker": {
             "colorbar": {
              "outlinewidth": 0,
              "ticks": ""
             }
            },
            "type": "scatterternary"
           }
          ],
          "surface": [
           {
            "colorbar": {
             "outlinewidth": 0,
             "ticks": ""
            },
            "colorscale": [
             [
              0,
              "#0d0887"
             ],
             [
              0.1111111111111111,
              "#46039f"
             ],
             [
              0.2222222222222222,
              "#7201a8"
             ],
             [
              0.3333333333333333,
              "#9c179e"
             ],
             [
              0.4444444444444444,
              "#bd3786"
             ],
             [
              0.5555555555555556,
              "#d8576b"
             ],
             [
              0.6666666666666666,
              "#ed7953"
             ],
             [
              0.7777777777777778,
              "#fb9f3a"
             ],
             [
              0.8888888888888888,
              "#fdca26"
             ],
             [
              1,
              "#f0f921"
             ]
            ],
            "type": "surface"
           }
          ],
          "table": [
           {
            "cells": {
             "fill": {
              "color": "#EBF0F8"
             },
             "line": {
              "color": "white"
             }
            },
            "header": {
             "fill": {
              "color": "#C8D4E3"
             },
             "line": {
              "color": "white"
             }
            },
            "type": "table"
           }
          ]
         },
         "layout": {
          "annotationdefaults": {
           "arrowcolor": "#2a3f5f",
           "arrowhead": 0,
           "arrowwidth": 1
          },
          "autotypenumbers": "strict",
          "coloraxis": {
           "colorbar": {
            "outlinewidth": 0,
            "ticks": ""
           }
          },
          "colorscale": {
           "diverging": [
            [
             0,
             "#8e0152"
            ],
            [
             0.1,
             "#c51b7d"
            ],
            [
             0.2,
             "#de77ae"
            ],
            [
             0.3,
             "#f1b6da"
            ],
            [
             0.4,
             "#fde0ef"
            ],
            [
             0.5,
             "#f7f7f7"
            ],
            [
             0.6,
             "#e6f5d0"
            ],
            [
             0.7,
             "#b8e186"
            ],
            [
             0.8,
             "#7fbc41"
            ],
            [
             0.9,
             "#4d9221"
            ],
            [
             1,
             "#276419"
            ]
           ],
           "sequential": [
            [
             0,
             "#0d0887"
            ],
            [
             0.1111111111111111,
             "#46039f"
            ],
            [
             0.2222222222222222,
             "#7201a8"
            ],
            [
             0.3333333333333333,
             "#9c179e"
            ],
            [
             0.4444444444444444,
             "#bd3786"
            ],
            [
             0.5555555555555556,
             "#d8576b"
            ],
            [
             0.6666666666666666,
             "#ed7953"
            ],
            [
             0.7777777777777778,
             "#fb9f3a"
            ],
            [
             0.8888888888888888,
             "#fdca26"
            ],
            [
             1,
             "#f0f921"
            ]
           ],
           "sequentialminus": [
            [
             0,
             "#0d0887"
            ],
            [
             0.1111111111111111,
             "#46039f"
            ],
            [
             0.2222222222222222,
             "#7201a8"
            ],
            [
             0.3333333333333333,
             "#9c179e"
            ],
            [
             0.4444444444444444,
             "#bd3786"
            ],
            [
             0.5555555555555556,
             "#d8576b"
            ],
            [
             0.6666666666666666,
             "#ed7953"
            ],
            [
             0.7777777777777778,
             "#fb9f3a"
            ],
            [
             0.8888888888888888,
             "#fdca26"
            ],
            [
             1,
             "#f0f921"
            ]
           ]
          },
          "colorway": [
           "#636efa",
           "#EF553B",
           "#00cc96",
           "#ab63fa",
           "#FFA15A",
           "#19d3f3",
           "#FF6692",
           "#B6E880",
           "#FF97FF",
           "#FECB52"
          ],
          "font": {
           "color": "#2a3f5f"
          },
          "geo": {
           "bgcolor": "white",
           "lakecolor": "white",
           "landcolor": "#E5ECF6",
           "showlakes": true,
           "showland": true,
           "subunitcolor": "white"
          },
          "hoverlabel": {
           "align": "left"
          },
          "hovermode": "closest",
          "mapbox": {
           "style": "light"
          },
          "paper_bgcolor": "white",
          "plot_bgcolor": "#E5ECF6",
          "polar": {
           "angularaxis": {
            "gridcolor": "white",
            "linecolor": "white",
            "ticks": ""
           },
           "bgcolor": "#E5ECF6",
           "radialaxis": {
            "gridcolor": "white",
            "linecolor": "white",
            "ticks": ""
           }
          },
          "scene": {
           "xaxis": {
            "backgroundcolor": "#E5ECF6",
            "gridcolor": "white",
            "gridwidth": 2,
            "linecolor": "white",
            "showbackground": true,
            "ticks": "",
            "zerolinecolor": "white"
           },
           "yaxis": {
            "backgroundcolor": "#E5ECF6",
            "gridcolor": "white",
            "gridwidth": 2,
            "linecolor": "white",
            "showbackground": true,
            "ticks": "",
            "zerolinecolor": "white"
           },
           "zaxis": {
            "backgroundcolor": "#E5ECF6",
            "gridcolor": "white",
            "gridwidth": 2,
            "linecolor": "white",
            "showbackground": true,
            "ticks": "",
            "zerolinecolor": "white"
           }
          },
          "shapedefaults": {
           "line": {
            "color": "#2a3f5f"
           }
          },
          "ternary": {
           "aaxis": {
            "gridcolor": "white",
            "linecolor": "white",
            "ticks": ""
           },
           "baxis": {
            "gridcolor": "white",
            "linecolor": "white",
            "ticks": ""
           },
           "bgcolor": "#E5ECF6",
           "caxis": {
            "gridcolor": "white",
            "linecolor": "white",
            "ticks": ""
           }
          },
          "title": {
           "x": 0.05
          },
          "xaxis": {
           "automargin": true,
           "gridcolor": "white",
           "linecolor": "white",
           "ticks": "",
           "title": {
            "standoff": 15
           },
           "zerolinecolor": "white",
           "zerolinewidth": 2
          },
          "yaxis": {
           "automargin": true,
           "gridcolor": "white",
           "linecolor": "white",
           "ticks": "",
           "title": {
            "standoff": 15
           },
           "zerolinecolor": "white",
           "zerolinewidth": 2
          }
         }
        },
        "xaxis": {
         "anchor": "y",
         "domain": [
          0,
          1
         ],
         "title": {
          "text": "meses_ultima_interacao"
         }
        },
        "yaxis": {
         "anchor": "x",
         "domain": [
          0,
          1
         ],
         "title": {
          "text": "count"
         }
        }
       }
      }
     },
     "metadata": {},
     "output_type": "display_data"
    },
    {
     "data": {
      "application/vnd.plotly.v1+json": {
       "config": {
        "plotlyServerURL": "https://plot.ly"
       },
       "data": [
        {
         "alignmentgroup": "True",
         "bingroup": "x",
         "hovertemplate": "cancelou=%{x}<br>count=%{y}<extra></extra>",
         "legendgroup": "0.0",
         "marker": {
          "color": "#636efa",
          "pattern": {
           "shape": ""
          }
         },
         "name": "0.0",
         "offsetgroup": "0.0",
         "orientation": "v",
         "showlegend": true,
         "type": "histogram",
         "x": [
          0,
          0,
          0,
          0,
          0,
          0,
          0,
          0,
          0,
          0,
          0,
          0,
          0,
          0,
          0,
          0,
          0,
          0,
          0,
          0,
          0,
          0,
          0,
          0,
          0,
          0,
          0,
          0,
          0,
          0,
          0,
          0,
          0,
          0,
          0,
          0,
          0,
          0,
          0,
          0,
          0,
          0,
          0,
          0,
          0,
          0,
          0,
          0,
          0,
          0,
          0,
          0,
          0,
          0,
          0,
          0,
          0,
          0,
          0,
          0,
          0,
          0,
          0,
          0,
          0,
          0,
          0,
          0,
          0,
          0,
          0,
          0,
          0,
          0,
          0,
          0,
          0,
          0,
          0,
          0,
          0,
          0,
          0,
          0,
          0,
          0,
          0,
          0,
          0,
          0,
          0,
          0,
          0,
          0,
          0,
          0,
          0,
          0,
          0,
          0,
          0,
          0,
          0,
          0,
          0,
          0,
          0,
          0,
          0,
          0,
          0,
          0,
          0,
          0,
          0,
          0,
          0,
          0,
          0,
          0,
          0,
          0,
          0,
          0,
          0,
          0,
          0,
          0,
          0,
          0,
          0,
          0,
          0,
          0,
          0,
          0,
          0,
          0,
          0,
          0,
          0,
          0,
          0,
          0,
          0,
          0,
          0,
          0,
          0,
          0,
          0,
          0,
          0,
          0,
          0,
          0,
          0,
          0,
          0,
          0,
          0,
          0,
          0,
          0,
          0,
          0,
          0,
          0,
          0,
          0,
          0,
          0,
          0,
          0,
          0,
          0,
          0,
          0,
          0,
          0,
          0,
          0,
          0,
          0,
          0,
          0,
          0,
          0,
          0,
          0,
          0,
          0,
          0,
          0,
          0,
          0,
          0,
          0,
          0,
          0,
          0,
          0,
          0,
          0,
          0,
          0,
          0,
          0,
          0,
          0,
          0,
          0,
          0,
          0,
          0,
          0,
          0,
          0,
          0,
          0,
          0,
          0,
          0,
          0,
          0,
          0,
          0,
          0,
          0,
          0,
          0,
          0,
          0,
          0,
          0,
          0,
          0,
          0,
          0,
          0,
          0,
          0,
          0,
          0,
          0,
          0,
          0,
          0,
          0,
          0,
          0,
          0,
          0,
          0,
          0,
          0,
          0,
          0,
          0,
          0,
          0,
          0,
          0,
          0,
          0,
          0,
          0,
          0,
          0,
          0,
          0,
          0,
          0,
          0,
          0,
          0,
          0,
          0,
          0,
          0,
          0,
          0,
          0,
          0,
          0,
          0,
          0,
          0,
          0,
          0,
          0,
          0,
          0,
          0,
          0,
          0,
          0,
          0,
          0,
          0,
          0,
          0,
          0,
          0,
          0,
          0,
          0,
          0,
          0,
          0,
          0,
          0,
          0,
          0,
          0,
          0,
          0,
          0,
          0,
          0,
          0,
          0,
          0,
          0,
          0,
          0,
          0,
          0,
          0,
          0,
          0,
          0,
          0,
          0,
          0,
          0,
          0,
          0,
          0,
          0,
          0,
          0,
          0,
          0,
          0,
          0,
          0,
          0,
          0,
          0,
          0,
          0,
          0,
          0,
          0,
          0,
          0,
          0,
          0,
          0,
          0,
          0,
          0,
          0,
          0,
          0,
          0,
          0,
          0,
          0,
          0,
          0,
          0,
          0,
          0,
          0,
          0,
          0,
          0,
          0,
          0,
          0,
          0,
          0,
          0,
          0,
          0,
          0,
          0,
          0,
          0,
          0,
          0,
          0,
          0,
          0,
          0,
          0,
          0,
          0,
          0,
          0,
          0,
          0,
          0,
          0,
          0,
          0,
          0,
          0,
          0,
          0,
          0,
          0,
          0,
          0,
          0,
          0,
          0,
          0,
          0,
          0,
          0,
          0,
          0,
          0
         ],
         "xaxis": "x",
         "yaxis": "y"
        },
        {
         "alignmentgroup": "True",
         "bingroup": "x",
         "hovertemplate": "cancelou=%{x}<br>count=%{y}<extra></extra>",
         "legendgroup": "1.0",
         "marker": {
          "color": "#EF553B",
          "pattern": {
           "shape": ""
          }
         },
         "name": "1.0",
         "offsetgroup": "1.0",
         "orientation": "v",
         "showlegend": true,
         "type": "histogram",
         "x": [
          1,
          1,
          1,
          1,
          1,
          1,
          1,
          1,
          1,
          1,
          1,
          1,
          1,
          1,
          1,
          1,
          1,
          1,
          1,
          1,
          1,
          1,
          1,
          1,
          1,
          1,
          1,
          1,
          1,
          1,
          1,
          1,
          1,
          1,
          1,
          1,
          1,
          1,
          1,
          1,
          1,
          1,
          1,
          1,
          1,
          1,
          1,
          1,
          1,
          1,
          1,
          1,
          1,
          1,
          1,
          1,
          1,
          1,
          1,
          1,
          1,
          1,
          1,
          1,
          1,
          1,
          1,
          1,
          1,
          1,
          1,
          1,
          1,
          1,
          1,
          1,
          1,
          1,
          1,
          1,
          1,
          1,
          1,
          1,
          1,
          1,
          1,
          1,
          1,
          1,
          1,
          1,
          1,
          1,
          1,
          1,
          1,
          1,
          1,
          1,
          1,
          1,
          1,
          1,
          1,
          1,
          1,
          1,
          1,
          1,
          1,
          1,
          1,
          1,
          1,
          1,
          1,
          1,
          1,
          1,
          1,
          1,
          1,
          1,
          1,
          1,
          1,
          1,
          1,
          1,
          1,
          1,
          1,
          1,
          1,
          1,
          1,
          1,
          1,
          1,
          1,
          1,
          1,
          1,
          1,
          1,
          1,
          1,
          1,
          1,
          1,
          1,
          1,
          1,
          1,
          1,
          1,
          1,
          1,
          1,
          1,
          1,
          1,
          1,
          1,
          1,
          1,
          1,
          1,
          1,
          1,
          1,
          1,
          1,
          1,
          1,
          1,
          1,
          1,
          1,
          1,
          1,
          1,
          1,
          1,
          1,
          1,
          1,
          1,
          1,
          1,
          1,
          1,
          1,
          1,
          1,
          1,
          1,
          1,
          1,
          1,
          1,
          1,
          1,
          1,
          1,
          1,
          1,
          1,
          1,
          1,
          1,
          1,
          1,
          1,
          1,
          1,
          1,
          1,
          1,
          1,
          1,
          1,
          1,
          1,
          1,
          1,
          1,
          1,
          1,
          1,
          1,
          1,
          1,
          1,
          1,
          1,
          1,
          1,
          1,
          1,
          1,
          1,
          1,
          1,
          1,
          1,
          1,
          1,
          1,
          1,
          1,
          1,
          1,
          1,
          1,
          1,
          1,
          1,
          1,
          1,
          1,
          1,
          1,
          1,
          1,
          1,
          1,
          1,
          1,
          1,
          1,
          1,
          1,
          1,
          1,
          1,
          1,
          1,
          1,
          1,
          1,
          1,
          1,
          1,
          1,
          1,
          1,
          1,
          1,
          1,
          1,
          1,
          1,
          1,
          1,
          1,
          1,
          1,
          1,
          1,
          1,
          1,
          1,
          1,
          1,
          1,
          1,
          1,
          1,
          1,
          1,
          1,
          1,
          1,
          1,
          1,
          1,
          1,
          1,
          1,
          1,
          1,
          1,
          1,
          1,
          1,
          1,
          1,
          1,
          1,
          1,
          1,
          1,
          1,
          1,
          1,
          1,
          1,
          1,
          1,
          1,
          1,
          1,
          1,
          1,
          1,
          1,
          1,
          1,
          1,
          1,
          1,
          1,
          1,
          1,
          1,
          1,
          1,
          1,
          1,
          1,
          1,
          1,
          1,
          1,
          1,
          1,
          1,
          1,
          1,
          1,
          1,
          1,
          1,
          1,
          1,
          1,
          1,
          1,
          1,
          1,
          1,
          1,
          1,
          1,
          1,
          1,
          1,
          1,
          1,
          1,
          1,
          1,
          1,
          1,
          1,
          1,
          1,
          1,
          1,
          1,
          1,
          1,
          1,
          1,
          1,
          1,
          1,
          1,
          1,
          1,
          1,
          1,
          1,
          1,
          1,
          1,
          1,
          1,
          1,
          1,
          1,
          1,
          1,
          1,
          1,
          1,
          1,
          1,
          1,
          1,
          1,
          1,
          1,
          1,
          1,
          1,
          1,
          1,
          1,
          1,
          1,
          1,
          1,
          1,
          1,
          1,
          1,
          1,
          1,
          1,
          1,
          1,
          1,
          1,
          1,
          1,
          1,
          1,
          1,
          1,
          1,
          1,
          1,
          1,
          1,
          1,
          1,
          1,
          1,
          1,
          1,
          1,
          1,
          1,
          1,
          1,
          1,
          1,
          1,
          1,
          1,
          1,
          1,
          1,
          1,
          1,
          1,
          1,
          1,
          1,
          1,
          1,
          1,
          1,
          1,
          1,
          1,
          1,
          1,
          1,
          1,
          1,
          1,
          1,
          1,
          1,
          1,
          1,
          1,
          1,
          1,
          1,
          1,
          1,
          1,
          1,
          1,
          1,
          1,
          1,
          1,
          1,
          1,
          1,
          1,
          1,
          1,
          1,
          1,
          1,
          1,
          1,
          1,
          1,
          1,
          1,
          1,
          1,
          1,
          1,
          1,
          1,
          1,
          1,
          1,
          1,
          1,
          1,
          1,
          1,
          1,
          1,
          1,
          1,
          1,
          1,
          1,
          1,
          1,
          1,
          1,
          1,
          1,
          1,
          1,
          1,
          1,
          1
         ],
         "xaxis": "x",
         "yaxis": "y"
        }
       ],
       "layout": {
        "barmode": "relative",
        "legend": {
         "title": {
          "text": "cancelou"
         },
         "tracegroupgap": 0
        },
        "margin": {
         "t": 60
        },
        "template": {
         "data": {
          "bar": [
           {
            "error_x": {
             "color": "#2a3f5f"
            },
            "error_y": {
             "color": "#2a3f5f"
            },
            "marker": {
             "line": {
              "color": "#E5ECF6",
              "width": 0.5
             },
             "pattern": {
              "fillmode": "overlay",
              "size": 10,
              "solidity": 0.2
             }
            },
            "type": "bar"
           }
          ],
          "barpolar": [
           {
            "marker": {
             "line": {
              "color": "#E5ECF6",
              "width": 0.5
             },
             "pattern": {
              "fillmode": "overlay",
              "size": 10,
              "solidity": 0.2
             }
            },
            "type": "barpolar"
           }
          ],
          "carpet": [
           {
            "aaxis": {
             "endlinecolor": "#2a3f5f",
             "gridcolor": "white",
             "linecolor": "white",
             "minorgridcolor": "white",
             "startlinecolor": "#2a3f5f"
            },
            "baxis": {
             "endlinecolor": "#2a3f5f",
             "gridcolor": "white",
             "linecolor": "white",
             "minorgridcolor": "white",
             "startlinecolor": "#2a3f5f"
            },
            "type": "carpet"
           }
          ],
          "choropleth": [
           {
            "colorbar": {
             "outlinewidth": 0,
             "ticks": ""
            },
            "type": "choropleth"
           }
          ],
          "contour": [
           {
            "colorbar": {
             "outlinewidth": 0,
             "ticks": ""
            },
            "colorscale": [
             [
              0,
              "#0d0887"
             ],
             [
              0.1111111111111111,
              "#46039f"
             ],
             [
              0.2222222222222222,
              "#7201a8"
             ],
             [
              0.3333333333333333,
              "#9c179e"
             ],
             [
              0.4444444444444444,
              "#bd3786"
             ],
             [
              0.5555555555555556,
              "#d8576b"
             ],
             [
              0.6666666666666666,
              "#ed7953"
             ],
             [
              0.7777777777777778,
              "#fb9f3a"
             ],
             [
              0.8888888888888888,
              "#fdca26"
             ],
             [
              1,
              "#f0f921"
             ]
            ],
            "type": "contour"
           }
          ],
          "contourcarpet": [
           {
            "colorbar": {
             "outlinewidth": 0,
             "ticks": ""
            },
            "type": "contourcarpet"
           }
          ],
          "heatmap": [
           {
            "colorbar": {
             "outlinewidth": 0,
             "ticks": ""
            },
            "colorscale": [
             [
              0,
              "#0d0887"
             ],
             [
              0.1111111111111111,
              "#46039f"
             ],
             [
              0.2222222222222222,
              "#7201a8"
             ],
             [
              0.3333333333333333,
              "#9c179e"
             ],
             [
              0.4444444444444444,
              "#bd3786"
             ],
             [
              0.5555555555555556,
              "#d8576b"
             ],
             [
              0.6666666666666666,
              "#ed7953"
             ],
             [
              0.7777777777777778,
              "#fb9f3a"
             ],
             [
              0.8888888888888888,
              "#fdca26"
             ],
             [
              1,
              "#f0f921"
             ]
            ],
            "type": "heatmap"
           }
          ],
          "heatmapgl": [
           {
            "colorbar": {
             "outlinewidth": 0,
             "ticks": ""
            },
            "colorscale": [
             [
              0,
              "#0d0887"
             ],
             [
              0.1111111111111111,
              "#46039f"
             ],
             [
              0.2222222222222222,
              "#7201a8"
             ],
             [
              0.3333333333333333,
              "#9c179e"
             ],
             [
              0.4444444444444444,
              "#bd3786"
             ],
             [
              0.5555555555555556,
              "#d8576b"
             ],
             [
              0.6666666666666666,
              "#ed7953"
             ],
             [
              0.7777777777777778,
              "#fb9f3a"
             ],
             [
              0.8888888888888888,
              "#fdca26"
             ],
             [
              1,
              "#f0f921"
             ]
            ],
            "type": "heatmapgl"
           }
          ],
          "histogram": [
           {
            "marker": {
             "pattern": {
              "fillmode": "overlay",
              "size": 10,
              "solidity": 0.2
             }
            },
            "type": "histogram"
           }
          ],
          "histogram2d": [
           {
            "colorbar": {
             "outlinewidth": 0,
             "ticks": ""
            },
            "colorscale": [
             [
              0,
              "#0d0887"
             ],
             [
              0.1111111111111111,
              "#46039f"
             ],
             [
              0.2222222222222222,
              "#7201a8"
             ],
             [
              0.3333333333333333,
              "#9c179e"
             ],
             [
              0.4444444444444444,
              "#bd3786"
             ],
             [
              0.5555555555555556,
              "#d8576b"
             ],
             [
              0.6666666666666666,
              "#ed7953"
             ],
             [
              0.7777777777777778,
              "#fb9f3a"
             ],
             [
              0.8888888888888888,
              "#fdca26"
             ],
             [
              1,
              "#f0f921"
             ]
            ],
            "type": "histogram2d"
           }
          ],
          "histogram2dcontour": [
           {
            "colorbar": {
             "outlinewidth": 0,
             "ticks": ""
            },
            "colorscale": [
             [
              0,
              "#0d0887"
             ],
             [
              0.1111111111111111,
              "#46039f"
             ],
             [
              0.2222222222222222,
              "#7201a8"
             ],
             [
              0.3333333333333333,
              "#9c179e"
             ],
             [
              0.4444444444444444,
              "#bd3786"
             ],
             [
              0.5555555555555556,
              "#d8576b"
             ],
             [
              0.6666666666666666,
              "#ed7953"
             ],
             [
              0.7777777777777778,
              "#fb9f3a"
             ],
             [
              0.8888888888888888,
              "#fdca26"
             ],
             [
              1,
              "#f0f921"
             ]
            ],
            "type": "histogram2dcontour"
           }
          ],
          "mesh3d": [
           {
            "colorbar": {
             "outlinewidth": 0,
             "ticks": ""
            },
            "type": "mesh3d"
           }
          ],
          "parcoords": [
           {
            "line": {
             "colorbar": {
              "outlinewidth": 0,
              "ticks": ""
             }
            },
            "type": "parcoords"
           }
          ],
          "pie": [
           {
            "automargin": true,
            "type": "pie"
           }
          ],
          "scatter": [
           {
            "fillpattern": {
             "fillmode": "overlay",
             "size": 10,
             "solidity": 0.2
            },
            "type": "scatter"
           }
          ],
          "scatter3d": [
           {
            "line": {
             "colorbar": {
              "outlinewidth": 0,
              "ticks": ""
             }
            },
            "marker": {
             "colorbar": {
              "outlinewidth": 0,
              "ticks": ""
             }
            },
            "type": "scatter3d"
           }
          ],
          "scattercarpet": [
           {
            "marker": {
             "colorbar": {
              "outlinewidth": 0,
              "ticks": ""
             }
            },
            "type": "scattercarpet"
           }
          ],
          "scattergeo": [
           {
            "marker": {
             "colorbar": {
              "outlinewidth": 0,
              "ticks": ""
             }
            },
            "type": "scattergeo"
           }
          ],
          "scattergl": [
           {
            "marker": {
             "colorbar": {
              "outlinewidth": 0,
              "ticks": ""
             }
            },
            "type": "scattergl"
           }
          ],
          "scattermapbox": [
           {
            "marker": {
             "colorbar": {
              "outlinewidth": 0,
              "ticks": ""
             }
            },
            "type": "scattermapbox"
           }
          ],
          "scatterpolar": [
           {
            "marker": {
             "colorbar": {
              "outlinewidth": 0,
              "ticks": ""
             }
            },
            "type": "scatterpolar"
           }
          ],
          "scatterpolargl": [
           {
            "marker": {
             "colorbar": {
              "outlinewidth": 0,
              "ticks": ""
             }
            },
            "type": "scatterpolargl"
           }
          ],
          "scatterternary": [
           {
            "marker": {
             "colorbar": {
              "outlinewidth": 0,
              "ticks": ""
             }
            },
            "type": "scatterternary"
           }
          ],
          "surface": [
           {
            "colorbar": {
             "outlinewidth": 0,
             "ticks": ""
            },
            "colorscale": [
             [
              0,
              "#0d0887"
             ],
             [
              0.1111111111111111,
              "#46039f"
             ],
             [
              0.2222222222222222,
              "#7201a8"
             ],
             [
              0.3333333333333333,
              "#9c179e"
             ],
             [
              0.4444444444444444,
              "#bd3786"
             ],
             [
              0.5555555555555556,
              "#d8576b"
             ],
             [
              0.6666666666666666,
              "#ed7953"
             ],
             [
              0.7777777777777778,
              "#fb9f3a"
             ],
             [
              0.8888888888888888,
              "#fdca26"
             ],
             [
              1,
              "#f0f921"
             ]
            ],
            "type": "surface"
           }
          ],
          "table": [
           {
            "cells": {
             "fill": {
              "color": "#EBF0F8"
             },
             "line": {
              "color": "white"
             }
            },
            "header": {
             "fill": {
              "color": "#C8D4E3"
             },
             "line": {
              "color": "white"
             }
            },
            "type": "table"
           }
          ]
         },
         "layout": {
          "annotationdefaults": {
           "arrowcolor": "#2a3f5f",
           "arrowhead": 0,
           "arrowwidth": 1
          },
          "autotypenumbers": "strict",
          "coloraxis": {
           "colorbar": {
            "outlinewidth": 0,
            "ticks": ""
           }
          },
          "colorscale": {
           "diverging": [
            [
             0,
             "#8e0152"
            ],
            [
             0.1,
             "#c51b7d"
            ],
            [
             0.2,
             "#de77ae"
            ],
            [
             0.3,
             "#f1b6da"
            ],
            [
             0.4,
             "#fde0ef"
            ],
            [
             0.5,
             "#f7f7f7"
            ],
            [
             0.6,
             "#e6f5d0"
            ],
            [
             0.7,
             "#b8e186"
            ],
            [
             0.8,
             "#7fbc41"
            ],
            [
             0.9,
             "#4d9221"
            ],
            [
             1,
             "#276419"
            ]
           ],
           "sequential": [
            [
             0,
             "#0d0887"
            ],
            [
             0.1111111111111111,
             "#46039f"
            ],
            [
             0.2222222222222222,
             "#7201a8"
            ],
            [
             0.3333333333333333,
             "#9c179e"
            ],
            [
             0.4444444444444444,
             "#bd3786"
            ],
            [
             0.5555555555555556,
             "#d8576b"
            ],
            [
             0.6666666666666666,
             "#ed7953"
            ],
            [
             0.7777777777777778,
             "#fb9f3a"
            ],
            [
             0.8888888888888888,
             "#fdca26"
            ],
            [
             1,
             "#f0f921"
            ]
           ],
           "sequentialminus": [
            [
             0,
             "#0d0887"
            ],
            [
             0.1111111111111111,
             "#46039f"
            ],
            [
             0.2222222222222222,
             "#7201a8"
            ],
            [
             0.3333333333333333,
             "#9c179e"
            ],
            [
             0.4444444444444444,
             "#bd3786"
            ],
            [
             0.5555555555555556,
             "#d8576b"
            ],
            [
             0.6666666666666666,
             "#ed7953"
            ],
            [
             0.7777777777777778,
             "#fb9f3a"
            ],
            [
             0.8888888888888888,
             "#fdca26"
            ],
            [
             1,
             "#f0f921"
            ]
           ]
          },
          "colorway": [
           "#636efa",
           "#EF553B",
           "#00cc96",
           "#ab63fa",
           "#FFA15A",
           "#19d3f3",
           "#FF6692",
           "#B6E880",
           "#FF97FF",
           "#FECB52"
          ],
          "font": {
           "color": "#2a3f5f"
          },
          "geo": {
           "bgcolor": "white",
           "lakecolor": "white",
           "landcolor": "#E5ECF6",
           "showlakes": true,
           "showland": true,
           "subunitcolor": "white"
          },
          "hoverlabel": {
           "align": "left"
          },
          "hovermode": "closest",
          "mapbox": {
           "style": "light"
          },
          "paper_bgcolor": "white",
          "plot_bgcolor": "#E5ECF6",
          "polar": {
           "angularaxis": {
            "gridcolor": "white",
            "linecolor": "white",
            "ticks": ""
           },
           "bgcolor": "#E5ECF6",
           "radialaxis": {
            "gridcolor": "white",
            "linecolor": "white",
            "ticks": ""
           }
          },
          "scene": {
           "xaxis": {
            "backgroundcolor": "#E5ECF6",
            "gridcolor": "white",
            "gridwidth": 2,
            "linecolor": "white",
            "showbackground": true,
            "ticks": "",
            "zerolinecolor": "white"
           },
           "yaxis": {
            "backgroundcolor": "#E5ECF6",
            "gridcolor": "white",
            "gridwidth": 2,
            "linecolor": "white",
            "showbackground": true,
            "ticks": "",
            "zerolinecolor": "white"
           },
           "zaxis": {
            "backgroundcolor": "#E5ECF6",
            "gridcolor": "white",
            "gridwidth": 2,
            "linecolor": "white",
            "showbackground": true,
            "ticks": "",
            "zerolinecolor": "white"
           }
          },
          "shapedefaults": {
           "line": {
            "color": "#2a3f5f"
           }
          },
          "ternary": {
           "aaxis": {
            "gridcolor": "white",
            "linecolor": "white",
            "ticks": ""
           },
           "baxis": {
            "gridcolor": "white",
            "linecolor": "white",
            "ticks": ""
           },
           "bgcolor": "#E5ECF6",
           "caxis": {
            "gridcolor": "white",
            "linecolor": "white",
            "ticks": ""
           }
          },
          "title": {
           "x": 0.05
          },
          "xaxis": {
           "automargin": true,
           "gridcolor": "white",
           "linecolor": "white",
           "ticks": "",
           "title": {
            "standoff": 15
           },
           "zerolinecolor": "white",
           "zerolinewidth": 2
          },
          "yaxis": {
           "automargin": true,
           "gridcolor": "white",
           "linecolor": "white",
           "ticks": "",
           "title": {
            "standoff": 15
           },
           "zerolinecolor": "white",
           "zerolinewidth": 2
          }
         }
        },
        "xaxis": {
         "anchor": "y",
         "categoryarray": [
          0,
          1
         ],
         "categoryorder": "array",
         "domain": [
          0,
          1
         ],
         "title": {
          "text": "cancelou"
         }
        },
        "yaxis": {
         "anchor": "x",
         "domain": [
          0,
          1
         ],
         "title": {
          "text": "count"
         }
        }
       }
      }
     },
     "metadata": {},
     "output_type": "display_data"
    }
   ],
   "source": [
    "# Graphic: Causes of cancellations \"How does data impact the cancellation rate?'\n",
    "\n",
    "\n",
    "# !pip install plotly # -> criação dos graficos a partir da base de dados\n",
    "import plotly.express as px\n",
    "\n",
    "\n",
    "# create graph\n",
    "for coluna in tabela.columns:\n",
    "    grafico = px.histogram(tabela, x=coluna, color=\"cancelou\")\n",
    "\n",
    "    # display the graph \n",
    "    grafico.show()"
   ]
  }
 ],
 "metadata": {
  "kernelspec": {
   "display_name": "base",
   "language": "python",
   "name": "python3"
  },
  "language_info": {
   "codemirror_mode": {
    "name": "ipython",
    "version": 3
   },
   "file_extension": ".py",
   "mimetype": "text/x-python",
   "name": "python",
   "nbconvert_exporter": "python",
   "pygments_lexer": "ipython3",
   "version": "3.12.0"
  },
  "orig_nbformat": 4
 },
 "nbformat": 4,
 "nbformat_minor": 2
}
