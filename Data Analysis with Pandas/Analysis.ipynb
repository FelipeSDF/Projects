{
 "cells": [
  {
   "cell_type": "markdown",
   "metadata": {},
   "source": [
    "## NOTE: All monthly contract customers cancel.\n",
    "### Solution: offer discounts on annual and quarterly plans\n",
    "-\n",
    "## NOTE: customers who call more than 4 times cancel.\n",
    "### Solution: create a process to resolve the customer's problem in a maximum of 3 calls\n",
    "-\n",
    "## NOTE: customers who were more than 20 days late cancelled.\n",
    "### Soulção: policy of resolving delays within 10 days (financial team)\n"
   ]
  }
 ],
 "metadata": {
  "language_info": {
   "name": "python"
  }
 },
 "nbformat": 4,
 "nbformat_minor": 2
}
